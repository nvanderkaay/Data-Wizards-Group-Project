{
 "cells": [
  {
   "cell_type": "code",
   "execution_count": 98,
   "id": "5b6797dd-1064-4714-9836-52dd5f2366d1",
   "metadata": {},
   "outputs": [
    {
     "data": {
      "text/html": [
       "<div>\n",
       "<style scoped>\n",
       "    .dataframe tbody tr th:only-of-type {\n",
       "        vertical-align: middle;\n",
       "    }\n",
       "\n",
       "    .dataframe tbody tr th {\n",
       "        vertical-align: top;\n",
       "    }\n",
       "\n",
       "    .dataframe thead th {\n",
       "        text-align: right;\n",
       "    }\n",
       "</style>\n",
       "<table border=\"1\" class=\"dataframe\">\n",
       "  <thead>\n",
       "    <tr style=\"text-align: right;\">\n",
       "      <th></th>\n",
       "      <th>Year</th>\n",
       "      <th>Make</th>\n",
       "      <th>Model</th>\n",
       "      <th>Used/New</th>\n",
       "      <th>Price</th>\n",
       "      <th>ConsumerRating</th>\n",
       "      <th>ConsumerReviews</th>\n",
       "      <th>SellerType</th>\n",
       "      <th>SellerName</th>\n",
       "      <th>SellerRating</th>\n",
       "      <th>...</th>\n",
       "      <th>InteriorColor</th>\n",
       "      <th>Drivetrain</th>\n",
       "      <th>MinMPG</th>\n",
       "      <th>MaxMPG</th>\n",
       "      <th>FuelType</th>\n",
       "      <th>Transmission</th>\n",
       "      <th>Engine</th>\n",
       "      <th>VIN</th>\n",
       "      <th>Stock#</th>\n",
       "      <th>Mileage</th>\n",
       "    </tr>\n",
       "  </thead>\n",
       "  <tbody>\n",
       "    <tr>\n",
       "      <th>0</th>\n",
       "      <td>2019</td>\n",
       "      <td>Toyota</td>\n",
       "      <td>Sienna SE</td>\n",
       "      <td>Used</td>\n",
       "      <td>39998</td>\n",
       "      <td>4.6</td>\n",
       "      <td>45</td>\n",
       "      <td>Dealer</td>\n",
       "      <td>CarMax Murrieta - Now offering Curbside Pickup...</td>\n",
       "      <td>3.3</td>\n",
       "      <td>...</td>\n",
       "      <td>Black</td>\n",
       "      <td>Front-wheel Drive</td>\n",
       "      <td>19</td>\n",
       "      <td>27</td>\n",
       "      <td>Gasoline</td>\n",
       "      <td>8-Speed Automatic</td>\n",
       "      <td>3.5L V6 24V PDI DOHC</td>\n",
       "      <td>5TDXZ3DC2KS015402</td>\n",
       "      <td>22998646</td>\n",
       "      <td>29403</td>\n",
       "    </tr>\n",
       "    <tr>\n",
       "      <th>1</th>\n",
       "      <td>2018</td>\n",
       "      <td>Ford</td>\n",
       "      <td>F-150 Lariat</td>\n",
       "      <td>Used</td>\n",
       "      <td>49985</td>\n",
       "      <td>4.8</td>\n",
       "      <td>817</td>\n",
       "      <td>Dealer</td>\n",
       "      <td>Giant Chevrolet</td>\n",
       "      <td>4.8</td>\n",
       "      <td>...</td>\n",
       "      <td>Black</td>\n",
       "      <td>Four-wheel Drive</td>\n",
       "      <td>19</td>\n",
       "      <td>24</td>\n",
       "      <td>Gasoline</td>\n",
       "      <td>10-Speed Automatic</td>\n",
       "      <td>3.5L V6 24V PDI DOHC Twin Turbo</td>\n",
       "      <td>1FTEW1EG2JFD44217</td>\n",
       "      <td>22418A</td>\n",
       "      <td>32929</td>\n",
       "    </tr>\n",
       "    <tr>\n",
       "      <th>2</th>\n",
       "      <td>2017</td>\n",
       "      <td>RAM</td>\n",
       "      <td>1500 Laramie</td>\n",
       "      <td>Used</td>\n",
       "      <td>41860</td>\n",
       "      <td>4.7</td>\n",
       "      <td>495</td>\n",
       "      <td>Dealer</td>\n",
       "      <td>Gill Auto Group Madera</td>\n",
       "      <td>4.6</td>\n",
       "      <td>...</td>\n",
       "      <td>Black</td>\n",
       "      <td>Four-wheel Drive</td>\n",
       "      <td>15</td>\n",
       "      <td>21</td>\n",
       "      <td>Gasoline</td>\n",
       "      <td>8-Speed Automatic</td>\n",
       "      <td>5.7L V8 16V MPFI OHV</td>\n",
       "      <td>1C6RR7VT5HS842283</td>\n",
       "      <td>NG277871G</td>\n",
       "      <td>23173</td>\n",
       "    </tr>\n",
       "    <tr>\n",
       "      <th>3</th>\n",
       "      <td>2021</td>\n",
       "      <td>Honda</td>\n",
       "      <td>Accord Sport SE</td>\n",
       "      <td>Used</td>\n",
       "      <td>28500</td>\n",
       "      <td>5.0</td>\n",
       "      <td>36</td>\n",
       "      <td>Dealer</td>\n",
       "      <td>AutoSavvy Las Vegas</td>\n",
       "      <td>4.6</td>\n",
       "      <td>...</td>\n",
       "      <td>–</td>\n",
       "      <td>Front-wheel Drive</td>\n",
       "      <td>29</td>\n",
       "      <td>35</td>\n",
       "      <td>Gasoline</td>\n",
       "      <td>Automatic CVT</td>\n",
       "      <td>1.5L I4 16V GDI DOHC Turbo</td>\n",
       "      <td>1HGCV1F49MA038035</td>\n",
       "      <td>54237</td>\n",
       "      <td>10598</td>\n",
       "    </tr>\n",
       "    <tr>\n",
       "      <th>4</th>\n",
       "      <td>2020</td>\n",
       "      <td>Lexus</td>\n",
       "      <td>RX 350</td>\n",
       "      <td>Used</td>\n",
       "      <td>49000</td>\n",
       "      <td>4.8</td>\n",
       "      <td>76</td>\n",
       "      <td>Dealer</td>\n",
       "      <td>Lexus of Henderson</td>\n",
       "      <td>4.8</td>\n",
       "      <td>...</td>\n",
       "      <td>Birch</td>\n",
       "      <td>Front-wheel Drive</td>\n",
       "      <td>20</td>\n",
       "      <td>27</td>\n",
       "      <td>Gasoline</td>\n",
       "      <td>8-Speed Automatic</td>\n",
       "      <td>3.5L V6 24V PDI DOHC</td>\n",
       "      <td>2T2AZMAA8LC156270</td>\n",
       "      <td>HDT4181A</td>\n",
       "      <td>28137</td>\n",
       "    </tr>\n",
       "  </tbody>\n",
       "</table>\n",
       "<p>5 rows × 32 columns</p>\n",
       "</div>"
      ],
      "text/plain": [
       "   Year    Make            Model Used/New  Price  ConsumerRating  \\\n",
       "0  2019  Toyota        Sienna SE     Used  39998             4.6   \n",
       "1  2018    Ford     F-150 Lariat     Used  49985             4.8   \n",
       "2  2017     RAM     1500 Laramie     Used  41860             4.7   \n",
       "3  2021   Honda  Accord Sport SE     Used  28500             5.0   \n",
       "4  2020   Lexus           RX 350     Used  49000             4.8   \n",
       "\n",
       "   ConsumerReviews SellerType  \\\n",
       "0               45     Dealer   \n",
       "1              817     Dealer   \n",
       "2              495     Dealer   \n",
       "3               36     Dealer   \n",
       "4               76     Dealer   \n",
       "\n",
       "                                          SellerName  SellerRating  ...  \\\n",
       "0  CarMax Murrieta - Now offering Curbside Pickup...           3.3  ...   \n",
       "1                                    Giant Chevrolet           4.8  ...   \n",
       "2                             Gill Auto Group Madera           4.6  ...   \n",
       "3                                AutoSavvy Las Vegas           4.6  ...   \n",
       "4                                 Lexus of Henderson           4.8  ...   \n",
       "\n",
       "   InteriorColor         Drivetrain MinMPG MaxMPG  FuelType  \\\n",
       "0          Black  Front-wheel Drive     19     27  Gasoline   \n",
       "1          Black   Four-wheel Drive     19     24  Gasoline   \n",
       "2          Black   Four-wheel Drive     15     21  Gasoline   \n",
       "3              –  Front-wheel Drive     29     35  Gasoline   \n",
       "4          Birch  Front-wheel Drive     20     27  Gasoline   \n",
       "\n",
       "         Transmission                           Engine                VIN  \\\n",
       "0   8-Speed Automatic             3.5L V6 24V PDI DOHC  5TDXZ3DC2KS015402   \n",
       "1  10-Speed Automatic  3.5L V6 24V PDI DOHC Twin Turbo  1FTEW1EG2JFD44217   \n",
       "2   8-Speed Automatic             5.7L V8 16V MPFI OHV  1C6RR7VT5HS842283   \n",
       "3       Automatic CVT       1.5L I4 16V GDI DOHC Turbo  1HGCV1F49MA038035   \n",
       "4   8-Speed Automatic             3.5L V6 24V PDI DOHC  2T2AZMAA8LC156270   \n",
       "\n",
       "      Stock#  Mileage  \n",
       "0   22998646    29403  \n",
       "1     22418A    32929  \n",
       "2  NG277871G    23173  \n",
       "3      54237    10598  \n",
       "4   HDT4181A    28137  \n",
       "\n",
       "[5 rows x 32 columns]"
      ]
     },
     "execution_count": 98,
     "metadata": {},
     "output_type": "execute_result"
    }
   ],
   "source": [
    "import pandas as pd\n",
    "import numpy as np\n",
    "\n",
    "car_sale = pd.read_csv('Online_Cars_Sale_Marketplace.csv')\n",
    "\n",
    "car_sale = car_sale[car_sale['Price'] != 'Not Priced'] ## remove 'Not Priced' rows\n",
    "car_sale['Price'] = car_sale['Price'].replace(r'[,$]', '', regex=True)  ## remove special characters $ and , \n",
    "car_sale['Price'] = car_sale['Price'].astype(int) ## change column to integer \n",
    "car_sale['Used/New'] = car_sale['Used/New'].replace(r'.*Certified.*', 'Certified', regex=True) ## change all Certified to just Certified\n",
    "car_sale[car_sale['Drivetrain'] != \"-\"] ## remove \"-\" in Drivetrain column\n",
    "Min = car_sale['MinMPG']\n",
    "Max = car_sale['MaxMPG']\n",
    "car_sale['MaxMPG'] = np.maximum(Min, Max)\n",
    "car_sale['MinMPG'] = np.minimum(Min, Max) ## Fix the min and max being in the wrong column\n",
    "car_sale.drop(car_sale[(car_sale['MinMPG'] == 0)&(car_sale['MaxMPG'] == 0)].index, inplace = True) ## remove rows where min and max MPG are 0 \n",
    "car_sale = car_sale.drop_duplicates() ## remove duplicates\n",
    "car_sale.head()"
   ]
  },
  {
   "cell_type": "markdown",
   "id": "09cb703e-744d-488b-80ce-8a2976f2cd15",
   "metadata": {},
   "source": [
    "Is there a premium for dealers selling their cars on this platform compared to the private sellers?"
   ]
  },
  {
   "cell_type": "markdown",
   "id": "cb7a362a-e6be-45eb-9796-ec50c525ee73",
   "metadata": {},
   "source": [
    "Analyze the listing price between private sellers and dealers."
   ]
  },
  {
   "cell_type": "code",
   "execution_count": 102,
   "id": "d5c69b9b-c00a-44dc-af8b-1f322d763eb6",
   "metadata": {},
   "outputs": [],
   "source": [
    "dealer_seller = car_sale[car_sale['SellerType'] == 'Dealer']\n",
    "dealer_amount = len(dealer_seller)\n"
   ]
  },
  {
   "cell_type": "code",
   "execution_count": 104,
   "id": "027d1617-c4bc-4caa-9fb0-4449694c300e",
   "metadata": {},
   "outputs": [],
   "source": [
    "private_seller = car_sale[car_sale['SellerType'] == 'Private']\n",
    "private_amount = len(private_seller)"
   ]
  },
  {
   "cell_type": "code",
   "execution_count": 106,
   "id": "b37601e8-aebe-4abd-8774-a407a4d826fd",
   "metadata": {},
   "outputs": [
    {
     "name": "stdout",
     "output_type": "stream",
     "text": [
      "The average selling price for dealers is: 39874.53004622496\n",
      "The average selling price for private is: 32929.64705882353\n"
     ]
    }
   ],
   "source": [
    "dealer_avg = dealer_seller['Price'].mean()\n",
    "private_avg = private_seller['Price'].mean()\n",
    "print(\"The average selling price for dealers is:\",dealer_avg)\n",
    "print(\"The average selling price for private is:\",private_avg)"
   ]
  },
  {
   "cell_type": "code",
   "execution_count": 108,
   "id": "c60bb18b-9e00-447c-9f78-f2c4f9a2fad3",
   "metadata": {},
   "outputs": [
    {
     "data": {
      "text/plain": [
       "count      8437.000000\n",
       "mean      39874.530046\n",
       "std       20904.923073\n",
       "min        3995.000000\n",
       "25%       28995.000000\n",
       "50%       36047.000000\n",
       "75%       45995.000000\n",
       "max      449996.000000\n",
       "Name: Price, dtype: float64"
      ]
     },
     "execution_count": 108,
     "metadata": {},
     "output_type": "execute_result"
    }
   ],
   "source": [
    "dealer_seller['Price'].describe()"
   ]
  },
  {
   "cell_type": "code",
   "execution_count": 110,
   "id": "e90a9a56-3e84-4c6e-99a7-6e4408ae94ed",
   "metadata": {},
   "outputs": [
    {
     "data": {
      "text/plain": [
       "count        34.000000\n",
       "mean      32929.647059\n",
       "std       22330.977569\n",
       "min        2300.000000\n",
       "25%       21623.750000\n",
       "50%       29450.000000\n",
       "75%       40500.000000\n",
       "max      122222.000000\n",
       "Name: Price, dtype: float64"
      ]
     },
     "execution_count": 110,
     "metadata": {},
     "output_type": "execute_result"
    }
   ],
   "source": [
    "private_seller['Price'].describe()"
   ]
  },
  {
   "cell_type": "markdown",
   "id": "1ab5e257-9e87-46d7-9f38-e422aa7dded5",
   "metadata": {},
   "source": [
    "Based on the data there is a premium when dealers sell their cars on this platform compared to the private sellers\n",
    "\n",
    "The average selling price for dealers is: 39874.53004622496\n",
    "\n",
    "The average selling price for private is: 32929.64705882353\n"
   ]
  },
  {
   "cell_type": "markdown",
   "id": "1d202e49-1857-4406-94bd-74c2f39297d2",
   "metadata": {},
   "source": [
    "How to compare the listing prices apple-to-apple?"
   ]
  },
  {
   "cell_type": "code",
   "execution_count": 133,
   "id": "7c2586c6-6742-4a7d-9367-5280574be6b4",
   "metadata": {},
   "outputs": [],
   "source": [
    "dealer_model = dealer_seller['Model'].unique()"
   ]
  },
  {
   "cell_type": "code",
   "execution_count": 135,
   "id": "1731f167-3498-4543-876d-5f71c1068975",
   "metadata": {},
   "outputs": [],
   "source": [
    "private_model = private_seller['Model'].unique()"
   ]
  },
  {
   "cell_type": "code",
   "execution_count": 137,
   "id": "c671c9e6-258f-47a6-8f97-7d2846c4c820",
   "metadata": {},
   "outputs": [],
   "source": [
    "shared_model = []\n",
    "for model in dealer_model:\n",
    "    if model in private_model:\n",
    "        shared_model.append(model)\n",
    "        "
   ]
  },
  {
   "cell_type": "code",
   "execution_count": 141,
   "id": "c9987f73-a39d-41ea-98e6-ac02cfd8b64d",
   "metadata": {},
   "outputs": [
    {
     "data": {
      "text/plain": [
       "21"
      ]
     },
     "execution_count": 141,
     "metadata": {},
     "output_type": "execute_result"
    }
   ],
   "source": [
    "len(shared_model)"
   ]
  },
  {
   "cell_type": "code",
   "execution_count": 143,
   "id": "0dafc0f2-c84c-4d9a-a613-8abebeb2e850",
   "metadata": {},
   "outputs": [
    {
     "data": {
      "text/plain": [
       "['Accord Sport SE',\n",
       " 'E-Class E 350',\n",
       " 'Odyssey EX-L',\n",
       " 'Explorer Limited',\n",
       " 'CX-5 Grand Touring',\n",
       " 'GLC 300 Base 4MATIC',\n",
       " 'XC90 T6 Momentum',\n",
       " 'GLA 250 Base',\n",
       " 'RAV4 Limited',\n",
       " 'Veloster Turbo',\n",
       " 'F-150 Raptor',\n",
       " 'ES 350 Base',\n",
       " 'Acadia Denali',\n",
       " 'Highlander XLE',\n",
       " '1500 Limited',\n",
       " 'Rover Range Rover Evoque SE Premium',\n",
       " '540 i',\n",
       " 'SL-Class SL500 Roadster',\n",
       " 'MKZ Base',\n",
       " 'Impala LT',\n",
       " 'Romeo Giulia Ti']"
      ]
     },
     "execution_count": 143,
     "metadata": {},
     "output_type": "execute_result"
    }
   ],
   "source": [
    "shared_model"
   ]
  },
  {
   "cell_type": "code",
   "execution_count": 145,
   "id": "e7a79f06-2909-4992-97aa-25e0b1768db1",
   "metadata": {},
   "outputs": [
    {
     "data": {
      "text/html": [
       "<div>\n",
       "<style scoped>\n",
       "    .dataframe tbody tr th:only-of-type {\n",
       "        vertical-align: middle;\n",
       "    }\n",
       "\n",
       "    .dataframe tbody tr th {\n",
       "        vertical-align: top;\n",
       "    }\n",
       "\n",
       "    .dataframe thead th {\n",
       "        text-align: right;\n",
       "    }\n",
       "</style>\n",
       "<table border=\"1\" class=\"dataframe\">\n",
       "  <thead>\n",
       "    <tr style=\"text-align: right;\">\n",
       "      <th></th>\n",
       "      <th>Year</th>\n",
       "      <th>Make</th>\n",
       "      <th>Model</th>\n",
       "      <th>Used/New</th>\n",
       "      <th>Price</th>\n",
       "      <th>ConsumerRating</th>\n",
       "      <th>ConsumerReviews</th>\n",
       "      <th>SellerType</th>\n",
       "      <th>SellerName</th>\n",
       "      <th>SellerRating</th>\n",
       "      <th>...</th>\n",
       "      <th>InteriorColor</th>\n",
       "      <th>Drivetrain</th>\n",
       "      <th>MinMPG</th>\n",
       "      <th>MaxMPG</th>\n",
       "      <th>FuelType</th>\n",
       "      <th>Transmission</th>\n",
       "      <th>Engine</th>\n",
       "      <th>VIN</th>\n",
       "      <th>Stock#</th>\n",
       "      <th>Mileage</th>\n",
       "    </tr>\n",
       "  </thead>\n",
       "  <tbody>\n",
       "    <tr>\n",
       "      <th>3</th>\n",
       "      <td>2021</td>\n",
       "      <td>Honda</td>\n",
       "      <td>Accord Sport SE</td>\n",
       "      <td>Used</td>\n",
       "      <td>28500</td>\n",
       "      <td>5.0</td>\n",
       "      <td>36</td>\n",
       "      <td>Dealer</td>\n",
       "      <td>AutoSavvy Las Vegas</td>\n",
       "      <td>4.6</td>\n",
       "      <td>...</td>\n",
       "      <td>–</td>\n",
       "      <td>Front-wheel Drive</td>\n",
       "      <td>29</td>\n",
       "      <td>35</td>\n",
       "      <td>Gasoline</td>\n",
       "      <td>Automatic CVT</td>\n",
       "      <td>1.5L I4 16V GDI DOHC Turbo</td>\n",
       "      <td>1HGCV1F49MA038035</td>\n",
       "      <td>54237</td>\n",
       "      <td>10598</td>\n",
       "    </tr>\n",
       "  </tbody>\n",
       "</table>\n",
       "<p>1 rows × 32 columns</p>\n",
       "</div>"
      ],
      "text/plain": [
       "   Year   Make            Model Used/New  Price  ConsumerRating  \\\n",
       "3  2021  Honda  Accord Sport SE     Used  28500             5.0   \n",
       "\n",
       "   ConsumerReviews SellerType           SellerName  SellerRating  ...  \\\n",
       "3               36     Dealer  AutoSavvy Las Vegas           4.6  ...   \n",
       "\n",
       "   InteriorColor         Drivetrain MinMPG MaxMPG  FuelType   Transmission  \\\n",
       "3              –  Front-wheel Drive     29     35  Gasoline  Automatic CVT   \n",
       "\n",
       "                       Engine                VIN  Stock#  Mileage  \n",
       "3  1.5L I4 16V GDI DOHC Turbo  1HGCV1F49MA038035   54237    10598  \n",
       "\n",
       "[1 rows x 32 columns]"
      ]
     },
     "execution_count": 145,
     "metadata": {},
     "output_type": "execute_result"
    }
   ],
   "source": [
    "dealer_seller[dealer_seller['Model'] == 'Accord Sport SE']"
   ]
  },
  {
   "cell_type": "code",
   "execution_count": 147,
   "id": "d993e0b0-c8ca-4630-a5b7-214823816ab7",
   "metadata": {},
   "outputs": [
    {
     "data": {
      "text/html": [
       "<div>\n",
       "<style scoped>\n",
       "    .dataframe tbody tr th:only-of-type {\n",
       "        vertical-align: middle;\n",
       "    }\n",
       "\n",
       "    .dataframe tbody tr th {\n",
       "        vertical-align: top;\n",
       "    }\n",
       "\n",
       "    .dataframe thead th {\n",
       "        text-align: right;\n",
       "    }\n",
       "</style>\n",
       "<table border=\"1\" class=\"dataframe\">\n",
       "  <thead>\n",
       "    <tr style=\"text-align: right;\">\n",
       "      <th></th>\n",
       "      <th>Year</th>\n",
       "      <th>Make</th>\n",
       "      <th>Model</th>\n",
       "      <th>Used/New</th>\n",
       "      <th>Price</th>\n",
       "      <th>ConsumerRating</th>\n",
       "      <th>ConsumerReviews</th>\n",
       "      <th>SellerType</th>\n",
       "      <th>SellerName</th>\n",
       "      <th>SellerRating</th>\n",
       "      <th>...</th>\n",
       "      <th>InteriorColor</th>\n",
       "      <th>Drivetrain</th>\n",
       "      <th>MinMPG</th>\n",
       "      <th>MaxMPG</th>\n",
       "      <th>FuelType</th>\n",
       "      <th>Transmission</th>\n",
       "      <th>Engine</th>\n",
       "      <th>VIN</th>\n",
       "      <th>Stock#</th>\n",
       "      <th>Mileage</th>\n",
       "    </tr>\n",
       "  </thead>\n",
       "  <tbody>\n",
       "    <tr>\n",
       "      <th>2428</th>\n",
       "      <td>2017</td>\n",
       "      <td>Honda</td>\n",
       "      <td>Accord Sport SE</td>\n",
       "      <td>Used</td>\n",
       "      <td>18950</td>\n",
       "      <td>4.8</td>\n",
       "      <td>572</td>\n",
       "      <td>Private</td>\n",
       "      <td>Richard</td>\n",
       "      <td>4.5</td>\n",
       "      <td>...</td>\n",
       "      <td>Black</td>\n",
       "      <td>Front-wheel Drive</td>\n",
       "      <td>23</td>\n",
       "      <td>32</td>\n",
       "      <td>Gasoline Fuel</td>\n",
       "      <td>M/T</td>\n",
       "      <td>189.0HP 2.4L 4 Cylinder Engine Gasoline Fuel</td>\n",
       "      <td>1HGCR2E17HA269877</td>\n",
       "      <td>–</td>\n",
       "      <td>72000</td>\n",
       "    </tr>\n",
       "  </tbody>\n",
       "</table>\n",
       "<p>1 rows × 32 columns</p>\n",
       "</div>"
      ],
      "text/plain": [
       "      Year   Make            Model Used/New  Price  ConsumerRating  \\\n",
       "2428  2017  Honda  Accord Sport SE     Used  18950             4.8   \n",
       "\n",
       "      ConsumerReviews SellerType SellerName  SellerRating  ...  InteriorColor  \\\n",
       "2428              572    Private    Richard           4.5  ...          Black   \n",
       "\n",
       "             Drivetrain MinMPG MaxMPG       FuelType  Transmission  \\\n",
       "2428  Front-wheel Drive     23     32  Gasoline Fuel           M/T   \n",
       "\n",
       "                                            Engine                VIN  Stock#  \\\n",
       "2428  189.0HP 2.4L 4 Cylinder Engine Gasoline Fuel  1HGCR2E17HA269877       –   \n",
       "\n",
       "      Mileage  \n",
       "2428    72000  \n",
       "\n",
       "[1 rows x 32 columns]"
      ]
     },
     "execution_count": 147,
     "metadata": {},
     "output_type": "execute_result"
    }
   ],
   "source": [
    "private_seller[private_seller['Model'] == 'Accord Sport SE']"
   ]
  },
  {
   "cell_type": "code",
   "execution_count": null,
   "id": "7e3041b3-1616-488a-8c9f-7728b9df6659",
   "metadata": {},
   "outputs": [],
   "source": []
  }
 ],
 "metadata": {
  "kernelspec": {
   "display_name": "Python [conda env:base] *",
   "language": "python",
   "name": "conda-base-py"
  },
  "language_info": {
   "codemirror_mode": {
    "name": "ipython",
    "version": 3
   },
   "file_extension": ".py",
   "mimetype": "text/x-python",
   "name": "python",
   "nbconvert_exporter": "python",
   "pygments_lexer": "ipython3",
   "version": "3.12.7"
  }
 },
 "nbformat": 4,
 "nbformat_minor": 5
}
