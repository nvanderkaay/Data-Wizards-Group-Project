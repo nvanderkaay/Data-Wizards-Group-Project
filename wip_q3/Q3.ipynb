{
 "cells": [
  {
   "cell_type": "code",
   "execution_count": null,
   "id": "578a9823-b147-441a-9d55-abd6837ee444",
   "metadata": {},
   "outputs": [],
   "source": []
  },
  {
   "cell_type": "code",
   "execution_count": 101,
   "id": "28dc7643-334f-4554-9d3f-be8b67ead083",
   "metadata": {},
   "outputs": [
    {
     "name": "stdout",
     "output_type": "stream",
     "text": [
      "['Year', 'Make', 'Model', 'Used/New', 'Price', 'ConsumerRating', 'ConsumerReviews', 'SellerType', 'SellerName', 'SellerRating', 'SellerReviews', 'StreetName', 'State', 'Zipcode', 'DealType', 'ComfortRating', 'InteriorDesignRating', 'PerformanceRating', 'ValueForMoneyRating', 'ExteriorStylingRating', 'ReliabilityRating', 'ExteriorColor', 'InteriorColor', 'Drivetrain', 'MinMPG', 'MaxMPG', 'FuelType', 'Transmission', 'Engine', 'VIN', 'Stock#', 'Mileage']\n"
     ]
    }
   ],
   "source": [
    "import pandas as pd\n",
    "\n",
    "df = pd.read_csv(\"Online_Cars_Sale_Marketplace.csv\")\n",
    "\n",
    "# Show all column names\n",
    "print(df.columns.tolist())\n"
   ]
  },
  {
   "cell_type": "code",
   "execution_count": 103,
   "id": "af997a8c-aba6-44a0-9bac-2dfccad375c0",
   "metadata": {},
   "outputs": [
    {
     "name": "stdout",
     "output_type": "stream",
     "text": [
      "Original unique values in 'Used/New':\n",
      "['Used' 'Dodge Certified' 'Acura Certified' 'Honda Certified'\n",
      " 'Mercedes-Benz Certified' 'Ford Certified' 'Toyota Certified'\n",
      " 'BMW Certified' 'Porsche Certified' 'Cadillac Certified'\n",
      " 'Volvo Certified' 'Nissan Certified' 'Subaru Certified'\n",
      " 'Volkswagen Certified' 'INFINITI Certified' 'Chevrolet Certified'\n",
      " 'Kia Certified' 'RAM Certified' 'Jeep Certified' 'GMC Certified'\n",
      " 'Buick Certified' 'Alfa Romeo Certified' 'Bentley Certified'\n",
      " 'MINI Certified' 'Ferrari Certified' 'Maserati Certified']\n",
      "\n",
      "Cleaned unique values in 'Used/New':\n",
      "['Used' 'Certified']\n",
      "\n",
      "Count of each Used/New type:\n",
      "Used/New\n",
      "Used         7900\n",
      "Certified    1479\n",
      "Name: count, dtype: int64\n"
     ]
    }
   ],
   "source": [
    "import pandas as pd\n",
    "\n",
    "# Load the dataset\n",
    "df = pd.read_csv(\"Online_Cars_Sale_Marketplace.csv\")\n",
    "\n",
    "# Check the unique values in 'Used/New'\n",
    "print(\"Original unique values in 'Used/New':\")\n",
    "print(df['Used/New'].unique())\n",
    "\n",
    "# Clean the column: normalize certified values\n",
    "df['Used/New'] = df['Used/New'].str.strip()  # remove extra spaces\n",
    "df['Used/New'] = df['Used/New'].replace(\n",
    "    to_replace=r'(?i).*certified.*', value='Certified', regex=True\n",
    ")\n",
    "\n",
    "# Display cleaned categories\n",
    "print(\"\\nCleaned unique values in 'Used/New':\")\n",
    "print(df['Used/New'].unique())\n",
    "\n",
    "# Count how many of each type\n",
    "print(\"\\nCount of each Used/New type:\")\n",
    "print(df['Used/New'].value_counts())\n"
   ]
  },
  {
   "cell_type": "code",
   "execution_count": 105,
   "id": "72f4c3a1-1bb4-49c6-8afc-70826ec4493d",
   "metadata": {},
   "outputs": [
    {
     "name": "stdout",
     "output_type": "stream",
     "text": [
      "Unique values in 'Used/New':\n",
      "['Used' 'Dodge Certified' 'Acura Certified' 'Honda Certified'\n",
      " 'Mercedes-Benz Certified' 'Ford Certified' 'Toyota Certified'\n",
      " 'BMW Certified' 'Porsche Certified' 'Cadillac Certified'\n",
      " 'Volvo Certified' 'Nissan Certified' 'Subaru Certified'\n",
      " 'Volkswagen Certified' 'INFINITI Certified' 'Chevrolet Certified'\n",
      " 'Kia Certified' 'RAM Certified' 'Jeep Certified' 'GMC Certified'\n",
      " 'Buick Certified' 'Alfa Romeo Certified' 'Bentley Certified'\n",
      " 'MINI Certified' 'Ferrari Certified' 'Maserati Certified']\n",
      "\n",
      "Are there any 'New' listings?: False\n",
      "\n",
      "Value counts in 'Used/New':\n",
      "Used/New\n",
      "Used                       7900\n",
      "BMW Certified               247\n",
      "Mercedes-Benz Certified     223\n",
      "Honda Certified             208\n",
      "Toyota Certified            153\n",
      "Cadillac Certified          105\n",
      "Ford Certified               71\n",
      "Subaru Certified             58\n",
      "Jeep Certified               55\n",
      "Nissan Certified             50\n",
      "Acura Certified              47\n",
      "Chevrolet Certified          40\n",
      "INFINITI Certified           34\n",
      "Kia Certified                34\n",
      "Volvo Certified              33\n",
      "Porsche Certified            25\n",
      "RAM Certified                24\n",
      "Buick Certified              20\n",
      "Volkswagen Certified         17\n",
      "GMC Certified                13\n",
      "Dodge Certified              10\n",
      "Alfa Romeo Certified          7\n",
      "Bentley Certified             2\n",
      "MINI Certified                1\n",
      "Ferrari Certified             1\n",
      "Maserati Certified            1\n",
      "Name: count, dtype: int64\n"
     ]
    }
   ],
   "source": [
    "import pandas as pd\n",
    "\n",
    "# Load dataset\n",
    "df = pd.read_csv(\"Online_Cars_Sale_Marketplace.csv\")\n",
    "\n",
    "# Clean and inspect the 'Used/New' column\n",
    "df['Used/New'] = df['Used/New'].str.strip()\n",
    "\n",
    "# Display unique values to confirm presence/absence of 'New'\n",
    "print(\"Unique values in 'Used/New':\")\n",
    "print(df['Used/New'].unique())\n",
    "\n",
    "# Check explicitly if 'New' is in the column\n",
    "has_new = 'New' in df['Used/New'].unique()\n",
    "print(\"\\nAre there any 'New' listings?:\", has_new)\n",
    "\n",
    "# Optional: count all values for clarity\n",
    "print(\"\\nValue counts in 'Used/New':\")\n",
    "print(df['Used/New'].value_counts())\n"
   ]
  },
  {
   "cell_type": "code",
   "execution_count": 107,
   "id": "42faf827-14f5-4eaf-a106-ca1040682d39",
   "metadata": {},
   "outputs": [
    {
     "name": "stdout",
     "output_type": "stream",
     "text": [
      "   State  Used_Car_Listings\n",
      "49    TX               1225\n",
      "10    FL                888\n",
      "6     CA                668\n",
      "16    IL                593\n",
      "37    NY                440\n",
      "11    GA                392\n",
      "3     AZ                344\n",
      "53    VA                340\n",
      "34    NJ                337\n",
      "38    OH                329\n",
      "22    MD                323\n",
      "21    MA                320\n",
      "41    PA                282\n",
      "24    MI                268\n",
      "30    NC                229\n",
      "25    MN                228\n",
      "17    IN                183\n",
      "26    MO                170\n",
      "48    TN                166\n",
      "55    WA                165\n"
     ]
    }
   ],
   "source": [
    "import pandas as pd\n",
    "\n",
    "# Load dataset\n",
    "df = pd.read_csv(\"Online_Cars_Sale_Marketplace.csv\")\n",
    "\n",
    "# Clean 'Used/New' column\n",
    "df['Used/New'] = df['Used/New'].str.strip()\n",
    "df['Used/New'] = df['Used/New'].replace(\n",
    "    to_replace=r'(?i).*certified.*', value='Certified', regex=True\n",
    ")\n",
    "\n",
    "# Filter out rows missing a state or 'Used/New' label\n",
    "df = df.dropna(subset=['Used/New', 'State'])\n",
    "\n",
    "# Keep only listings marked as Used or Certified\n",
    "df_used = df[df['Used/New'].isin(['Used', 'Certified'])].copy()\n",
    "\n",
    "# Combine Certified with Used to treat both as previously owned\n",
    "df_used['Ownership'] = 'Used'\n",
    "\n",
    "# Group by state and count listings\n",
    "used_by_state = df_used.groupby('State').size().reset_index(name='Used_Car_Listings')\n",
    "\n",
    "# Sort in descending order\n",
    "used_by_state_sorted = used_by_state.sort_values(by='Used_Car_Listings', ascending=False)\n",
    "\n",
    "# Show top 10 states\n",
    "print(used_by_state_sorted.head(20))\n"
   ]
  },
  {
   "cell_type": "code",
   "execution_count": 126,
   "id": "f75064b7-a168-400a-a2df-3a884e81b435",
   "metadata": {},
   "outputs": [
    {
     "data": {
      "application/vnd.plotly.v1+json": {
       "config": {
        "plotlyServerURL": "https://plot.ly"
       },
       "data": [
        {
         "coloraxis": "coloraxis",
         "geo": "geo",
         "hovertemplate": "State=%{location}<br>Used_Car_Listings=%{z}<extra></extra>",
         "locationmode": "USA-states",
         "locations": [
          "AK",
          "AL",
          "AR",
          "AZ",
          "AZ-101",
          "Bldg",
          "CA",
          "CO",
          "CT",
          "DE",
          "FL",
          "GA",
          "Glens",
          "HI",
          "IA",
          "ID",
          "IL",
          "IN",
          "KS",
          "KY",
          "LA",
          "MA",
          "MD",
          "ME",
          "MI",
          "MN",
          "MO",
          "MS",
          "MT",
          "Michigan",
          "NC",
          "ND",
          "NE",
          "NH",
          "NJ",
          "NM",
          "NV",
          "NY",
          "OH",
          "OK",
          "OR",
          "PA",
          "RI",
          "RT",
          "SC",
          "SD",
          "SE",
          "Suite",
          "TN",
          "TX",
          "US-12",
          "US-169",
          "UT",
          "VA",
          "VT",
          "WA",
          "WI",
          "WV",
          "WY"
         ],
         "name": "",
         "type": "choropleth",
         "z": [
          1,
          72,
          41,
          344,
          2,
          2,
          668,
          158,
          99,
          13,
          888,
          392,
          1,
          16,
          35,
          28,
          593,
          183,
          81,
          79,
          51,
          320,
          323,
          8,
          268,
          228,
          170,
          23,
          4,
          2,
          229,
          14,
          37,
          80,
          337,
          5,
          93,
          440,
          329,
          45,
          37,
          282,
          35,
          13,
          163,
          23,
          1,
          2,
          166,
          1225,
          1,
          1,
          73,
          340,
          7,
          165,
          127,
          13,
          3
         ]
        }
       ],
       "layout": {
        "coloraxis": {
         "colorbar": {
          "title": {
           "text": "Used_Car_Listings"
          }
         },
         "colorscale": [
          [
           0,
           "rgb(247,251,255)"
          ],
          [
           0.125,
           "rgb(222,235,247)"
          ],
          [
           0.25,
           "rgb(198,219,239)"
          ],
          [
           0.375,
           "rgb(158,202,225)"
          ],
          [
           0.5,
           "rgb(107,174,214)"
          ],
          [
           0.625,
           "rgb(66,146,198)"
          ],
          [
           0.75,
           "rgb(33,113,181)"
          ],
          [
           0.875,
           "rgb(8,81,156)"
          ],
          [
           1,
           "rgb(8,48,107)"
          ]
         ]
        },
        "geo": {
         "center": {},
         "domain": {
          "x": [
           0,
           1
          ],
          "y": [
           0,
           1
          ]
         },
         "scope": "usa"
        },
        "legend": {
         "tracegroupgap": 0
        },
        "margin": {
         "b": 0,
         "l": 0,
         "r": 0,
         "t": 40
        },
        "template": {
         "data": {
          "bar": [
           {
            "error_x": {
             "color": "#2a3f5f"
            },
            "error_y": {
             "color": "#2a3f5f"
            },
            "marker": {
             "line": {
              "color": "#E5ECF6",
              "width": 0.5
             },
             "pattern": {
              "fillmode": "overlay",
              "size": 10,
              "solidity": 0.2
             }
            },
            "type": "bar"
           }
          ],
          "barpolar": [
           {
            "marker": {
             "line": {
              "color": "#E5ECF6",
              "width": 0.5
             },
             "pattern": {
              "fillmode": "overlay",
              "size": 10,
              "solidity": 0.2
             }
            },
            "type": "barpolar"
           }
          ],
          "carpet": [
           {
            "aaxis": {
             "endlinecolor": "#2a3f5f",
             "gridcolor": "white",
             "linecolor": "white",
             "minorgridcolor": "white",
             "startlinecolor": "#2a3f5f"
            },
            "baxis": {
             "endlinecolor": "#2a3f5f",
             "gridcolor": "white",
             "linecolor": "white",
             "minorgridcolor": "white",
             "startlinecolor": "#2a3f5f"
            },
            "type": "carpet"
           }
          ],
          "choropleth": [
           {
            "colorbar": {
             "outlinewidth": 0,
             "ticks": ""
            },
            "type": "choropleth"
           }
          ],
          "contour": [
           {
            "colorbar": {
             "outlinewidth": 0,
             "ticks": ""
            },
            "colorscale": [
             [
              0,
              "#0d0887"
             ],
             [
              0.1111111111111111,
              "#46039f"
             ],
             [
              0.2222222222222222,
              "#7201a8"
             ],
             [
              0.3333333333333333,
              "#9c179e"
             ],
             [
              0.4444444444444444,
              "#bd3786"
             ],
             [
              0.5555555555555556,
              "#d8576b"
             ],
             [
              0.6666666666666666,
              "#ed7953"
             ],
             [
              0.7777777777777778,
              "#fb9f3a"
             ],
             [
              0.8888888888888888,
              "#fdca26"
             ],
             [
              1,
              "#f0f921"
             ]
            ],
            "type": "contour"
           }
          ],
          "contourcarpet": [
           {
            "colorbar": {
             "outlinewidth": 0,
             "ticks": ""
            },
            "type": "contourcarpet"
           }
          ],
          "heatmap": [
           {
            "colorbar": {
             "outlinewidth": 0,
             "ticks": ""
            },
            "colorscale": [
             [
              0,
              "#0d0887"
             ],
             [
              0.1111111111111111,
              "#46039f"
             ],
             [
              0.2222222222222222,
              "#7201a8"
             ],
             [
              0.3333333333333333,
              "#9c179e"
             ],
             [
              0.4444444444444444,
              "#bd3786"
             ],
             [
              0.5555555555555556,
              "#d8576b"
             ],
             [
              0.6666666666666666,
              "#ed7953"
             ],
             [
              0.7777777777777778,
              "#fb9f3a"
             ],
             [
              0.8888888888888888,
              "#fdca26"
             ],
             [
              1,
              "#f0f921"
             ]
            ],
            "type": "heatmap"
           }
          ],
          "heatmapgl": [
           {
            "colorbar": {
             "outlinewidth": 0,
             "ticks": ""
            },
            "colorscale": [
             [
              0,
              "#0d0887"
             ],
             [
              0.1111111111111111,
              "#46039f"
             ],
             [
              0.2222222222222222,
              "#7201a8"
             ],
             [
              0.3333333333333333,
              "#9c179e"
             ],
             [
              0.4444444444444444,
              "#bd3786"
             ],
             [
              0.5555555555555556,
              "#d8576b"
             ],
             [
              0.6666666666666666,
              "#ed7953"
             ],
             [
              0.7777777777777778,
              "#fb9f3a"
             ],
             [
              0.8888888888888888,
              "#fdca26"
             ],
             [
              1,
              "#f0f921"
             ]
            ],
            "type": "heatmapgl"
           }
          ],
          "histogram": [
           {
            "marker": {
             "pattern": {
              "fillmode": "overlay",
              "size": 10,
              "solidity": 0.2
             }
            },
            "type": "histogram"
           }
          ],
          "histogram2d": [
           {
            "colorbar": {
             "outlinewidth": 0,
             "ticks": ""
            },
            "colorscale": [
             [
              0,
              "#0d0887"
             ],
             [
              0.1111111111111111,
              "#46039f"
             ],
             [
              0.2222222222222222,
              "#7201a8"
             ],
             [
              0.3333333333333333,
              "#9c179e"
             ],
             [
              0.4444444444444444,
              "#bd3786"
             ],
             [
              0.5555555555555556,
              "#d8576b"
             ],
             [
              0.6666666666666666,
              "#ed7953"
             ],
             [
              0.7777777777777778,
              "#fb9f3a"
             ],
             [
              0.8888888888888888,
              "#fdca26"
             ],
             [
              1,
              "#f0f921"
             ]
            ],
            "type": "histogram2d"
           }
          ],
          "histogram2dcontour": [
           {
            "colorbar": {
             "outlinewidth": 0,
             "ticks": ""
            },
            "colorscale": [
             [
              0,
              "#0d0887"
             ],
             [
              0.1111111111111111,
              "#46039f"
             ],
             [
              0.2222222222222222,
              "#7201a8"
             ],
             [
              0.3333333333333333,
              "#9c179e"
             ],
             [
              0.4444444444444444,
              "#bd3786"
             ],
             [
              0.5555555555555556,
              "#d8576b"
             ],
             [
              0.6666666666666666,
              "#ed7953"
             ],
             [
              0.7777777777777778,
              "#fb9f3a"
             ],
             [
              0.8888888888888888,
              "#fdca26"
             ],
             [
              1,
              "#f0f921"
             ]
            ],
            "type": "histogram2dcontour"
           }
          ],
          "mesh3d": [
           {
            "colorbar": {
             "outlinewidth": 0,
             "ticks": ""
            },
            "type": "mesh3d"
           }
          ],
          "parcoords": [
           {
            "line": {
             "colorbar": {
              "outlinewidth": 0,
              "ticks": ""
             }
            },
            "type": "parcoords"
           }
          ],
          "pie": [
           {
            "automargin": true,
            "type": "pie"
           }
          ],
          "scatter": [
           {
            "fillpattern": {
             "fillmode": "overlay",
             "size": 10,
             "solidity": 0.2
            },
            "type": "scatter"
           }
          ],
          "scatter3d": [
           {
            "line": {
             "colorbar": {
              "outlinewidth": 0,
              "ticks": ""
             }
            },
            "marker": {
             "colorbar": {
              "outlinewidth": 0,
              "ticks": ""
             }
            },
            "type": "scatter3d"
           }
          ],
          "scattercarpet": [
           {
            "marker": {
             "colorbar": {
              "outlinewidth": 0,
              "ticks": ""
             }
            },
            "type": "scattercarpet"
           }
          ],
          "scattergeo": [
           {
            "marker": {
             "colorbar": {
              "outlinewidth": 0,
              "ticks": ""
             }
            },
            "type": "scattergeo"
           }
          ],
          "scattergl": [
           {
            "marker": {
             "colorbar": {
              "outlinewidth": 0,
              "ticks": ""
             }
            },
            "type": "scattergl"
           }
          ],
          "scattermapbox": [
           {
            "marker": {
             "colorbar": {
              "outlinewidth": 0,
              "ticks": ""
             }
            },
            "type": "scattermapbox"
           }
          ],
          "scatterpolar": [
           {
            "marker": {
             "colorbar": {
              "outlinewidth": 0,
              "ticks": ""
             }
            },
            "type": "scatterpolar"
           }
          ],
          "scatterpolargl": [
           {
            "marker": {
             "colorbar": {
              "outlinewidth": 0,
              "ticks": ""
             }
            },
            "type": "scatterpolargl"
           }
          ],
          "scatterternary": [
           {
            "marker": {
             "colorbar": {
              "outlinewidth": 0,
              "ticks": ""
             }
            },
            "type": "scatterternary"
           }
          ],
          "surface": [
           {
            "colorbar": {
             "outlinewidth": 0,
             "ticks": ""
            },
            "colorscale": [
             [
              0,
              "#0d0887"
             ],
             [
              0.1111111111111111,
              "#46039f"
             ],
             [
              0.2222222222222222,
              "#7201a8"
             ],
             [
              0.3333333333333333,
              "#9c179e"
             ],
             [
              0.4444444444444444,
              "#bd3786"
             ],
             [
              0.5555555555555556,
              "#d8576b"
             ],
             [
              0.6666666666666666,
              "#ed7953"
             ],
             [
              0.7777777777777778,
              "#fb9f3a"
             ],
             [
              0.8888888888888888,
              "#fdca26"
             ],
             [
              1,
              "#f0f921"
             ]
            ],
            "type": "surface"
           }
          ],
          "table": [
           {
            "cells": {
             "fill": {
              "color": "#EBF0F8"
             },
             "line": {
              "color": "white"
             }
            },
            "header": {
             "fill": {
              "color": "#C8D4E3"
             },
             "line": {
              "color": "white"
             }
            },
            "type": "table"
           }
          ]
         },
         "layout": {
          "annotationdefaults": {
           "arrowcolor": "#2a3f5f",
           "arrowhead": 0,
           "arrowwidth": 1
          },
          "autotypenumbers": "strict",
          "coloraxis": {
           "colorbar": {
            "outlinewidth": 0,
            "ticks": ""
           }
          },
          "colorscale": {
           "diverging": [
            [
             0,
             "#8e0152"
            ],
            [
             0.1,
             "#c51b7d"
            ],
            [
             0.2,
             "#de77ae"
            ],
            [
             0.3,
             "#f1b6da"
            ],
            [
             0.4,
             "#fde0ef"
            ],
            [
             0.5,
             "#f7f7f7"
            ],
            [
             0.6,
             "#e6f5d0"
            ],
            [
             0.7,
             "#b8e186"
            ],
            [
             0.8,
             "#7fbc41"
            ],
            [
             0.9,
             "#4d9221"
            ],
            [
             1,
             "#276419"
            ]
           ],
           "sequential": [
            [
             0,
             "#0d0887"
            ],
            [
             0.1111111111111111,
             "#46039f"
            ],
            [
             0.2222222222222222,
             "#7201a8"
            ],
            [
             0.3333333333333333,
             "#9c179e"
            ],
            [
             0.4444444444444444,
             "#bd3786"
            ],
            [
             0.5555555555555556,
             "#d8576b"
            ],
            [
             0.6666666666666666,
             "#ed7953"
            ],
            [
             0.7777777777777778,
             "#fb9f3a"
            ],
            [
             0.8888888888888888,
             "#fdca26"
            ],
            [
             1,
             "#f0f921"
            ]
           ],
           "sequentialminus": [
            [
             0,
             "#0d0887"
            ],
            [
             0.1111111111111111,
             "#46039f"
            ],
            [
             0.2222222222222222,
             "#7201a8"
            ],
            [
             0.3333333333333333,
             "#9c179e"
            ],
            [
             0.4444444444444444,
             "#bd3786"
            ],
            [
             0.5555555555555556,
             "#d8576b"
            ],
            [
             0.6666666666666666,
             "#ed7953"
            ],
            [
             0.7777777777777778,
             "#fb9f3a"
            ],
            [
             0.8888888888888888,
             "#fdca26"
            ],
            [
             1,
             "#f0f921"
            ]
           ]
          },
          "colorway": [
           "#636efa",
           "#EF553B",
           "#00cc96",
           "#ab63fa",
           "#FFA15A",
           "#19d3f3",
           "#FF6692",
           "#B6E880",
           "#FF97FF",
           "#FECB52"
          ],
          "font": {
           "color": "#2a3f5f"
          },
          "geo": {
           "bgcolor": "white",
           "lakecolor": "white",
           "landcolor": "#E5ECF6",
           "showlakes": true,
           "showland": true,
           "subunitcolor": "white"
          },
          "hoverlabel": {
           "align": "left"
          },
          "hovermode": "closest",
          "mapbox": {
           "style": "light"
          },
          "paper_bgcolor": "white",
          "plot_bgcolor": "#E5ECF6",
          "polar": {
           "angularaxis": {
            "gridcolor": "white",
            "linecolor": "white",
            "ticks": ""
           },
           "bgcolor": "#E5ECF6",
           "radialaxis": {
            "gridcolor": "white",
            "linecolor": "white",
            "ticks": ""
           }
          },
          "scene": {
           "xaxis": {
            "backgroundcolor": "#E5ECF6",
            "gridcolor": "white",
            "gridwidth": 2,
            "linecolor": "white",
            "showbackground": true,
            "ticks": "",
            "zerolinecolor": "white"
           },
           "yaxis": {
            "backgroundcolor": "#E5ECF6",
            "gridcolor": "white",
            "gridwidth": 2,
            "linecolor": "white",
            "showbackground": true,
            "ticks": "",
            "zerolinecolor": "white"
           },
           "zaxis": {
            "backgroundcolor": "#E5ECF6",
            "gridcolor": "white",
            "gridwidth": 2,
            "linecolor": "white",
            "showbackground": true,
            "ticks": "",
            "zerolinecolor": "white"
           }
          },
          "shapedefaults": {
           "line": {
            "color": "#2a3f5f"
           }
          },
          "ternary": {
           "aaxis": {
            "gridcolor": "white",
            "linecolor": "white",
            "ticks": ""
           },
           "baxis": {
            "gridcolor": "white",
            "linecolor": "white",
            "ticks": ""
           },
           "bgcolor": "#E5ECF6",
           "caxis": {
            "gridcolor": "white",
            "linecolor": "white",
            "ticks": ""
           }
          },
          "title": {
           "x": 0.05
          },
          "xaxis": {
           "automargin": true,
           "gridcolor": "white",
           "linecolor": "white",
           "ticks": "",
           "title": {
            "standoff": 15
           },
           "zerolinecolor": "white",
           "zerolinewidth": 2
          },
          "yaxis": {
           "automargin": true,
           "gridcolor": "white",
           "linecolor": "white",
           "ticks": "",
           "title": {
            "standoff": 15
           },
           "zerolinecolor": "white",
           "zerolinewidth": 2
          }
         }
        },
        "title": {
         "text": "Used Car Listings by State (Including Certified)"
        }
       }
      },
      "image/png": "[encoded data removed]",
      "text/html": [
       "<div>                            <div id=\"3f6ae26f-747e-420a-98c5-0a58f259ef7c\" class=\"plotly-graph-div\" style=\"height:525px; width:100%;\"></div>            <script type=\"text/javascript\">                require([\"plotly\"], function(Plotly) {                    window.PLOTLYENV=window.PLOTLYENV || {};                                    if (document.getElementById(\"3f6ae26f-747e-420a-98c5-0a58f259ef7c\")) {                    Plotly.newPlot(                        \"3f6ae26f-747e-420a-98c5-0a58f259ef7c\",                        [{\"coloraxis\":\"coloraxis\",\"geo\":\"geo\",\"hovertemplate\":\"State=%{location}\\u003cbr\\u003eUsed_Car_Listings=%{z}\\u003cextra\\u003e\\u003c\\u002fextra\\u003e\",\"locationmode\":\"USA-states\",\"locations\":[\"AK\",\"AL\",\"AR\",\"AZ\",\"AZ-101\",\"Bldg\",\"CA\",\"CO\",\"CT\",\"DE\",\"FL\",\"GA\",\"Glens\",\"HI\",\"IA\",\"ID\",\"IL\",\"IN\",\"KS\",\"KY\",\"LA\",\"MA\",\"MD\",\"ME\",\"MI\",\"MN\",\"MO\",\"MS\",\"MT\",\"Michigan\",\"NC\",\"ND\",\"NE\",\"NH\",\"NJ\",\"NM\",\"NV\",\"NY\",\"OH\",\"OK\",\"OR\",\"PA\",\"RI\",\"RT\",\"SC\",\"SD\",\"SE\",\"Suite\",\"TN\",\"TX\",\"US-12\",\"US-169\",\"UT\",\"VA\",\"VT\",\"WA\",\"WI\",\"WV\",\"WY\"],\"name\":\"\",\"z\":[1,72,41,344,2,2,668,158,99,13,888,392,1,16,35,28,593,183,81,79,51,320,323,8,268,228,170,23,4,2,229,14,37,80,337,5,93,440,329,45,37,282,35,13,163,23,1,2,166,1225,1,1,73,340,7,165,127,13,3],\"type\":\"choropleth\"}],                        {\"template\":{\"data\":{\"histogram2dcontour\":[{\"type\":\"histogram2dcontour\",\"colorbar\":{\"outlinewidth\":0,\"ticks\":\"\"},\"colorscale\":[[0.0,\"#0d0887\"],[0.1111111111111111,\"#46039f\"],[0.2222222222222222,\"#7201a8\"],[0.3333333333333333,\"#9c179e\"],[0.4444444444444444,\"#bd3786\"],[0.5555555555555556,\"#d8576b\"],[0.6666666666666666,\"#ed7953\"],[0.7777777777777778,\"#fb9f3a\"],[0.8888888888888888,\"#fdca26\"],[1.0,\"#f0f921\"]]}],\"choropleth\":[{\"type\":\"choropleth\",\"colorbar\":{\"outlinewidth\":0,\"ticks\":\"\"}}],\"histogram2d\":[{\"type\":\"histogram2d\",\"colorbar\":{\"outlinewidth\":0,\"ticks\":\"\"},\"colorscale\":[[0.0,\"#0d0887\"],[0.1111111111111111,\"#46039f\"],[0.2222222222222222,\"#7201a8\"],[0.3333333333333333,\"#9c179e\"],[0.4444444444444444,\"#bd3786\"],[0.5555555555555556,\"#d8576b\"],[0.6666666666666666,\"#ed7953\"],[0.7777777777777778,\"#fb9f3a\"],[0.8888888888888888,\"#fdca26\"],[1.0,\"#f0f921\"]]}],\"heatmap\":[{\"type\":\"heatmap\",\"colorbar\":{\"outlinewidth\":0,\"ticks\":\"\"},\"colorscale\":[[0.0,\"#0d0887\"],[0.1111111111111111,\"#46039f\"],[0.2222222222222222,\"#7201a8\"],[0.3333333333333333,\"#9c179e\"],[0.4444444444444444,\"#bd3786\"],[0.5555555555555556,\"#d8576b\"],[0.6666666666666666,\"#ed7953\"],[0.7777777777777778,\"#fb9f3a\"],[0.8888888888888888,\"#fdca26\"],[1.0,\"#f0f921\"]]}],\"heatmapgl\":[{\"type\":\"heatmapgl\",\"colorbar\":{\"outlinewidth\":0,\"ticks\":\"\"},\"colorscale\":[[0.0,\"#0d0887\"],[0.1111111111111111,\"#46039f\"],[0.2222222222222222,\"#7201a8\"],[0.3333333333333333,\"#9c179e\"],[0.4444444444444444,\"#bd3786\"],[0.5555555555555556,\"#d8576b\"],[0.6666666666666666,\"#ed7953\"],[0.7777777777777778,\"#fb9f3a\"],[0.8888888888888888,\"#fdca26\"],[1.0,\"#f0f921\"]]}],\"contourcarpet\":[{\"type\":\"contourcarpet\",\"colorbar\":{\"outlinewidth\":0,\"ticks\":\"\"}}],\"contour\":[{\"type\":\"contour\",\"colorbar\":{\"outlinewidth\":0,\"ticks\":\"\"},\"colorscale\":[[0.0,\"#0d0887\"],[0.1111111111111111,\"#46039f\"],[0.2222222222222222,\"#7201a8\"],[0.3333333333333333,\"#9c179e\"],[0.4444444444444444,\"#bd3786\"],[0.5555555555555556,\"#d8576b\"],[0.6666666666666666,\"#ed7953\"],[0.7777777777777778,\"#fb9f3a\"],[0.8888888888888888,\"#fdca26\"],[1.0,\"#f0f921\"]]}],\"surface\":[{\"type\":\"surface\",\"colorbar\":{\"outlinewidth\":0,\"ticks\":\"\"},\"colorscale\":[[0.0,\"#0d0887\"],[0.1111111111111111,\"#46039f\"],[0.2222222222222222,\"#7201a8\"],[0.3333333333333333,\"#9c179e\"],[0.4444444444444444,\"#bd3786\"],[0.5555555555555556,\"#d8576b\"],[0.6666666666666666,\"#ed7953\"],[0.7777777777777778,\"#fb9f3a\"],[0.8888888888888888,\"#fdca26\"],[1.0,\"#f0f921\"]]}],\"mesh3d\":[{\"type\":\"mesh3d\",\"colorbar\":{\"outlinewidth\":0,\"ticks\":\"\"}}],\"scatter\":[{\"fillpattern\":{\"fillmode\":\"overlay\",\"size\":10,\"solidity\":0.2},\"type\":\"scatter\"}],\"parcoords\":[{\"type\":\"parcoords\",\"line\":{\"colorbar\":{\"outlinewidth\":0,\"ticks\":\"\"}}}],\"scatterpolargl\":[{\"type\":\"scatterpolargl\",\"marker\":{\"colorbar\":{\"outlinewidth\":0,\"ticks\":\"\"}}}],\"bar\":[{\"error_x\":{\"color\":\"#2a3f5f\"},\"error_y\":{\"color\":\"#2a3f5f\"},\"marker\":{\"line\":{\"color\":\"#E5ECF6\",\"width\":0.5},\"pattern\":{\"fillmode\":\"overlay\",\"size\":10,\"solidity\":0.2}},\"type\":\"bar\"}],\"scattergeo\":[{\"type\":\"scattergeo\",\"marker\":{\"colorbar\":{\"outlinewidth\":0,\"ticks\":\"\"}}}],\"scatterpolar\":[{\"type\":\"scatterpolar\",\"marker\":{\"colorbar\":{\"outlinewidth\":0,\"ticks\":\"\"}}}],\"histogram\":[{\"marker\":{\"pattern\":{\"fillmode\":\"overlay\",\"size\":10,\"solidity\":0.2}},\"type\":\"histogram\"}],\"scattergl\":[{\"type\":\"scattergl\",\"marker\":{\"colorbar\":{\"outlinewidth\":0,\"ticks\":\"\"}}}],\"scatter3d\":[{\"type\":\"scatter3d\",\"line\":{\"colorbar\":{\"outlinewidth\":0,\"ticks\":\"\"}},\"marker\":{\"colorbar\":{\"outlinewidth\":0,\"ticks\":\"\"}}}],\"scattermapbox\":[{\"type\":\"scattermapbox\",\"marker\":{\"colorbar\":{\"outlinewidth\":0,\"ticks\":\"\"}}}],\"scatterternary\":[{\"type\":\"scatterternary\",\"marker\":{\"colorbar\":{\"outlinewidth\":0,\"ticks\":\"\"}}}],\"scattercarpet\":[{\"type\":\"scattercarpet\",\"marker\":{\"colorbar\":{\"outlinewidth\":0,\"ticks\":\"\"}}}],\"carpet\":[{\"aaxis\":{\"endlinecolor\":\"#2a3f5f\",\"gridcolor\":\"white\",\"linecolor\":\"white\",\"minorgridcolor\":\"white\",\"startlinecolor\":\"#2a3f5f\"},\"baxis\":{\"endlinecolor\":\"#2a3f5f\",\"gridcolor\":\"white\",\"linecolor\":\"white\",\"minorgridcolor\":\"white\",\"startlinecolor\":\"#2a3f5f\"},\"type\":\"carpet\"}],\"table\":[{\"cells\":{\"fill\":{\"color\":\"#EBF0F8\"},\"line\":{\"color\":\"white\"}},\"header\":{\"fill\":{\"color\":\"#C8D4E3\"},\"line\":{\"color\":\"white\"}},\"type\":\"table\"}],\"barpolar\":[{\"marker\":{\"line\":{\"color\":\"#E5ECF6\",\"width\":0.5},\"pattern\":{\"fillmode\":\"overlay\",\"size\":10,\"solidity\":0.2}},\"type\":\"barpolar\"}],\"pie\":[{\"automargin\":true,\"type\":\"pie\"}]},\"layout\":{\"autotypenumbers\":\"strict\",\"colorway\":[\"#636efa\",\"#EF553B\",\"#00cc96\",\"#ab63fa\",\"#FFA15A\",\"#19d3f3\",\"#FF6692\",\"#B6E880\",\"#FF97FF\",\"#FECB52\"],\"font\":{\"color\":\"#2a3f5f\"},\"hovermode\":\"closest\",\"hoverlabel\":{\"align\":\"left\"},\"paper_bgcolor\":\"white\",\"plot_bgcolor\":\"#E5ECF6\",\"polar\":{\"bgcolor\":\"#E5ECF6\",\"angularaxis\":{\"gridcolor\":\"white\",\"linecolor\":\"white\",\"ticks\":\"\"},\"radialaxis\":{\"gridcolor\":\"white\",\"linecolor\":\"white\",\"ticks\":\"\"}},\"ternary\":{\"bgcolor\":\"#E5ECF6\",\"aaxis\":{\"gridcolor\":\"white\",\"linecolor\":\"white\",\"ticks\":\"\"},\"baxis\":{\"gridcolor\":\"white\",\"linecolor\":\"white\",\"ticks\":\"\"},\"caxis\":{\"gridcolor\":\"white\",\"linecolor\":\"white\",\"ticks\":\"\"}},\"coloraxis\":{\"colorbar\":{\"outlinewidth\":0,\"ticks\":\"\"}},\"colorscale\":{\"sequential\":[[0.0,\"#0d0887\"],[0.1111111111111111,\"#46039f\"],[0.2222222222222222,\"#7201a8\"],[0.3333333333333333,\"#9c179e\"],[0.4444444444444444,\"#bd3786\"],[0.5555555555555556,\"#d8576b\"],[0.6666666666666666,\"#ed7953\"],[0.7777777777777778,\"#fb9f3a\"],[0.8888888888888888,\"#fdca26\"],[1.0,\"#f0f921\"]],\"sequentialminus\":[[0.0,\"#0d0887\"],[0.1111111111111111,\"#46039f\"],[0.2222222222222222,\"#7201a8\"],[0.3333333333333333,\"#9c179e\"],[0.4444444444444444,\"#bd3786\"],[0.5555555555555556,\"#d8576b\"],[0.6666666666666666,\"#ed7953\"],[0.7777777777777778,\"#fb9f3a\"],[0.8888888888888888,\"#fdca26\"],[1.0,\"#f0f921\"]],\"diverging\":[[0,\"#8e0152\"],[0.1,\"#c51b7d\"],[0.2,\"#de77ae\"],[0.3,\"#f1b6da\"],[0.4,\"#fde0ef\"],[0.5,\"#f7f7f7\"],[0.6,\"#e6f5d0\"],[0.7,\"#b8e186\"],[0.8,\"#7fbc41\"],[0.9,\"#4d9221\"],[1,\"#276419\"]]},\"xaxis\":{\"gridcolor\":\"white\",\"linecolor\":\"white\",\"ticks\":\"\",\"title\":{\"standoff\":15},\"zerolinecolor\":\"white\",\"automargin\":true,\"zerolinewidth\":2},\"yaxis\":{\"gridcolor\":\"white\",\"linecolor\":\"white\",\"ticks\":\"\",\"title\":{\"standoff\":15},\"zerolinecolor\":\"white\",\"automargin\":true,\"zerolinewidth\":2},\"scene\":{\"xaxis\":{\"backgroundcolor\":\"#E5ECF6\",\"gridcolor\":\"white\",\"linecolor\":\"white\",\"showbackground\":true,\"ticks\":\"\",\"zerolinecolor\":\"white\",\"gridwidth\":2},\"yaxis\":{\"backgroundcolor\":\"#E5ECF6\",\"gridcolor\":\"white\",\"linecolor\":\"white\",\"showbackground\":true,\"ticks\":\"\",\"zerolinecolor\":\"white\",\"gridwidth\":2},\"zaxis\":{\"backgroundcolor\":\"#E5ECF6\",\"gridcolor\":\"white\",\"linecolor\":\"white\",\"showbackground\":true,\"ticks\":\"\",\"zerolinecolor\":\"white\",\"gridwidth\":2}},\"shapedefaults\":{\"line\":{\"color\":\"#2a3f5f\"}},\"annotationdefaults\":{\"arrowcolor\":\"#2a3f5f\",\"arrowhead\":0,\"arrowwidth\":1},\"geo\":{\"bgcolor\":\"white\",\"landcolor\":\"#E5ECF6\",\"subunitcolor\":\"white\",\"showland\":true,\"showlakes\":true,\"lakecolor\":\"white\"},\"title\":{\"x\":0.05},\"mapbox\":{\"style\":\"light\"}}},\"geo\":{\"domain\":{\"x\":[0.0,1.0],\"y\":[0.0,1.0]},\"center\":{},\"scope\":\"usa\"},\"coloraxis\":{\"colorbar\":{\"title\":{\"text\":\"Used_Car_Listings\"}},\"colorscale\":[[0.0,\"rgb(247,251,255)\"],[0.125,\"rgb(222,235,247)\"],[0.25,\"rgb(198,219,239)\"],[0.375,\"rgb(158,202,225)\"],[0.5,\"rgb(107,174,214)\"],[0.625,\"rgb(66,146,198)\"],[0.75,\"rgb(33,113,181)\"],[0.875,\"rgb(8,81,156)\"],[1.0,\"rgb(8,48,107)\"]]},\"legend\":{\"tracegroupgap\":0},\"title\":{\"text\":\"Used Car Listings by State (Including Certified)\"},\"margin\":{\"r\":0,\"t\":40,\"l\":0,\"b\":0}},                        {\"responsive\": true}                    ).then(function(){\n",
       "                            \n",
       "var gd = document.getElementById('3f6ae26f-747e-420a-98c5-0a58f259ef7c');\n",
       "var x = new MutationObserver(function (mutations, observer) {{\n",
       "        var display = window.getComputedStyle(gd).display;\n",
       "        if (!display || display === 'none') {{\n",
       "            console.log([gd, 'removed!']);\n",
       "            Plotly.purge(gd);\n",
       "            observer.disconnect();\n",
       "        }}\n",
       "}});\n",
       "\n",
       "// Listen for the removal of the full notebook cells\n",
       "var notebookContainer = gd.closest('#notebook-container');\n",
       "if (notebookContainer) {{\n",
       "    x.observe(notebookContainer, {childList: true});\n",
       "}}\n",
       "\n",
       "// Listen for the clearing of the current output cell\n",
       "var outputEl = gd.closest('.output');\n",
       "if (outputEl) {{\n",
       "    x.observe(outputEl, {childList: true});\n",
       "}}\n",
       "\n",
       "                        })                };                });            </script>        </div>"
      ]
     },
     "metadata": {},
     "output_type": "display_data"
    }
   ],
   "source": [
    "import pandas as pd\n",
    "import plotly.express as px\n",
    "\n",
    "# Load dataset\n",
    "df = pd.read_csv(\"Online_Cars_Sale_Marketplace.csv\")\n",
    "\n",
    "# Clean 'Used/New' column\n",
    "df['Used/New'] = df['Used/New'].str.strip()\n",
    "df['Used/New'] = df['Used/New'].replace(r'(?i).*certified.*', 'Certified', regex=True)\n",
    "\n",
    "# Filter out missing state or listing type\n",
    "df = df.dropna(subset=['Used/New', 'State'])\n",
    "df_used = df[df['Used/New'].isin(['Used', 'Certified'])].copy()\n",
    "df_used['Ownership'] = 'Used'\n",
    "\n",
    "# Group by state\n",
    "used_by_state = df_used.groupby('State').size().reset_index(name='Used_Car_Listings')\n",
    "\n",
    "# ✅ Create U.S. state map\n",
    "fig = px.choropleth(\n",
    "    used_by_state,\n",
    "    locations='State',             # column with state codes (e.g. TX, CA)\n",
    "    locationmode='USA-states',     # tells plotly to treat 'State' as state abbreviations\n",
    "    color='Used_Car_Listings',     # variable to color by\n",
    "    scope='usa',                   # limit map to USA\n",
    "    color_continuous_scale='Blues',  # color scale\n",
    "    title='Used Car Listings by State (Including Certified)'\n",
    ")\n",
    "\n",
    "fig.update_layout(margin={\"r\":0,\"t\":40,\"l\":0,\"b\":0})\n",
    "fig.show()\n",
    "\n"
   ]
  },
  {
   "cell_type": "code",
   "execution_count": 128,
   "id": "0fa58718-3a4c-47dc-9ffb-2c0f3ec831a6",
   "metadata": {},
   "outputs": [
    {
     "data": {
      "application/vnd.plotly.v1+json": {
       "config": {
        "plotlyServerURL": "https://plot.ly"
       },
       "data": [
        {
         "coloraxis": "coloraxis",
         "customdata": [
          [
           1,
           0,
           1,
           "AK"
          ],
          [
           62,
           10,
           72,
           "AL"
          ],
          [
           40,
           1,
           41,
           "AR"
          ],
          [
           283,
           61,
           344,
           "AZ"
          ],
          [
           2,
           0,
           2,
           "AZ-101"
          ],
          [
           2,
           0,
           2,
           "Bldg"
          ],
          [
           554,
           114,
           668,
           "CA"
          ],
          [
           131,
           27,
           158,
           "CO"
          ],
          [
           69,
           30,
           99,
           "CT"
          ],
          [
           9,
           4,
           13,
           "DE"
          ],
          [
           731,
           157,
           888,
           "FL"
          ],
          [
           354,
           38,
           392,
           "GA"
          ],
          [
           1,
           0,
           1,
           "Glens"
          ],
          [
           7,
           9,
           16,
           "HI"
          ],
          [
           28,
           7,
           35,
           "IA"
          ],
          [
           24,
           4,
           28,
           "ID"
          ],
          [
           504,
           89,
           593,
           "IL"
          ],
          [
           153,
           30,
           183,
           "IN"
          ],
          [
           80,
           1,
           81,
           "KS"
          ],
          [
           68,
           11,
           79,
           "KY"
          ],
          [
           47,
           4,
           51,
           "LA"
          ],
          [
           252,
           68,
           320,
           "MA"
          ],
          [
           289,
           34,
           323,
           "MD"
          ],
          [
           4,
           4,
           8,
           "ME"
          ],
          [
           183,
           85,
           268,
           "MI"
          ],
          [
           183,
           45,
           228,
           "MN"
          ],
          [
           126,
           44,
           170,
           "MO"
          ],
          [
           19,
           4,
           23,
           "MS"
          ],
          [
           3,
           1,
           4,
           "MT"
          ],
          [
           2,
           0,
           2,
           "Michigan"
          ],
          [
           204,
           25,
           229,
           "NC"
          ],
          [
           13,
           1,
           14,
           "ND"
          ],
          [
           33,
           4,
           37,
           "NE"
          ],
          [
           58,
           22,
           80,
           "NH"
          ],
          [
           290,
           47,
           337,
           "NJ"
          ],
          [
           3,
           2,
           5,
           "NM"
          ],
          [
           75,
           18,
           93,
           "NV"
          ],
          [
           357,
           83,
           440,
           "NY"
          ],
          [
           288,
           41,
           329,
           "OH"
          ],
          [
           37,
           8,
           45,
           "OK"
          ],
          [
           33,
           4,
           37,
           "OR"
          ],
          [
           227,
           55,
           282,
           "PA"
          ],
          [
           31,
           4,
           35,
           "RI"
          ],
          [
           10,
           3,
           13,
           "RT"
          ],
          [
           147,
           16,
           163,
           "SC"
          ],
          [
           23,
           0,
           23,
           "SD"
          ],
          [
           1,
           0,
           1,
           "SE"
          ],
          [
           2,
           0,
           2,
           "Suite"
          ],
          [
           155,
           11,
           166,
           "TN"
          ],
          [
           1069,
           156,
           1225,
           "TX"
          ],
          [
           1,
           0,
           1,
           "US-12"
          ],
          [
           1,
           0,
           1,
           "US-169"
          ],
          [
           72,
           1,
           73,
           "UT"
          ],
          [
           290,
           50,
           340,
           "VA"
          ],
          [
           4,
           3,
           7,
           "VT"
          ],
          [
           151,
           14,
           165,
           "WA"
          ],
          [
           99,
           28,
           127,
           "WI"
          ],
          [
           12,
           1,
           13,
           "WV"
          ],
          [
           3,
           0,
           3,
           "WY"
          ]
         ],
         "geo": "geo",
         "hovertemplate": "<b>%{hovertext}</b><br><br>Used=%{customdata[0]}<br>Certified=%{customdata[1]}<br>Total=%{z}<extra></extra>",
         "hovertext": [
          "AK",
          "AL",
          "AR",
          "AZ",
          "AZ-101",
          "Bldg",
          "CA",
          "CO",
          "CT",
          "DE",
          "FL",
          "GA",
          "Glens",
          "HI",
          "IA",
          "ID",
          "IL",
          "IN",
          "KS",
          "KY",
          "LA",
          "MA",
          "MD",
          "ME",
          "MI",
          "MN",
          "MO",
          "MS",
          "MT",
          "Michigan",
          "NC",
          "ND",
          "NE",
          "NH",
          "NJ",
          "NM",
          "NV",
          "NY",
          "OH",
          "OK",
          "OR",
          "PA",
          "RI",
          "RT",
          "SC",
          "SD",
          "SE",
          "Suite",
          "TN",
          "TX",
          "US-12",
          "US-169",
          "UT",
          "VA",
          "VT",
          "WA",
          "WI",
          "WV",
          "WY"
         ],
         "locationmode": "USA-states",
         "locations": [
          "AK",
          "AL",
          "AR",
          "AZ",
          "AZ-101",
          "Bldg",
          "CA",
          "CO",
          "CT",
          "DE",
          "FL",
          "GA",
          "Glens",
          "HI",
          "IA",
          "ID",
          "IL",
          "IN",
          "KS",
          "KY",
          "LA",
          "MA",
          "MD",
          "ME",
          "MI",
          "MN",
          "MO",
          "MS",
          "MT",
          "Michigan",
          "NC",
          "ND",
          "NE",
          "NH",
          "NJ",
          "NM",
          "NV",
          "NY",
          "OH",
          "OK",
          "OR",
          "PA",
          "RI",
          "RT",
          "SC",
          "SD",
          "SE",
          "Suite",
          "TN",
          "TX",
          "US-12",
          "US-169",
          "UT",
          "VA",
          "VT",
          "WA",
          "WI",
          "WV",
          "WY"
         ],
         "name": "",
         "type": "choropleth",
         "z": [
          1,
          72,
          41,
          344,
          2,
          2,
          668,
          158,
          99,
          13,
          888,
          392,
          1,
          16,
          35,
          28,
          593,
          183,
          81,
          79,
          51,
          320,
          323,
          8,
          268,
          228,
          170,
          23,
          4,
          2,
          229,
          14,
          37,
          80,
          337,
          5,
          93,
          440,
          329,
          45,
          37,
          282,
          35,
          13,
          163,
          23,
          1,
          2,
          166,
          1225,
          1,
          1,
          73,
          340,
          7,
          165,
          127,
          13,
          3
         ]
        }
       ],
       "layout": {
        "coloraxis": {
         "colorbar": {
          "title": {
           "text": "Total"
          }
         },
         "colorscale": [
          [
           0,
           "rgb(247,251,255)"
          ],
          [
           0.125,
           "rgb(222,235,247)"
          ],
          [
           0.25,
           "rgb(198,219,239)"
          ],
          [
           0.375,
           "rgb(158,202,225)"
          ],
          [
           0.5,
           "rgb(107,174,214)"
          ],
          [
           0.625,
           "rgb(66,146,198)"
          ],
          [
           0.75,
           "rgb(33,113,181)"
          ],
          [
           0.875,
           "rgb(8,81,156)"
          ],
          [
           1,
           "rgb(8,48,107)"
          ]
         ]
        },
        "geo": {
         "center": {},
         "domain": {
          "x": [
           0,
           1
          ],
          "y": [
           0,
           1
          ]
         },
         "scope": "usa"
        },
        "legend": {
         "tracegroupgap": 0
        },
        "margin": {
         "b": 0,
         "l": 0,
         "r": 0,
         "t": 40
        },
        "template": {
         "data": {
          "bar": [
           {
            "error_x": {
             "color": "#2a3f5f"
            },
            "error_y": {
             "color": "#2a3f5f"
            },
            "marker": {
             "line": {
              "color": "#E5ECF6",
              "width": 0.5
             },
             "pattern": {
              "fillmode": "overlay",
              "size": 10,
              "solidity": 0.2
             }
            },
            "type": "bar"
           }
          ],
          "barpolar": [
           {
            "marker": {
             "line": {
              "color": "#E5ECF6",
              "width": 0.5
             },
             "pattern": {
              "fillmode": "overlay",
              "size": 10,
              "solidity": 0.2
             }
            },
            "type": "barpolar"
           }
          ],
          "carpet": [
           {
            "aaxis": {
             "endlinecolor": "#2a3f5f",
             "gridcolor": "white",
             "linecolor": "white",
             "minorgridcolor": "white",
             "startlinecolor": "#2a3f5f"
            },
            "baxis": {
             "endlinecolor": "#2a3f5f",
             "gridcolor": "white",
             "linecolor": "white",
             "minorgridcolor": "white",
             "startlinecolor": "#2a3f5f"
            },
            "type": "carpet"
           }
          ],
          "choropleth": [
           {
            "colorbar": {
             "outlinewidth": 0,
             "ticks": ""
            },
            "type": "choropleth"
           }
          ],
          "contour": [
           {
            "colorbar": {
             "outlinewidth": 0,
             "ticks": ""
            },
            "colorscale": [
             [
              0,
              "#0d0887"
             ],
             [
              0.1111111111111111,
              "#46039f"
             ],
             [
              0.2222222222222222,
              "#7201a8"
             ],
             [
              0.3333333333333333,
              "#9c179e"
             ],
             [
              0.4444444444444444,
              "#bd3786"
             ],
             [
              0.5555555555555556,
              "#d8576b"
             ],
             [
              0.6666666666666666,
              "#ed7953"
             ],
             [
              0.7777777777777778,
              "#fb9f3a"
             ],
             [
              0.8888888888888888,
              "#fdca26"
             ],
             [
              1,
              "#f0f921"
             ]
            ],
            "type": "contour"
           }
          ],
          "contourcarpet": [
           {
            "colorbar": {
             "outlinewidth": 0,
             "ticks": ""
            },
            "type": "contourcarpet"
           }
          ],
          "heatmap": [
           {
            "colorbar": {
             "outlinewidth": 0,
             "ticks": ""
            },
            "colorscale": [
             [
              0,
              "#0d0887"
             ],
             [
              0.1111111111111111,
              "#46039f"
             ],
             [
              0.2222222222222222,
              "#7201a8"
             ],
             [
              0.3333333333333333,
              "#9c179e"
             ],
             [
              0.4444444444444444,
              "#bd3786"
             ],
             [
              0.5555555555555556,
              "#d8576b"
             ],
             [
              0.6666666666666666,
              "#ed7953"
             ],
             [
              0.7777777777777778,
              "#fb9f3a"
             ],
             [
              0.8888888888888888,
              "#fdca26"
             ],
             [
              1,
              "#f0f921"
             ]
            ],
            "type": "heatmap"
           }
          ],
          "heatmapgl": [
           {
            "colorbar": {
             "outlinewidth": 0,
             "ticks": ""
            },
            "colorscale": [
             [
              0,
              "#0d0887"
             ],
             [
              0.1111111111111111,
              "#46039f"
             ],
             [
              0.2222222222222222,
              "#7201a8"
             ],
             [
              0.3333333333333333,
              "#9c179e"
             ],
             [
              0.4444444444444444,
              "#bd3786"
             ],
             [
              0.5555555555555556,
              "#d8576b"
             ],
             [
              0.6666666666666666,
              "#ed7953"
             ],
             [
              0.7777777777777778,
              "#fb9f3a"
             ],
             [
              0.8888888888888888,
              "#fdca26"
             ],
             [
              1,
              "#f0f921"
             ]
            ],
            "type": "heatmapgl"
           }
          ],
          "histogram": [
           {
            "marker": {
             "pattern": {
              "fillmode": "overlay",
              "size": 10,
              "solidity": 0.2
             }
            },
            "type": "histogram"
           }
          ],
          "histogram2d": [
           {
            "colorbar": {
             "outlinewidth": 0,
             "ticks": ""
            },
            "colorscale": [
             [
              0,
              "#0d0887"
             ],
             [
              0.1111111111111111,
              "#46039f"
             ],
             [
              0.2222222222222222,
              "#7201a8"
             ],
             [
              0.3333333333333333,
              "#9c179e"
             ],
             [
              0.4444444444444444,
              "#bd3786"
             ],
             [
              0.5555555555555556,
              "#d8576b"
             ],
             [
              0.6666666666666666,
              "#ed7953"
             ],
             [
              0.7777777777777778,
              "#fb9f3a"
             ],
             [
              0.8888888888888888,
              "#fdca26"
             ],
             [
              1,
              "#f0f921"
             ]
            ],
            "type": "histogram2d"
           }
          ],
          "histogram2dcontour": [
           {
            "colorbar": {
             "outlinewidth": 0,
             "ticks": ""
            },
            "colorscale": [
             [
              0,
              "#0d0887"
             ],
             [
              0.1111111111111111,
              "#46039f"
             ],
             [
              0.2222222222222222,
              "#7201a8"
             ],
             [
              0.3333333333333333,
              "#9c179e"
             ],
             [
              0.4444444444444444,
              "#bd3786"
             ],
             [
              0.5555555555555556,
              "#d8576b"
             ],
             [
              0.6666666666666666,
              "#ed7953"
             ],
             [
              0.7777777777777778,
              "#fb9f3a"
             ],
             [
              0.8888888888888888,
              "#fdca26"
             ],
             [
              1,
              "#f0f921"
             ]
            ],
            "type": "histogram2dcontour"
           }
          ],
          "mesh3d": [
           {
            "colorbar": {
             "outlinewidth": 0,
             "ticks": ""
            },
            "type": "mesh3d"
           }
          ],
          "parcoords": [
           {
            "line": {
             "colorbar": {
              "outlinewidth": 0,
              "ticks": ""
             }
            },
            "type": "parcoords"
           }
          ],
          "pie": [
           {
            "automargin": true,
            "type": "pie"
           }
          ],
          "scatter": [
           {
            "fillpattern": {
             "fillmode": "overlay",
             "size": 10,
             "solidity": 0.2
            },
            "type": "scatter"
           }
          ],
          "scatter3d": [
           {
            "line": {
             "colorbar": {
              "outlinewidth": 0,
              "ticks": ""
             }
            },
            "marker": {
             "colorbar": {
              "outlinewidth": 0,
              "ticks": ""
             }
            },
            "type": "scatter3d"
           }
          ],
          "scattercarpet": [
           {
            "marker": {
             "colorbar": {
              "outlinewidth": 0,
              "ticks": ""
             }
            },
            "type": "scattercarpet"
           }
          ],
          "scattergeo": [
           {
            "marker": {
             "colorbar": {
              "outlinewidth": 0,
              "ticks": ""
             }
            },
            "type": "scattergeo"
           }
          ],
          "scattergl": [
           {
            "marker": {
             "colorbar": {
              "outlinewidth": 0,
              "ticks": ""
             }
            },
            "type": "scattergl"
           }
          ],
          "scattermapbox": [
           {
            "marker": {
             "colorbar": {
              "outlinewidth": 0,
              "ticks": ""
             }
            },
            "type": "scattermapbox"
           }
          ],
          "scatterpolar": [
           {
            "marker": {
             "colorbar": {
              "outlinewidth": 0,
              "ticks": ""
             }
            },
            "type": "scatterpolar"
           }
          ],
          "scatterpolargl": [
           {
            "marker": {
             "colorbar": {
              "outlinewidth": 0,
              "ticks": ""
             }
            },
            "type": "scatterpolargl"
           }
          ],
          "scatterternary": [
           {
            "marker": {
             "colorbar": {
              "outlinewidth": 0,
              "ticks": ""
             }
            },
            "type": "scatterternary"
           }
          ],
          "surface": [
           {
            "colorbar": {
             "outlinewidth": 0,
             "ticks": ""
            },
            "colorscale": [
             [
              0,
              "#0d0887"
             ],
             [
              0.1111111111111111,
              "#46039f"
             ],
             [
              0.2222222222222222,
              "#7201a8"
             ],
             [
              0.3333333333333333,
              "#9c179e"
             ],
             [
              0.4444444444444444,
              "#bd3786"
             ],
             [
              0.5555555555555556,
              "#d8576b"
             ],
             [
              0.6666666666666666,
              "#ed7953"
             ],
             [
              0.7777777777777778,
              "#fb9f3a"
             ],
             [
              0.8888888888888888,
              "#fdca26"
             ],
             [
              1,
              "#f0f921"
             ]
            ],
            "type": "surface"
           }
          ],
          "table": [
           {
            "cells": {
             "fill": {
              "color": "#EBF0F8"
             },
             "line": {
              "color": "white"
             }
            },
            "header": {
             "fill": {
              "color": "#C8D4E3"
             },
             "line": {
              "color": "white"
             }
            },
            "type": "table"
           }
          ]
         },
         "layout": {
          "annotationdefaults": {
           "arrowcolor": "#2a3f5f",
           "arrowhead": 0,
           "arrowwidth": 1
          },
          "autotypenumbers": "strict",
          "coloraxis": {
           "colorbar": {
            "outlinewidth": 0,
            "ticks": ""
           }
          },
          "colorscale": {
           "diverging": [
            [
             0,
             "#8e0152"
            ],
            [
             0.1,
             "#c51b7d"
            ],
            [
             0.2,
             "#de77ae"
            ],
            [
             0.3,
             "#f1b6da"
            ],
            [
             0.4,
             "#fde0ef"
            ],
            [
             0.5,
             "#f7f7f7"
            ],
            [
             0.6,
             "#e6f5d0"
            ],
            [
             0.7,
             "#b8e186"
            ],
            [
             0.8,
             "#7fbc41"
            ],
            [
             0.9,
             "#4d9221"
            ],
            [
             1,
             "#276419"
            ]
           ],
           "sequential": [
            [
             0,
             "#0d0887"
            ],
            [
             0.1111111111111111,
             "#46039f"
            ],
            [
             0.2222222222222222,
             "#7201a8"
            ],
            [
             0.3333333333333333,
             "#9c179e"
            ],
            [
             0.4444444444444444,
             "#bd3786"
            ],
            [
             0.5555555555555556,
             "#d8576b"
            ],
            [
             0.6666666666666666,
             "#ed7953"
            ],
            [
             0.7777777777777778,
             "#fb9f3a"
            ],
            [
             0.8888888888888888,
             "#fdca26"
            ],
            [
             1,
             "#f0f921"
            ]
           ],
           "sequentialminus": [
            [
             0,
             "#0d0887"
            ],
            [
             0.1111111111111111,
             "#46039f"
            ],
            [
             0.2222222222222222,
             "#7201a8"
            ],
            [
             0.3333333333333333,
             "#9c179e"
            ],
            [
             0.4444444444444444,
             "#bd3786"
            ],
            [
             0.5555555555555556,
             "#d8576b"
            ],
            [
             0.6666666666666666,
             "#ed7953"
            ],
            [
             0.7777777777777778,
             "#fb9f3a"
            ],
            [
             0.8888888888888888,
             "#fdca26"
            ],
            [
             1,
             "#f0f921"
            ]
           ]
          },
          "colorway": [
           "#636efa",
           "#EF553B",
           "#00cc96",
           "#ab63fa",
           "#FFA15A",
           "#19d3f3",
           "#FF6692",
           "#B6E880",
           "#FF97FF",
           "#FECB52"
          ],
          "font": {
           "color": "#2a3f5f"
          },
          "geo": {
           "bgcolor": "white",
           "lakecolor": "white",
           "landcolor": "#E5ECF6",
           "showlakes": true,
           "showland": true,
           "subunitcolor": "white"
          },
          "hoverlabel": {
           "align": "left"
          },
          "hovermode": "closest",
          "mapbox": {
           "style": "light"
          },
          "paper_bgcolor": "white",
          "plot_bgcolor": "#E5ECF6",
          "polar": {
           "angularaxis": {
            "gridcolor": "white",
            "linecolor": "white",
            "ticks": ""
           },
           "bgcolor": "#E5ECF6",
           "radialaxis": {
            "gridcolor": "white",
            "linecolor": "white",
            "ticks": ""
           }
          },
          "scene": {
           "xaxis": {
            "backgroundcolor": "#E5ECF6",
            "gridcolor": "white",
            "gridwidth": 2,
            "linecolor": "white",
            "showbackground": true,
            "ticks": "",
            "zerolinecolor": "white"
           },
           "yaxis": {
            "backgroundcolor": "#E5ECF6",
            "gridcolor": "white",
            "gridwidth": 2,
            "linecolor": "white",
            "showbackground": true,
            "ticks": "",
            "zerolinecolor": "white"
           },
           "zaxis": {
            "backgroundcolor": "#E5ECF6",
            "gridcolor": "white",
            "gridwidth": 2,
            "linecolor": "white",
            "showbackground": true,
            "ticks": "",
            "zerolinecolor": "white"
           }
          },
          "shapedefaults": {
           "line": {
            "color": "#2a3f5f"
           }
          },
          "ternary": {
           "aaxis": {
            "gridcolor": "white",
            "linecolor": "white",
            "ticks": ""
           },
           "baxis": {
            "gridcolor": "white",
            "linecolor": "white",
            "ticks": ""
           },
           "bgcolor": "#E5ECF6",
           "caxis": {
            "gridcolor": "white",
            "linecolor": "white",
            "ticks": ""
           }
          },
          "title": {
           "x": 0.05
          },
          "xaxis": {
           "automargin": true,
           "gridcolor": "white",
           "linecolor": "white",
           "ticks": "",
           "title": {
            "standoff": 15
           },
           "zerolinecolor": "white",
           "zerolinewidth": 2
          },
          "yaxis": {
           "automargin": true,
           "gridcolor": "white",
           "linecolor": "white",
           "ticks": "",
           "title": {
            "standoff": 15
           },
           "zerolinecolor": "white",
           "zerolinewidth": 2
          }
         }
        },
        "title": {
         "text": "Used Car Listings by State (Hover to See Used vs Certified)"
        }
       }
      },
      "image/png": "[encoded data removed]",
      "text/html": [
       "<div>                            <div id=\"30bb9840-d9ba-4d67-bc8a-b8e7236ff7c7\" class=\"plotly-graph-div\" style=\"height:525px; width:100%;\"></div>            <script type=\"text/javascript\">                require([\"plotly\"], function(Plotly) {                    window.PLOTLYENV=window.PLOTLYENV || {};                                    if (document.getElementById(\"30bb9840-d9ba-4d67-bc8a-b8e7236ff7c7\")) {                    Plotly.newPlot(                        \"30bb9840-d9ba-4d67-bc8a-b8e7236ff7c7\",                        [{\"coloraxis\":\"coloraxis\",\"customdata\":[[1.0,0.0,1.0,\"AK\"],[62.0,10.0,72.0,\"AL\"],[40.0,1.0,41.0,\"AR\"],[283.0,61.0,344.0,\"AZ\"],[2.0,0.0,2.0,\"AZ-101\"],[2.0,0.0,2.0,\"Bldg\"],[554.0,114.0,668.0,\"CA\"],[131.0,27.0,158.0,\"CO\"],[69.0,30.0,99.0,\"CT\"],[9.0,4.0,13.0,\"DE\"],[731.0,157.0,888.0,\"FL\"],[354.0,38.0,392.0,\"GA\"],[1.0,0.0,1.0,\"Glens\"],[7.0,9.0,16.0,\"HI\"],[28.0,7.0,35.0,\"IA\"],[24.0,4.0,28.0,\"ID\"],[504.0,89.0,593.0,\"IL\"],[153.0,30.0,183.0,\"IN\"],[80.0,1.0,81.0,\"KS\"],[68.0,11.0,79.0,\"KY\"],[47.0,4.0,51.0,\"LA\"],[252.0,68.0,320.0,\"MA\"],[289.0,34.0,323.0,\"MD\"],[4.0,4.0,8.0,\"ME\"],[183.0,85.0,268.0,\"MI\"],[183.0,45.0,228.0,\"MN\"],[126.0,44.0,170.0,\"MO\"],[19.0,4.0,23.0,\"MS\"],[3.0,1.0,4.0,\"MT\"],[2.0,0.0,2.0,\"Michigan\"],[204.0,25.0,229.0,\"NC\"],[13.0,1.0,14.0,\"ND\"],[33.0,4.0,37.0,\"NE\"],[58.0,22.0,80.0,\"NH\"],[290.0,47.0,337.0,\"NJ\"],[3.0,2.0,5.0,\"NM\"],[75.0,18.0,93.0,\"NV\"],[357.0,83.0,440.0,\"NY\"],[288.0,41.0,329.0,\"OH\"],[37.0,8.0,45.0,\"OK\"],[33.0,4.0,37.0,\"OR\"],[227.0,55.0,282.0,\"PA\"],[31.0,4.0,35.0,\"RI\"],[10.0,3.0,13.0,\"RT\"],[147.0,16.0,163.0,\"SC\"],[23.0,0.0,23.0,\"SD\"],[1.0,0.0,1.0,\"SE\"],[2.0,0.0,2.0,\"Suite\"],[155.0,11.0,166.0,\"TN\"],[1069.0,156.0,1225.0,\"TX\"],[1.0,0.0,1.0,\"US-12\"],[1.0,0.0,1.0,\"US-169\"],[72.0,1.0,73.0,\"UT\"],[290.0,50.0,340.0,\"VA\"],[4.0,3.0,7.0,\"VT\"],[151.0,14.0,165.0,\"WA\"],[99.0,28.0,127.0,\"WI\"],[12.0,1.0,13.0,\"WV\"],[3.0,0.0,3.0,\"WY\"]],\"geo\":\"geo\",\"hovertemplate\":\"\\u003cb\\u003e%{hovertext}\\u003c\\u002fb\\u003e\\u003cbr\\u003e\\u003cbr\\u003eUsed=%{customdata[0]}\\u003cbr\\u003eCertified=%{customdata[1]}\\u003cbr\\u003eTotal=%{z}\\u003cextra\\u003e\\u003c\\u002fextra\\u003e\",\"hovertext\":[\"AK\",\"AL\",\"AR\",\"AZ\",\"AZ-101\",\"Bldg\",\"CA\",\"CO\",\"CT\",\"DE\",\"FL\",\"GA\",\"Glens\",\"HI\",\"IA\",\"ID\",\"IL\",\"IN\",\"KS\",\"KY\",\"LA\",\"MA\",\"MD\",\"ME\",\"MI\",\"MN\",\"MO\",\"MS\",\"MT\",\"Michigan\",\"NC\",\"ND\",\"NE\",\"NH\",\"NJ\",\"NM\",\"NV\",\"NY\",\"OH\",\"OK\",\"OR\",\"PA\",\"RI\",\"RT\",\"SC\",\"SD\",\"SE\",\"Suite\",\"TN\",\"TX\",\"US-12\",\"US-169\",\"UT\",\"VA\",\"VT\",\"WA\",\"WI\",\"WV\",\"WY\"],\"locationmode\":\"USA-states\",\"locations\":[\"AK\",\"AL\",\"AR\",\"AZ\",\"AZ-101\",\"Bldg\",\"CA\",\"CO\",\"CT\",\"DE\",\"FL\",\"GA\",\"Glens\",\"HI\",\"IA\",\"ID\",\"IL\",\"IN\",\"KS\",\"KY\",\"LA\",\"MA\",\"MD\",\"ME\",\"MI\",\"MN\",\"MO\",\"MS\",\"MT\",\"Michigan\",\"NC\",\"ND\",\"NE\",\"NH\",\"NJ\",\"NM\",\"NV\",\"NY\",\"OH\",\"OK\",\"OR\",\"PA\",\"RI\",\"RT\",\"SC\",\"SD\",\"SE\",\"Suite\",\"TN\",\"TX\",\"US-12\",\"US-169\",\"UT\",\"VA\",\"VT\",\"WA\",\"WI\",\"WV\",\"WY\"],\"name\":\"\",\"z\":[1.0,72.0,41.0,344.0,2.0,2.0,668.0,158.0,99.0,13.0,888.0,392.0,1.0,16.0,35.0,28.0,593.0,183.0,81.0,79.0,51.0,320.0,323.0,8.0,268.0,228.0,170.0,23.0,4.0,2.0,229.0,14.0,37.0,80.0,337.0,5.0,93.0,440.0,329.0,45.0,37.0,282.0,35.0,13.0,163.0,23.0,1.0,2.0,166.0,1225.0,1.0,1.0,73.0,340.0,7.0,165.0,127.0,13.0,3.0],\"type\":\"choropleth\"}],                        {\"template\":{\"data\":{\"histogram2dcontour\":[{\"type\":\"histogram2dcontour\",\"colorbar\":{\"outlinewidth\":0,\"ticks\":\"\"},\"colorscale\":[[0.0,\"#0d0887\"],[0.1111111111111111,\"#46039f\"],[0.2222222222222222,\"#7201a8\"],[0.3333333333333333,\"#9c179e\"],[0.4444444444444444,\"#bd3786\"],[0.5555555555555556,\"#d8576b\"],[0.6666666666666666,\"#ed7953\"],[0.7777777777777778,\"#fb9f3a\"],[0.8888888888888888,\"#fdca26\"],[1.0,\"#f0f921\"]]}],\"choropleth\":[{\"type\":\"choropleth\",\"colorbar\":{\"outlinewidth\":0,\"ticks\":\"\"}}],\"histogram2d\":[{\"type\":\"histogram2d\",\"colorbar\":{\"outlinewidth\":0,\"ticks\":\"\"},\"colorscale\":[[0.0,\"#0d0887\"],[0.1111111111111111,\"#46039f\"],[0.2222222222222222,\"#7201a8\"],[0.3333333333333333,\"#9c179e\"],[0.4444444444444444,\"#bd3786\"],[0.5555555555555556,\"#d8576b\"],[0.6666666666666666,\"#ed7953\"],[0.7777777777777778,\"#fb9f3a\"],[0.8888888888888888,\"#fdca26\"],[1.0,\"#f0f921\"]]}],\"heatmap\":[{\"type\":\"heatmap\",\"colorbar\":{\"outlinewidth\":0,\"ticks\":\"\"},\"colorscale\":[[0.0,\"#0d0887\"],[0.1111111111111111,\"#46039f\"],[0.2222222222222222,\"#7201a8\"],[0.3333333333333333,\"#9c179e\"],[0.4444444444444444,\"#bd3786\"],[0.5555555555555556,\"#d8576b\"],[0.6666666666666666,\"#ed7953\"],[0.7777777777777778,\"#fb9f3a\"],[0.8888888888888888,\"#fdca26\"],[1.0,\"#f0f921\"]]}],\"heatmapgl\":[{\"type\":\"heatmapgl\",\"colorbar\":{\"outlinewidth\":0,\"ticks\":\"\"},\"colorscale\":[[0.0,\"#0d0887\"],[0.1111111111111111,\"#46039f\"],[0.2222222222222222,\"#7201a8\"],[0.3333333333333333,\"#9c179e\"],[0.4444444444444444,\"#bd3786\"],[0.5555555555555556,\"#d8576b\"],[0.6666666666666666,\"#ed7953\"],[0.7777777777777778,\"#fb9f3a\"],[0.8888888888888888,\"#fdca26\"],[1.0,\"#f0f921\"]]}],\"contourcarpet\":[{\"type\":\"contourcarpet\",\"colorbar\":{\"outlinewidth\":0,\"ticks\":\"\"}}],\"contour\":[{\"type\":\"contour\",\"colorbar\":{\"outlinewidth\":0,\"ticks\":\"\"},\"colorscale\":[[0.0,\"#0d0887\"],[0.1111111111111111,\"#46039f\"],[0.2222222222222222,\"#7201a8\"],[0.3333333333333333,\"#9c179e\"],[0.4444444444444444,\"#bd3786\"],[0.5555555555555556,\"#d8576b\"],[0.6666666666666666,\"#ed7953\"],[0.7777777777777778,\"#fb9f3a\"],[0.8888888888888888,\"#fdca26\"],[1.0,\"#f0f921\"]]}],\"surface\":[{\"type\":\"surface\",\"colorbar\":{\"outlinewidth\":0,\"ticks\":\"\"},\"colorscale\":[[0.0,\"#0d0887\"],[0.1111111111111111,\"#46039f\"],[0.2222222222222222,\"#7201a8\"],[0.3333333333333333,\"#9c179e\"],[0.4444444444444444,\"#bd3786\"],[0.5555555555555556,\"#d8576b\"],[0.6666666666666666,\"#ed7953\"],[0.7777777777777778,\"#fb9f3a\"],[0.8888888888888888,\"#fdca26\"],[1.0,\"#f0f921\"]]}],\"mesh3d\":[{\"type\":\"mesh3d\",\"colorbar\":{\"outlinewidth\":0,\"ticks\":\"\"}}],\"scatter\":[{\"fillpattern\":{\"fillmode\":\"overlay\",\"size\":10,\"solidity\":0.2},\"type\":\"scatter\"}],\"parcoords\":[{\"type\":\"parcoords\",\"line\":{\"colorbar\":{\"outlinewidth\":0,\"ticks\":\"\"}}}],\"scatterpolargl\":[{\"type\":\"scatterpolargl\",\"marker\":{\"colorbar\":{\"outlinewidth\":0,\"ticks\":\"\"}}}],\"bar\":[{\"error_x\":{\"color\":\"#2a3f5f\"},\"error_y\":{\"color\":\"#2a3f5f\"},\"marker\":{\"line\":{\"color\":\"#E5ECF6\",\"width\":0.5},\"pattern\":{\"fillmode\":\"overlay\",\"size\":10,\"solidity\":0.2}},\"type\":\"bar\"}],\"scattergeo\":[{\"type\":\"scattergeo\",\"marker\":{\"colorbar\":{\"outlinewidth\":0,\"ticks\":\"\"}}}],\"scatterpolar\":[{\"type\":\"scatterpolar\",\"marker\":{\"colorbar\":{\"outlinewidth\":0,\"ticks\":\"\"}}}],\"histogram\":[{\"marker\":{\"pattern\":{\"fillmode\":\"overlay\",\"size\":10,\"solidity\":0.2}},\"type\":\"histogram\"}],\"scattergl\":[{\"type\":\"scattergl\",\"marker\":{\"colorbar\":{\"outlinewidth\":0,\"ticks\":\"\"}}}],\"scatter3d\":[{\"type\":\"scatter3d\",\"line\":{\"colorbar\":{\"outlinewidth\":0,\"ticks\":\"\"}},\"marker\":{\"colorbar\":{\"outlinewidth\":0,\"ticks\":\"\"}}}],\"scattermapbox\":[{\"type\":\"scattermapbox\",\"marker\":{\"colorbar\":{\"outlinewidth\":0,\"ticks\":\"\"}}}],\"scatterternary\":[{\"type\":\"scatterternary\",\"marker\":{\"colorbar\":{\"outlinewidth\":0,\"ticks\":\"\"}}}],\"scattercarpet\":[{\"type\":\"scattercarpet\",\"marker\":{\"colorbar\":{\"outlinewidth\":0,\"ticks\":\"\"}}}],\"carpet\":[{\"aaxis\":{\"endlinecolor\":\"#2a3f5f\",\"gridcolor\":\"white\",\"linecolor\":\"white\",\"minorgridcolor\":\"white\",\"startlinecolor\":\"#2a3f5f\"},\"baxis\":{\"endlinecolor\":\"#2a3f5f\",\"gridcolor\":\"white\",\"linecolor\":\"white\",\"minorgridcolor\":\"white\",\"startlinecolor\":\"#2a3f5f\"},\"type\":\"carpet\"}],\"table\":[{\"cells\":{\"fill\":{\"color\":\"#EBF0F8\"},\"line\":{\"color\":\"white\"}},\"header\":{\"fill\":{\"color\":\"#C8D4E3\"},\"line\":{\"color\":\"white\"}},\"type\":\"table\"}],\"barpolar\":[{\"marker\":{\"line\":{\"color\":\"#E5ECF6\",\"width\":0.5},\"pattern\":{\"fillmode\":\"overlay\",\"size\":10,\"solidity\":0.2}},\"type\":\"barpolar\"}],\"pie\":[{\"automargin\":true,\"type\":\"pie\"}]},\"layout\":{\"autotypenumbers\":\"strict\",\"colorway\":[\"#636efa\",\"#EF553B\",\"#00cc96\",\"#ab63fa\",\"#FFA15A\",\"#19d3f3\",\"#FF6692\",\"#B6E880\",\"#FF97FF\",\"#FECB52\"],\"font\":{\"color\":\"#2a3f5f\"},\"hovermode\":\"closest\",\"hoverlabel\":{\"align\":\"left\"},\"paper_bgcolor\":\"white\",\"plot_bgcolor\":\"#E5ECF6\",\"polar\":{\"bgcolor\":\"#E5ECF6\",\"angularaxis\":{\"gridcolor\":\"white\",\"linecolor\":\"white\",\"ticks\":\"\"},\"radialaxis\":{\"gridcolor\":\"white\",\"linecolor\":\"white\",\"ticks\":\"\"}},\"ternary\":{\"bgcolor\":\"#E5ECF6\",\"aaxis\":{\"gridcolor\":\"white\",\"linecolor\":\"white\",\"ticks\":\"\"},\"baxis\":{\"gridcolor\":\"white\",\"linecolor\":\"white\",\"ticks\":\"\"},\"caxis\":{\"gridcolor\":\"white\",\"linecolor\":\"white\",\"ticks\":\"\"}},\"coloraxis\":{\"colorbar\":{\"outlinewidth\":0,\"ticks\":\"\"}},\"colorscale\":{\"sequential\":[[0.0,\"#0d0887\"],[0.1111111111111111,\"#46039f\"],[0.2222222222222222,\"#7201a8\"],[0.3333333333333333,\"#9c179e\"],[0.4444444444444444,\"#bd3786\"],[0.5555555555555556,\"#d8576b\"],[0.6666666666666666,\"#ed7953\"],[0.7777777777777778,\"#fb9f3a\"],[0.8888888888888888,\"#fdca26\"],[1.0,\"#f0f921\"]],\"sequentialminus\":[[0.0,\"#0d0887\"],[0.1111111111111111,\"#46039f\"],[0.2222222222222222,\"#7201a8\"],[0.3333333333333333,\"#9c179e\"],[0.4444444444444444,\"#bd3786\"],[0.5555555555555556,\"#d8576b\"],[0.6666666666666666,\"#ed7953\"],[0.7777777777777778,\"#fb9f3a\"],[0.8888888888888888,\"#fdca26\"],[1.0,\"#f0f921\"]],\"diverging\":[[0,\"#8e0152\"],[0.1,\"#c51b7d\"],[0.2,\"#de77ae\"],[0.3,\"#f1b6da\"],[0.4,\"#fde0ef\"],[0.5,\"#f7f7f7\"],[0.6,\"#e6f5d0\"],[0.7,\"#b8e186\"],[0.8,\"#7fbc41\"],[0.9,\"#4d9221\"],[1,\"#276419\"]]},\"xaxis\":{\"gridcolor\":\"white\",\"linecolor\":\"white\",\"ticks\":\"\",\"title\":{\"standoff\":15},\"zerolinecolor\":\"white\",\"automargin\":true,\"zerolinewidth\":2},\"yaxis\":{\"gridcolor\":\"white\",\"linecolor\":\"white\",\"ticks\":\"\",\"title\":{\"standoff\":15},\"zerolinecolor\":\"white\",\"automargin\":true,\"zerolinewidth\":2},\"scene\":{\"xaxis\":{\"backgroundcolor\":\"#E5ECF6\",\"gridcolor\":\"white\",\"linecolor\":\"white\",\"showbackground\":true,\"ticks\":\"\",\"zerolinecolor\":\"white\",\"gridwidth\":2},\"yaxis\":{\"backgroundcolor\":\"#E5ECF6\",\"gridcolor\":\"white\",\"linecolor\":\"white\",\"showbackground\":true,\"ticks\":\"\",\"zerolinecolor\":\"white\",\"gridwidth\":2},\"zaxis\":{\"backgroundcolor\":\"#E5ECF6\",\"gridcolor\":\"white\",\"linecolor\":\"white\",\"showbackground\":true,\"ticks\":\"\",\"zerolinecolor\":\"white\",\"gridwidth\":2}},\"shapedefaults\":{\"line\":{\"color\":\"#2a3f5f\"}},\"annotationdefaults\":{\"arrowcolor\":\"#2a3f5f\",\"arrowhead\":0,\"arrowwidth\":1},\"geo\":{\"bgcolor\":\"white\",\"landcolor\":\"#E5ECF6\",\"subunitcolor\":\"white\",\"showland\":true,\"showlakes\":true,\"lakecolor\":\"white\"},\"title\":{\"x\":0.05},\"mapbox\":{\"style\":\"light\"}}},\"geo\":{\"domain\":{\"x\":[0.0,1.0],\"y\":[0.0,1.0]},\"center\":{},\"scope\":\"usa\"},\"coloraxis\":{\"colorbar\":{\"title\":{\"text\":\"Total\"}},\"colorscale\":[[0.0,\"rgb(247,251,255)\"],[0.125,\"rgb(222,235,247)\"],[0.25,\"rgb(198,219,239)\"],[0.375,\"rgb(158,202,225)\"],[0.5,\"rgb(107,174,214)\"],[0.625,\"rgb(66,146,198)\"],[0.75,\"rgb(33,113,181)\"],[0.875,\"rgb(8,81,156)\"],[1.0,\"rgb(8,48,107)\"]]},\"legend\":{\"tracegroupgap\":0},\"title\":{\"text\":\"Used Car Listings by State (Hover to See Used vs Certified)\"},\"margin\":{\"r\":0,\"t\":40,\"l\":0,\"b\":0}},                        {\"responsive\": true}                    ).then(function(){\n",
       "                            \n",
       "var gd = document.getElementById('30bb9840-d9ba-4d67-bc8a-b8e7236ff7c7');\n",
       "var x = new MutationObserver(function (mutations, observer) {{\n",
       "        var display = window.getComputedStyle(gd).display;\n",
       "        if (!display || display === 'none') {{\n",
       "            console.log([gd, 'removed!']);\n",
       "            Plotly.purge(gd);\n",
       "            observer.disconnect();\n",
       "        }}\n",
       "}});\n",
       "\n",
       "// Listen for the removal of the full notebook cells\n",
       "var notebookContainer = gd.closest('#notebook-container');\n",
       "if (notebookContainer) {{\n",
       "    x.observe(notebookContainer, {childList: true});\n",
       "}}\n",
       "\n",
       "// Listen for the clearing of the current output cell\n",
       "var outputEl = gd.closest('.output');\n",
       "if (outputEl) {{\n",
       "    x.observe(outputEl, {childList: true});\n",
       "}}\n",
       "\n",
       "                        })                };                });            </script>        </div>"
      ]
     },
     "metadata": {},
     "output_type": "display_data"
    }
   ],
   "source": [
    "import pandas as pd\n",
    "import plotly.express as px\n",
    "\n",
    "# Load dataset\n",
    "df = pd.read_csv(\"Online_Cars_Sale_Marketplace.csv\")\n",
    "\n",
    "# Clean 'Used/New' column\n",
    "df['Used/New'] = df['Used/New'].str.strip()\n",
    "df['Used/New'] = df['Used/New'].replace(r'(?i).*certified.*', 'Certified', regex=True)\n",
    "\n",
    "# Filter out missing state or listing type\n",
    "df = df.dropna(subset=['Used/New', 'State'])\n",
    "df = df[df['Used/New'].isin(['Used', 'Certified'])]\n",
    "\n",
    "# Group by State and Used/New\n",
    "grouped = df.groupby(['State', 'Used/New']).size().reset_index(name='Count')\n",
    "\n",
    "# Pivot to have 'Used' and 'Certified' as separate columns\n",
    "pivot_df = grouped.pivot(index='State', columns='Used/New', values='Count').fillna(0).reset_index()\n",
    "\n",
    "# Add a total column for color intensity\n",
    "pivot_df['Total'] = pivot_df['Used'] + pivot_df['Certified']\n",
    "\n",
    "# Plot choropleth map with hover info for Used & Certified\n",
    "fig = px.choropleth(\n",
    "    pivot_df,\n",
    "    locations='State',\n",
    "    locationmode='USA-states',\n",
    "    color='Total',\n",
    "    scope='usa',\n",
    "    color_continuous_scale='Blues',\n",
    "    hover_name='State',\n",
    "    hover_data={\n",
    "        'Used': True,\n",
    "        'Certified': True,\n",
    "        'Total': True,\n",
    "        'State': False  # Hide since it's already shown as the name\n",
    "    },\n",
    "    title='Used Car Listings by State (Hover to See Used vs Certified)'\n",
    ")\n",
    "\n",
    "fig.update_layout(margin={\"r\":0,\"t\":40,\"l\":0,\"b\":0})\n",
    "fig.show()\n"
   ]
  },
  {
   "cell_type": "code",
   "execution_count": 153,
   "id": "60820d5a-e626-41a7-8c9a-5f2310c30f5c",
   "metadata": {},
   "outputs": [],
   "source": [
    "import pandas as pd\n",
    "\n",
    "# Load dataset\n",
    "df = pd.read_csv(\"Online_Cars_Sale_Marketplace.csv\")\n",
    "\n",
    "# Clean 'Used/New' column\n",
    "df['Used/New'] = df['Used/New'].str.strip()\n",
    "df['Used/New'] = df['Used/New'].replace(r'(?i).*certified.*', 'Certified', regex=True)\n",
    "\n",
    "# Drop missing values\n",
    "df = df.dropna(subset=['Used/New', 'State'])\n",
    "df = df[df['Used/New'].isin(['Used', 'Certified'])]\n",
    "\n",
    "# Group and pivot by State and Type\n",
    "grouped = df.groupby(['State', 'Used/New']).size().reset_index(name='Count')\n",
    "pivot_df = grouped.pivot(index='State', columns='Used/New', values='Count').fillna(0).reset_index()"
   ]
  },
  {
   "cell_type": "code",
   "execution_count": 155,
   "id": "2c5962a5-6b45-4ad0-b974-3a2368fcce2a",
   "metadata": {},
   "outputs": [
    {
     "data": {
      "application/vnd.plotly.v1+json": {
       "config": {
        "plotlyServerURL": "https://plot.ly"
       },
       "data": [
        {
         "colorbar": {
          "title": {
           "text": "Used"
          }
         },
         "colorscale": [
          [
           0,
           "rgb(247,251,255)"
          ],
          [
           0.125,
           "rgb(222,235,247)"
          ],
          [
           0.25,
           "rgb(198,219,239)"
          ],
          [
           0.375,
           "rgb(158,202,225)"
          ],
          [
           0.5,
           "rgb(107,174,214)"
          ],
          [
           0.625,
           "rgb(66,146,198)"
          ],
          [
           0.75,
           "rgb(33,113,181)"
          ],
          [
           0.875,
           "rgb(8,81,156)"
          ],
          [
           1,
           "rgb(8,48,107)"
          ]
         ],
         "geo": "geo",
         "locationmode": "USA-states",
         "locations": [
          "AK",
          "AL",
          "AR",
          "AZ",
          "AZ-101",
          "Bldg",
          "CA",
          "CO",
          "CT",
          "DE",
          "FL",
          "GA",
          "Glens",
          "HI",
          "IA",
          "ID",
          "IL",
          "IN",
          "KS",
          "KY",
          "LA",
          "MA",
          "MD",
          "ME",
          "MI",
          "MN",
          "MO",
          "MS",
          "MT",
          "Michigan",
          "NC",
          "ND",
          "NE",
          "NH",
          "NJ",
          "NM",
          "NV",
          "NY",
          "OH",
          "OK",
          "OR",
          "PA",
          "RI",
          "RT",
          "SC",
          "SD",
          "SE",
          "Suite",
          "TN",
          "TX",
          "US-12",
          "US-169",
          "UT",
          "VA",
          "VT",
          "WA",
          "WI",
          "WV",
          "WY"
         ],
         "name": "Used",
         "type": "choropleth",
         "z": [
          1,
          62,
          40,
          283,
          2,
          2,
          554,
          131,
          69,
          9,
          731,
          354,
          1,
          7,
          28,
          24,
          504,
          153,
          80,
          68,
          47,
          252,
          289,
          4,
          183,
          183,
          126,
          19,
          3,
          2,
          204,
          13,
          33,
          58,
          290,
          3,
          75,
          357,
          288,
          37,
          33,
          227,
          31,
          10,
          147,
          23,
          1,
          2,
          155,
          1069,
          1,
          1,
          72,
          290,
          4,
          151,
          99,
          12,
          3
         ]
        },
        {
         "colorbar": {
          "title": {
           "text": "Certified"
          }
         },
         "colorscale": [
          [
           0,
           "rgb(247,252,245)"
          ],
          [
           0.125,
           "rgb(229,245,224)"
          ],
          [
           0.25,
           "rgb(199,233,192)"
          ],
          [
           0.375,
           "rgb(161,217,155)"
          ],
          [
           0.5,
           "rgb(116,196,118)"
          ],
          [
           0.625,
           "rgb(65,171,93)"
          ],
          [
           0.75,
           "rgb(35,139,69)"
          ],
          [
           0.875,
           "rgb(0,109,44)"
          ],
          [
           1,
           "rgb(0,68,27)"
          ]
         ],
         "geo": "geo2",
         "locationmode": "USA-states",
         "locations": [
          "AK",
          "AL",
          "AR",
          "AZ",
          "AZ-101",
          "Bldg",
          "CA",
          "CO",
          "CT",
          "DE",
          "FL",
          "GA",
          "Glens",
          "HI",
          "IA",
          "ID",
          "IL",
          "IN",
          "KS",
          "KY",
          "LA",
          "MA",
          "MD",
          "ME",
          "MI",
          "MN",
          "MO",
          "MS",
          "MT",
          "Michigan",
          "NC",
          "ND",
          "NE",
          "NH",
          "NJ",
          "NM",
          "NV",
          "NY",
          "OH",
          "OK",
          "OR",
          "PA",
          "RI",
          "RT",
          "SC",
          "SD",
          "SE",
          "Suite",
          "TN",
          "TX",
          "US-12",
          "US-169",
          "UT",
          "VA",
          "VT",
          "WA",
          "WI",
          "WV",
          "WY"
         ],
         "name": "Certified",
         "type": "choropleth",
         "z": [
          0,
          10,
          1,
          61,
          0,
          0,
          114,
          27,
          30,
          4,
          157,
          38,
          0,
          9,
          7,
          4,
          89,
          30,
          1,
          11,
          4,
          68,
          34,
          4,
          85,
          45,
          44,
          4,
          1,
          0,
          25,
          1,
          4,
          22,
          47,
          2,
          18,
          83,
          41,
          8,
          4,
          55,
          4,
          3,
          16,
          0,
          0,
          0,
          11,
          156,
          0,
          0,
          1,
          50,
          3,
          14,
          28,
          1,
          0
         ]
        }
       ],
       "layout": {
        "annotations": [
         {
          "font": {
           "size": 16
          },
          "showarrow": false,
          "text": "Used Listings",
          "x": 0.225,
          "xanchor": "center",
          "xref": "paper",
          "y": 1,
          "yanchor": "bottom",
          "yref": "paper"
         },
         {
          "font": {
           "size": 16
          },
          "showarrow": false,
          "text": "Certified Listings",
          "x": 0.775,
          "xanchor": "center",
          "xref": "paper",
          "y": 1,
          "yanchor": "bottom",
          "yref": "paper"
         }
        ],
        "geo": {
         "domain": {
          "x": [
           0,
           0.45
          ],
          "y": [
           0,
           1
          ]
         },
         "scope": "usa"
        },
        "geo2": {
         "domain": {
          "x": [
           0.55,
           1
          ],
          "y": [
           0,
           1
          ]
         }
        },
        "height": 600,
        "template": {
         "data": {
          "bar": [
           {
            "error_x": {
             "color": "#2a3f5f"
            },
            "error_y": {
             "color": "#2a3f5f"
            },
            "marker": {
             "line": {
              "color": "#E5ECF6",
              "width": 0.5
             },
             "pattern": {
              "fillmode": "overlay",
              "size": 10,
              "solidity": 0.2
             }
            },
            "type": "bar"
           }
          ],
          "barpolar": [
           {
            "marker": {
             "line": {
              "color": "#E5ECF6",
              "width": 0.5
             },
             "pattern": {
              "fillmode": "overlay",
              "size": 10,
              "solidity": 0.2
             }
            },
            "type": "barpolar"
           }
          ],
          "carpet": [
           {
            "aaxis": {
             "endlinecolor": "#2a3f5f",
             "gridcolor": "white",
             "linecolor": "white",
             "minorgridcolor": "white",
             "startlinecolor": "#2a3f5f"
            },
            "baxis": {
             "endlinecolor": "#2a3f5f",
             "gridcolor": "white",
             "linecolor": "white",
             "minorgridcolor": "white",
             "startlinecolor": "#2a3f5f"
            },
            "type": "carpet"
           }
          ],
          "choropleth": [
           {
            "colorbar": {
             "outlinewidth": 0,
             "ticks": ""
            },
            "type": "choropleth"
           }
          ],
          "contour": [
           {
            "colorbar": {
             "outlinewidth": 0,
             "ticks": ""
            },
            "colorscale": [
             [
              0,
              "#0d0887"
             ],
             [
              0.1111111111111111,
              "#46039f"
             ],
             [
              0.2222222222222222,
              "#7201a8"
             ],
             [
              0.3333333333333333,
              "#9c179e"
             ],
             [
              0.4444444444444444,
              "#bd3786"
             ],
             [
              0.5555555555555556,
              "#d8576b"
             ],
             [
              0.6666666666666666,
              "#ed7953"
             ],
             [
              0.7777777777777778,
              "#fb9f3a"
             ],
             [
              0.8888888888888888,
              "#fdca26"
             ],
             [
              1,
              "#f0f921"
             ]
            ],
            "type": "contour"
           }
          ],
          "contourcarpet": [
           {
            "colorbar": {
             "outlinewidth": 0,
             "ticks": ""
            },
            "type": "contourcarpet"
           }
          ],
          "heatmap": [
           {
            "colorbar": {
             "outlinewidth": 0,
             "ticks": ""
            },
            "colorscale": [
             [
              0,
              "#0d0887"
             ],
             [
              0.1111111111111111,
              "#46039f"
             ],
             [
              0.2222222222222222,
              "#7201a8"
             ],
             [
              0.3333333333333333,
              "#9c179e"
             ],
             [
              0.4444444444444444,
              "#bd3786"
             ],
             [
              0.5555555555555556,
              "#d8576b"
             ],
             [
              0.6666666666666666,
              "#ed7953"
             ],
             [
              0.7777777777777778,
              "#fb9f3a"
             ],
             [
              0.8888888888888888,
              "#fdca26"
             ],
             [
              1,
              "#f0f921"
             ]
            ],
            "type": "heatmap"
           }
          ],
          "heatmapgl": [
           {
            "colorbar": {
             "outlinewidth": 0,
             "ticks": ""
            },
            "colorscale": [
             [
              0,
              "#0d0887"
             ],
             [
              0.1111111111111111,
              "#46039f"
             ],
             [
              0.2222222222222222,
              "#7201a8"
             ],
             [
              0.3333333333333333,
              "#9c179e"
             ],
             [
              0.4444444444444444,
              "#bd3786"
             ],
             [
              0.5555555555555556,
              "#d8576b"
             ],
             [
              0.6666666666666666,
              "#ed7953"
             ],
             [
              0.7777777777777778,
              "#fb9f3a"
             ],
             [
              0.8888888888888888,
              "#fdca26"
             ],
             [
              1,
              "#f0f921"
             ]
            ],
            "type": "heatmapgl"
           }
          ],
          "histogram": [
           {
            "marker": {
             "pattern": {
              "fillmode": "overlay",
              "size": 10,
              "solidity": 0.2
             }
            },
            "type": "histogram"
           }
          ],
          "histogram2d": [
           {
            "colorbar": {
             "outlinewidth": 0,
             "ticks": ""
            },
            "colorscale": [
             [
              0,
              "#0d0887"
             ],
             [
              0.1111111111111111,
              "#46039f"
             ],
             [
              0.2222222222222222,
              "#7201a8"
             ],
             [
              0.3333333333333333,
              "#9c179e"
             ],
             [
              0.4444444444444444,
              "#bd3786"
             ],
             [
              0.5555555555555556,
              "#d8576b"
             ],
             [
              0.6666666666666666,
              "#ed7953"
             ],
             [
              0.7777777777777778,
              "#fb9f3a"
             ],
             [
              0.8888888888888888,
              "#fdca26"
             ],
             [
              1,
              "#f0f921"
             ]
            ],
            "type": "histogram2d"
           }
          ],
          "histogram2dcontour": [
           {
            "colorbar": {
             "outlinewidth": 0,
             "ticks": ""
            },
            "colorscale": [
             [
              0,
              "#0d0887"
             ],
             [
              0.1111111111111111,
              "#46039f"
             ],
             [
              0.2222222222222222,
              "#7201a8"
             ],
             [
              0.3333333333333333,
              "#9c179e"
             ],
             [
              0.4444444444444444,
              "#bd3786"
             ],
             [
              0.5555555555555556,
              "#d8576b"
             ],
             [
              0.6666666666666666,
              "#ed7953"
             ],
             [
              0.7777777777777778,
              "#fb9f3a"
             ],
             [
              0.8888888888888888,
              "#fdca26"
             ],
             [
              1,
              "#f0f921"
             ]
            ],
            "type": "histogram2dcontour"
           }
          ],
          "mesh3d": [
           {
            "colorbar": {
             "outlinewidth": 0,
             "ticks": ""
            },
            "type": "mesh3d"
           }
          ],
          "parcoords": [
           {
            "line": {
             "colorbar": {
              "outlinewidth": 0,
              "ticks": ""
             }
            },
            "type": "parcoords"
           }
          ],
          "pie": [
           {
            "automargin": true,
            "type": "pie"
           }
          ],
          "scatter": [
           {
            "fillpattern": {
             "fillmode": "overlay",
             "size": 10,
             "solidity": 0.2
            },
            "type": "scatter"
           }
          ],
          "scatter3d": [
           {
            "line": {
             "colorbar": {
              "outlinewidth": 0,
              "ticks": ""
             }
            },
            "marker": {
             "colorbar": {
              "outlinewidth": 0,
              "ticks": ""
             }
            },
            "type": "scatter3d"
           }
          ],
          "scattercarpet": [
           {
            "marker": {
             "colorbar": {
              "outlinewidth": 0,
              "ticks": ""
             }
            },
            "type": "scattercarpet"
           }
          ],
          "scattergeo": [
           {
            "marker": {
             "colorbar": {
              "outlinewidth": 0,
              "ticks": ""
             }
            },
            "type": "scattergeo"
           }
          ],
          "scattergl": [
           {
            "marker": {
             "colorbar": {
              "outlinewidth": 0,
              "ticks": ""
             }
            },
            "type": "scattergl"
           }
          ],
          "scattermapbox": [
           {
            "marker": {
             "colorbar": {
              "outlinewidth": 0,
              "ticks": ""
             }
            },
            "type": "scattermapbox"
           }
          ],
          "scatterpolar": [
           {
            "marker": {
             "colorbar": {
              "outlinewidth": 0,
              "ticks": ""
             }
            },
            "type": "scatterpolar"
           }
          ],
          "scatterpolargl": [
           {
            "marker": {
             "colorbar": {
              "outlinewidth": 0,
              "ticks": ""
             }
            },
            "type": "scatterpolargl"
           }
          ],
          "scatterternary": [
           {
            "marker": {
             "colorbar": {
              "outlinewidth": 0,
              "ticks": ""
             }
            },
            "type": "scatterternary"
           }
          ],
          "surface": [
           {
            "colorbar": {
             "outlinewidth": 0,
             "ticks": ""
            },
            "colorscale": [
             [
              0,
              "#0d0887"
             ],
             [
              0.1111111111111111,
              "#46039f"
             ],
             [
              0.2222222222222222,
              "#7201a8"
             ],
             [
              0.3333333333333333,
              "#9c179e"
             ],
             [
              0.4444444444444444,
              "#bd3786"
             ],
             [
              0.5555555555555556,
              "#d8576b"
             ],
             [
              0.6666666666666666,
              "#ed7953"
             ],
             [
              0.7777777777777778,
              "#fb9f3a"
             ],
             [
              0.8888888888888888,
              "#fdca26"
             ],
             [
              1,
              "#f0f921"
             ]
            ],
            "type": "surface"
           }
          ],
          "table": [
           {
            "cells": {
             "fill": {
              "color": "#EBF0F8"
             },
             "line": {
              "color": "white"
             }
            },
            "header": {
             "fill": {
              "color": "#C8D4E3"
             },
             "line": {
              "color": "white"
             }
            },
            "type": "table"
           }
          ]
         },
         "layout": {
          "annotationdefaults": {
           "arrowcolor": "#2a3f5f",
           "arrowhead": 0,
           "arrowwidth": 1
          },
          "autotypenumbers": "strict",
          "coloraxis": {
           "colorbar": {
            "outlinewidth": 0,
            "ticks": ""
           }
          },
          "colorscale": {
           "diverging": [
            [
             0,
             "#8e0152"
            ],
            [
             0.1,
             "#c51b7d"
            ],
            [
             0.2,
             "#de77ae"
            ],
            [
             0.3,
             "#f1b6da"
            ],
            [
             0.4,
             "#fde0ef"
            ],
            [
             0.5,
             "#f7f7f7"
            ],
            [
             0.6,
             "#e6f5d0"
            ],
            [
             0.7,
             "#b8e186"
            ],
            [
             0.8,
             "#7fbc41"
            ],
            [
             0.9,
             "#4d9221"
            ],
            [
             1,
             "#276419"
            ]
           ],
           "sequential": [
            [
             0,
             "#0d0887"
            ],
            [
             0.1111111111111111,
             "#46039f"
            ],
            [
             0.2222222222222222,
             "#7201a8"
            ],
            [
             0.3333333333333333,
             "#9c179e"
            ],
            [
             0.4444444444444444,
             "#bd3786"
            ],
            [
             0.5555555555555556,
             "#d8576b"
            ],
            [
             0.6666666666666666,
             "#ed7953"
            ],
            [
             0.7777777777777778,
             "#fb9f3a"
            ],
            [
             0.8888888888888888,
             "#fdca26"
            ],
            [
             1,
             "#f0f921"
            ]
           ],
           "sequentialminus": [
            [
             0,
             "#0d0887"
            ],
            [
             0.1111111111111111,
             "#46039f"
            ],
            [
             0.2222222222222222,
             "#7201a8"
            ],
            [
             0.3333333333333333,
             "#9c179e"
            ],
            [
             0.4444444444444444,
             "#bd3786"
            ],
            [
             0.5555555555555556,
             "#d8576b"
            ],
            [
             0.6666666666666666,
             "#ed7953"
            ],
            [
             0.7777777777777778,
             "#fb9f3a"
            ],
            [
             0.8888888888888888,
             "#fdca26"
            ],
            [
             1,
             "#f0f921"
            ]
           ]
          },
          "colorway": [
           "#636efa",
           "#EF553B",
           "#00cc96",
           "#ab63fa",
           "#FFA15A",
           "#19d3f3",
           "#FF6692",
           "#B6E880",
           "#FF97FF",
           "#FECB52"
          ],
          "font": {
           "color": "#2a3f5f"
          },
          "geo": {
           "bgcolor": "white",
           "lakecolor": "white",
           "landcolor": "#E5ECF6",
           "showlakes": true,
           "showland": true,
           "subunitcolor": "white"
          },
          "hoverlabel": {
           "align": "left"
          },
          "hovermode": "closest",
          "mapbox": {
           "style": "light"
          },
          "paper_bgcolor": "white",
          "plot_bgcolor": "#E5ECF6",
          "polar": {
           "angularaxis": {
            "gridcolor": "white",
            "linecolor": "white",
            "ticks": ""
           },
           "bgcolor": "#E5ECF6",
           "radialaxis": {
            "gridcolor": "white",
            "linecolor": "white",
            "ticks": ""
           }
          },
          "scene": {
           "xaxis": {
            "backgroundcolor": "#E5ECF6",
            "gridcolor": "white",
            "gridwidth": 2,
            "linecolor": "white",
            "showbackground": true,
            "ticks": "",
            "zerolinecolor": "white"
           },
           "yaxis": {
            "backgroundcolor": "#E5ECF6",
            "gridcolor": "white",
            "gridwidth": 2,
            "linecolor": "white",
            "showbackground": true,
            "ticks": "",
            "zerolinecolor": "white"
           },
           "zaxis": {
            "backgroundcolor": "#E5ECF6",
            "gridcolor": "white",
            "gridwidth": 2,
            "linecolor": "white",
            "showbackground": true,
            "ticks": "",
            "zerolinecolor": "white"
           }
          },
          "shapedefaults": {
           "line": {
            "color": "#2a3f5f"
           }
          },
          "ternary": {
           "aaxis": {
            "gridcolor": "white",
            "linecolor": "white",
            "ticks": ""
           },
           "baxis": {
            "gridcolor": "white",
            "linecolor": "white",
            "ticks": ""
           },
           "bgcolor": "#E5ECF6",
           "caxis": {
            "gridcolor": "white",
            "linecolor": "white",
            "ticks": ""
           }
          },
          "title": {
           "x": 0.05
          },
          "xaxis": {
           "automargin": true,
           "gridcolor": "white",
           "linecolor": "white",
           "ticks": "",
           "title": {
            "standoff": 15
           },
           "zerolinecolor": "white",
           "zerolinewidth": 2
          },
          "yaxis": {
           "automargin": true,
           "gridcolor": "white",
           "linecolor": "white",
           "ticks": "",
           "title": {
            "standoff": 15
           },
           "zerolinecolor": "white",
           "zerolinewidth": 2
          }
         }
        },
        "title": {
         "text": "Used vs Certified Car Listings by State"
        },
        "width": 1000
       }
      },
      "image/png": "[encoded data removed]",
      "text/html": [
       "<div>                            <div id=\"ed7d3bc4-786b-4c88-b37a-ca13ce4e1eac\" class=\"plotly-graph-div\" style=\"height:600px; width:1000px;\"></div>            <script type=\"text/javascript\">                require([\"plotly\"], function(Plotly) {                    window.PLOTLYENV=window.PLOTLYENV || {};                                    if (document.getElementById(\"ed7d3bc4-786b-4c88-b37a-ca13ce4e1eac\")) {                    Plotly.newPlot(                        \"ed7d3bc4-786b-4c88-b37a-ca13ce4e1eac\",                        [{\"colorbar\":{\"title\":{\"text\":\"Used\"}},\"colorscale\":[[0.0,\"rgb(247,251,255)\"],[0.125,\"rgb(222,235,247)\"],[0.25,\"rgb(198,219,239)\"],[0.375,\"rgb(158,202,225)\"],[0.5,\"rgb(107,174,214)\"],[0.625,\"rgb(66,146,198)\"],[0.75,\"rgb(33,113,181)\"],[0.875,\"rgb(8,81,156)\"],[1.0,\"rgb(8,48,107)\"]],\"locationmode\":\"USA-states\",\"locations\":[\"AK\",\"AL\",\"AR\",\"AZ\",\"AZ-101\",\"Bldg\",\"CA\",\"CO\",\"CT\",\"DE\",\"FL\",\"GA\",\"Glens\",\"HI\",\"IA\",\"ID\",\"IL\",\"IN\",\"KS\",\"KY\",\"LA\",\"MA\",\"MD\",\"ME\",\"MI\",\"MN\",\"MO\",\"MS\",\"MT\",\"Michigan\",\"NC\",\"ND\",\"NE\",\"NH\",\"NJ\",\"NM\",\"NV\",\"NY\",\"OH\",\"OK\",\"OR\",\"PA\",\"RI\",\"RT\",\"SC\",\"SD\",\"SE\",\"Suite\",\"TN\",\"TX\",\"US-12\",\"US-169\",\"UT\",\"VA\",\"VT\",\"WA\",\"WI\",\"WV\",\"WY\"],\"name\":\"Used\",\"z\":[1.0,62.0,40.0,283.0,2.0,2.0,554.0,131.0,69.0,9.0,731.0,354.0,1.0,7.0,28.0,24.0,504.0,153.0,80.0,68.0,47.0,252.0,289.0,4.0,183.0,183.0,126.0,19.0,3.0,2.0,204.0,13.0,33.0,58.0,290.0,3.0,75.0,357.0,288.0,37.0,33.0,227.0,31.0,10.0,147.0,23.0,1.0,2.0,155.0,1069.0,1.0,1.0,72.0,290.0,4.0,151.0,99.0,12.0,3.0],\"type\":\"choropleth\",\"geo\":\"geo\"},{\"colorbar\":{\"title\":{\"text\":\"Certified\"}},\"colorscale\":[[0.0,\"rgb(247,252,245)\"],[0.125,\"rgb(229,245,224)\"],[0.25,\"rgb(199,233,192)\"],[0.375,\"rgb(161,217,155)\"],[0.5,\"rgb(116,196,118)\"],[0.625,\"rgb(65,171,93)\"],[0.75,\"rgb(35,139,69)\"],[0.875,\"rgb(0,109,44)\"],[1.0,\"rgb(0,68,27)\"]],\"locationmode\":\"USA-states\",\"locations\":[\"AK\",\"AL\",\"AR\",\"AZ\",\"AZ-101\",\"Bldg\",\"CA\",\"CO\",\"CT\",\"DE\",\"FL\",\"GA\",\"Glens\",\"HI\",\"IA\",\"ID\",\"IL\",\"IN\",\"KS\",\"KY\",\"LA\",\"MA\",\"MD\",\"ME\",\"MI\",\"MN\",\"MO\",\"MS\",\"MT\",\"Michigan\",\"NC\",\"ND\",\"NE\",\"NH\",\"NJ\",\"NM\",\"NV\",\"NY\",\"OH\",\"OK\",\"OR\",\"PA\",\"RI\",\"RT\",\"SC\",\"SD\",\"SE\",\"Suite\",\"TN\",\"TX\",\"US-12\",\"US-169\",\"UT\",\"VA\",\"VT\",\"WA\",\"WI\",\"WV\",\"WY\"],\"name\":\"Certified\",\"z\":[0.0,10.0,1.0,61.0,0.0,0.0,114.0,27.0,30.0,4.0,157.0,38.0,0.0,9.0,7.0,4.0,89.0,30.0,1.0,11.0,4.0,68.0,34.0,4.0,85.0,45.0,44.0,4.0,1.0,0.0,25.0,1.0,4.0,22.0,47.0,2.0,18.0,83.0,41.0,8.0,4.0,55.0,4.0,3.0,16.0,0.0,0.0,0.0,11.0,156.0,0.0,0.0,1.0,50.0,3.0,14.0,28.0,1.0,0.0],\"type\":\"choropleth\",\"geo\":\"geo2\"}],                        {\"template\":{\"data\":{\"histogram2dcontour\":[{\"type\":\"histogram2dcontour\",\"colorbar\":{\"outlinewidth\":0,\"ticks\":\"\"},\"colorscale\":[[0.0,\"#0d0887\"],[0.1111111111111111,\"#46039f\"],[0.2222222222222222,\"#7201a8\"],[0.3333333333333333,\"#9c179e\"],[0.4444444444444444,\"#bd3786\"],[0.5555555555555556,\"#d8576b\"],[0.6666666666666666,\"#ed7953\"],[0.7777777777777778,\"#fb9f3a\"],[0.8888888888888888,\"#fdca26\"],[1.0,\"#f0f921\"]]}],\"choropleth\":[{\"type\":\"choropleth\",\"colorbar\":{\"outlinewidth\":0,\"ticks\":\"\"}}],\"histogram2d\":[{\"type\":\"histogram2d\",\"colorbar\":{\"outlinewidth\":0,\"ticks\":\"\"},\"colorscale\":[[0.0,\"#0d0887\"],[0.1111111111111111,\"#46039f\"],[0.2222222222222222,\"#7201a8\"],[0.3333333333333333,\"#9c179e\"],[0.4444444444444444,\"#bd3786\"],[0.5555555555555556,\"#d8576b\"],[0.6666666666666666,\"#ed7953\"],[0.7777777777777778,\"#fb9f3a\"],[0.8888888888888888,\"#fdca26\"],[1.0,\"#f0f921\"]]}],\"heatmap\":[{\"type\":\"heatmap\",\"colorbar\":{\"outlinewidth\":0,\"ticks\":\"\"},\"colorscale\":[[0.0,\"#0d0887\"],[0.1111111111111111,\"#46039f\"],[0.2222222222222222,\"#7201a8\"],[0.3333333333333333,\"#9c179e\"],[0.4444444444444444,\"#bd3786\"],[0.5555555555555556,\"#d8576b\"],[0.6666666666666666,\"#ed7953\"],[0.7777777777777778,\"#fb9f3a\"],[0.8888888888888888,\"#fdca26\"],[1.0,\"#f0f921\"]]}],\"heatmapgl\":[{\"type\":\"heatmapgl\",\"colorbar\":{\"outlinewidth\":0,\"ticks\":\"\"},\"colorscale\":[[0.0,\"#0d0887\"],[0.1111111111111111,\"#46039f\"],[0.2222222222222222,\"#7201a8\"],[0.3333333333333333,\"#9c179e\"],[0.4444444444444444,\"#bd3786\"],[0.5555555555555556,\"#d8576b\"],[0.6666666666666666,\"#ed7953\"],[0.7777777777777778,\"#fb9f3a\"],[0.8888888888888888,\"#fdca26\"],[1.0,\"#f0f921\"]]}],\"contourcarpet\":[{\"type\":\"contourcarpet\",\"colorbar\":{\"outlinewidth\":0,\"ticks\":\"\"}}],\"contour\":[{\"type\":\"contour\",\"colorbar\":{\"outlinewidth\":0,\"ticks\":\"\"},\"colorscale\":[[0.0,\"#0d0887\"],[0.1111111111111111,\"#46039f\"],[0.2222222222222222,\"#7201a8\"],[0.3333333333333333,\"#9c179e\"],[0.4444444444444444,\"#bd3786\"],[0.5555555555555556,\"#d8576b\"],[0.6666666666666666,\"#ed7953\"],[0.7777777777777778,\"#fb9f3a\"],[0.8888888888888888,\"#fdca26\"],[1.0,\"#f0f921\"]]}],\"surface\":[{\"type\":\"surface\",\"colorbar\":{\"outlinewidth\":0,\"ticks\":\"\"},\"colorscale\":[[0.0,\"#0d0887\"],[0.1111111111111111,\"#46039f\"],[0.2222222222222222,\"#7201a8\"],[0.3333333333333333,\"#9c179e\"],[0.4444444444444444,\"#bd3786\"],[0.5555555555555556,\"#d8576b\"],[0.6666666666666666,\"#ed7953\"],[0.7777777777777778,\"#fb9f3a\"],[0.8888888888888888,\"#fdca26\"],[1.0,\"#f0f921\"]]}],\"mesh3d\":[{\"type\":\"mesh3d\",\"colorbar\":{\"outlinewidth\":0,\"ticks\":\"\"}}],\"scatter\":[{\"fillpattern\":{\"fillmode\":\"overlay\",\"size\":10,\"solidity\":0.2},\"type\":\"scatter\"}],\"parcoords\":[{\"type\":\"parcoords\",\"line\":{\"colorbar\":{\"outlinewidth\":0,\"ticks\":\"\"}}}],\"scatterpolargl\":[{\"type\":\"scatterpolargl\",\"marker\":{\"colorbar\":{\"outlinewidth\":0,\"ticks\":\"\"}}}],\"bar\":[{\"error_x\":{\"color\":\"#2a3f5f\"},\"error_y\":{\"color\":\"#2a3f5f\"},\"marker\":{\"line\":{\"color\":\"#E5ECF6\",\"width\":0.5},\"pattern\":{\"fillmode\":\"overlay\",\"size\":10,\"solidity\":0.2}},\"type\":\"bar\"}],\"scattergeo\":[{\"type\":\"scattergeo\",\"marker\":{\"colorbar\":{\"outlinewidth\":0,\"ticks\":\"\"}}}],\"scatterpolar\":[{\"type\":\"scatterpolar\",\"marker\":{\"colorbar\":{\"outlinewidth\":0,\"ticks\":\"\"}}}],\"histogram\":[{\"marker\":{\"pattern\":{\"fillmode\":\"overlay\",\"size\":10,\"solidity\":0.2}},\"type\":\"histogram\"}],\"scattergl\":[{\"type\":\"scattergl\",\"marker\":{\"colorbar\":{\"outlinewidth\":0,\"ticks\":\"\"}}}],\"scatter3d\":[{\"type\":\"scatter3d\",\"line\":{\"colorbar\":{\"outlinewidth\":0,\"ticks\":\"\"}},\"marker\":{\"colorbar\":{\"outlinewidth\":0,\"ticks\":\"\"}}}],\"scattermapbox\":[{\"type\":\"scattermapbox\",\"marker\":{\"colorbar\":{\"outlinewidth\":0,\"ticks\":\"\"}}}],\"scatterternary\":[{\"type\":\"scatterternary\",\"marker\":{\"colorbar\":{\"outlinewidth\":0,\"ticks\":\"\"}}}],\"scattercarpet\":[{\"type\":\"scattercarpet\",\"marker\":{\"colorbar\":{\"outlinewidth\":0,\"ticks\":\"\"}}}],\"carpet\":[{\"aaxis\":{\"endlinecolor\":\"#2a3f5f\",\"gridcolor\":\"white\",\"linecolor\":\"white\",\"minorgridcolor\":\"white\",\"startlinecolor\":\"#2a3f5f\"},\"baxis\":{\"endlinecolor\":\"#2a3f5f\",\"gridcolor\":\"white\",\"linecolor\":\"white\",\"minorgridcolor\":\"white\",\"startlinecolor\":\"#2a3f5f\"},\"type\":\"carpet\"}],\"table\":[{\"cells\":{\"fill\":{\"color\":\"#EBF0F8\"},\"line\":{\"color\":\"white\"}},\"header\":{\"fill\":{\"color\":\"#C8D4E3\"},\"line\":{\"color\":\"white\"}},\"type\":\"table\"}],\"barpolar\":[{\"marker\":{\"line\":{\"color\":\"#E5ECF6\",\"width\":0.5},\"pattern\":{\"fillmode\":\"overlay\",\"size\":10,\"solidity\":0.2}},\"type\":\"barpolar\"}],\"pie\":[{\"automargin\":true,\"type\":\"pie\"}]},\"layout\":{\"autotypenumbers\":\"strict\",\"colorway\":[\"#636efa\",\"#EF553B\",\"#00cc96\",\"#ab63fa\",\"#FFA15A\",\"#19d3f3\",\"#FF6692\",\"#B6E880\",\"#FF97FF\",\"#FECB52\"],\"font\":{\"color\":\"#2a3f5f\"},\"hovermode\":\"closest\",\"hoverlabel\":{\"align\":\"left\"},\"paper_bgcolor\":\"white\",\"plot_bgcolor\":\"#E5ECF6\",\"polar\":{\"bgcolor\":\"#E5ECF6\",\"angularaxis\":{\"gridcolor\":\"white\",\"linecolor\":\"white\",\"ticks\":\"\"},\"radialaxis\":{\"gridcolor\":\"white\",\"linecolor\":\"white\",\"ticks\":\"\"}},\"ternary\":{\"bgcolor\":\"#E5ECF6\",\"aaxis\":{\"gridcolor\":\"white\",\"linecolor\":\"white\",\"ticks\":\"\"},\"baxis\":{\"gridcolor\":\"white\",\"linecolor\":\"white\",\"ticks\":\"\"},\"caxis\":{\"gridcolor\":\"white\",\"linecolor\":\"white\",\"ticks\":\"\"}},\"coloraxis\":{\"colorbar\":{\"outlinewidth\":0,\"ticks\":\"\"}},\"colorscale\":{\"sequential\":[[0.0,\"#0d0887\"],[0.1111111111111111,\"#46039f\"],[0.2222222222222222,\"#7201a8\"],[0.3333333333333333,\"#9c179e\"],[0.4444444444444444,\"#bd3786\"],[0.5555555555555556,\"#d8576b\"],[0.6666666666666666,\"#ed7953\"],[0.7777777777777778,\"#fb9f3a\"],[0.8888888888888888,\"#fdca26\"],[1.0,\"#f0f921\"]],\"sequentialminus\":[[0.0,\"#0d0887\"],[0.1111111111111111,\"#46039f\"],[0.2222222222222222,\"#7201a8\"],[0.3333333333333333,\"#9c179e\"],[0.4444444444444444,\"#bd3786\"],[0.5555555555555556,\"#d8576b\"],[0.6666666666666666,\"#ed7953\"],[0.7777777777777778,\"#fb9f3a\"],[0.8888888888888888,\"#fdca26\"],[1.0,\"#f0f921\"]],\"diverging\":[[0,\"#8e0152\"],[0.1,\"#c51b7d\"],[0.2,\"#de77ae\"],[0.3,\"#f1b6da\"],[0.4,\"#fde0ef\"],[0.5,\"#f7f7f7\"],[0.6,\"#e6f5d0\"],[0.7,\"#b8e186\"],[0.8,\"#7fbc41\"],[0.9,\"#4d9221\"],[1,\"#276419\"]]},\"xaxis\":{\"gridcolor\":\"white\",\"linecolor\":\"white\",\"ticks\":\"\",\"title\":{\"standoff\":15},\"zerolinecolor\":\"white\",\"automargin\":true,\"zerolinewidth\":2},\"yaxis\":{\"gridcolor\":\"white\",\"linecolor\":\"white\",\"ticks\":\"\",\"title\":{\"standoff\":15},\"zerolinecolor\":\"white\",\"automargin\":true,\"zerolinewidth\":2},\"scene\":{\"xaxis\":{\"backgroundcolor\":\"#E5ECF6\",\"gridcolor\":\"white\",\"linecolor\":\"white\",\"showbackground\":true,\"ticks\":\"\",\"zerolinecolor\":\"white\",\"gridwidth\":2},\"yaxis\":{\"backgroundcolor\":\"#E5ECF6\",\"gridcolor\":\"white\",\"linecolor\":\"white\",\"showbackground\":true,\"ticks\":\"\",\"zerolinecolor\":\"white\",\"gridwidth\":2},\"zaxis\":{\"backgroundcolor\":\"#E5ECF6\",\"gridcolor\":\"white\",\"linecolor\":\"white\",\"showbackground\":true,\"ticks\":\"\",\"zerolinecolor\":\"white\",\"gridwidth\":2}},\"shapedefaults\":{\"line\":{\"color\":\"#2a3f5f\"}},\"annotationdefaults\":{\"arrowcolor\":\"#2a3f5f\",\"arrowhead\":0,\"arrowwidth\":1},\"geo\":{\"bgcolor\":\"white\",\"landcolor\":\"#E5ECF6\",\"subunitcolor\":\"white\",\"showland\":true,\"showlakes\":true,\"lakecolor\":\"white\"},\"title\":{\"x\":0.05},\"mapbox\":{\"style\":\"light\"}}},\"geo\":{\"domain\":{\"x\":[0.0,0.45],\"y\":[0.0,1.0]},\"scope\":\"usa\"},\"geo2\":{\"domain\":{\"x\":[0.55,1.0],\"y\":[0.0,1.0]}},\"annotations\":[{\"font\":{\"size\":16},\"showarrow\":false,\"text\":\"Used Listings\",\"x\":0.225,\"xanchor\":\"center\",\"xref\":\"paper\",\"y\":1.0,\"yanchor\":\"bottom\",\"yref\":\"paper\"},{\"font\":{\"size\":16},\"showarrow\":false,\"text\":\"Certified Listings\",\"x\":0.775,\"xanchor\":\"center\",\"xref\":\"paper\",\"y\":1.0,\"yanchor\":\"bottom\",\"yref\":\"paper\"}],\"title\":{\"text\":\"Used vs Certified Car Listings by State\"},\"height\":600,\"width\":1000},                        {\"responsive\": true}                    ).then(function(){\n",
       "                            \n",
       "var gd = document.getElementById('ed7d3bc4-786b-4c88-b37a-ca13ce4e1eac');\n",
       "var x = new MutationObserver(function (mutations, observer) {{\n",
       "        var display = window.getComputedStyle(gd).display;\n",
       "        if (!display || display === 'none') {{\n",
       "            console.log([gd, 'removed!']);\n",
       "            Plotly.purge(gd);\n",
       "            observer.disconnect();\n",
       "        }}\n",
       "}});\n",
       "\n",
       "// Listen for the removal of the full notebook cells\n",
       "var notebookContainer = gd.closest('#notebook-container');\n",
       "if (notebookContainer) {{\n",
       "    x.observe(notebookContainer, {childList: true});\n",
       "}}\n",
       "\n",
       "// Listen for the clearing of the current output cell\n",
       "var outputEl = gd.closest('.output');\n",
       "if (outputEl) {{\n",
       "    x.observe(outputEl, {childList: true});\n",
       "}}\n",
       "\n",
       "                        })                };                });            </script>        </div>"
      ]
     },
     "metadata": {},
     "output_type": "display_data"
    }
   ],
   "source": [
    "import plotly.express as px\n",
    "from plotly.subplots import make_subplots\n",
    "import plotly.graph_objects as go\n",
    "\n",
    "# Create figure with 2 choropleth subplots\n",
    "fig = make_subplots(\n",
    "    rows=1, cols=2,\n",
    "    subplot_titles=(\"Used Listings\", \"Certified Listings\"),\n",
    "    specs=[[{\"type\": \"choropleth\"}, {\"type\": \"choropleth\"}]]\n",
    ")\n",
    "\n",
    "# Used Map\n",
    "fig.add_trace(\n",
    "    go.Choropleth(\n",
    "        locations=pivot_df['State'],\n",
    "        z=pivot_df['Used'],\n",
    "        locationmode='USA-states',\n",
    "        colorscale='Blues',\n",
    "        colorbar_title=\"Used\",\n",
    "        name=\"Used\"\n",
    "    ),\n",
    "    row=1, col=1\n",
    ")\n",
    "\n",
    "# Certified Map\n",
    "fig.add_trace(\n",
    "    go.Choropleth(\n",
    "        locations=pivot_df['State'],\n",
    "        z=pivot_df['Certified'],\n",
    "        locationmode='USA-states',\n",
    "        colorscale='Greens',\n",
    "        colorbar_title=\"Certified\",\n",
    "        name=\"Certified\"\n",
    "    ),\n",
    "    row=1, col=2\n",
    ")\n",
    "\n",
    "fig.update_layout(\n",
    "    title_text=\"Used vs Certified Car Listings by State\",\n",
    "    geo_scope='usa',\n",
    "    height=600,\n",
    "    width=1000\n",
    ")\n",
    "\n",
    "fig.show()\n"
   ]
  },
  {
   "cell_type": "code",
   "execution_count": 110,
   "id": "ac491a6b-52c3-4678-a34e-963aa7fc65ac",
   "metadata": {},
   "outputs": [
    {
     "name": "stdout",
     "output_type": "stream",
     "text": [
      "     Zipcode State  Used_Car_Listings\n",
      "1644   76051    TX                 69\n",
      "1601   75093    TX                 65\n",
      "561    30096    GA                 63\n",
      "527    29607    SC                 48\n",
      "1581   75034    TX                 46\n",
      "320    20852    MD                 43\n",
      "1340   60540    IL                 42\n",
      "1896   85260    AZ                 39\n",
      "1612   75209    TX                 38\n",
      "1868   84115    UT                 35\n",
      "372    22182    VA                 34\n",
      "1944   89146    NV                 33\n",
      "302     2062    MA                 32\n",
      "700    33181    FL                 31\n",
      "287    20151    VA                 31\n",
      "1342   60559    IL                 31\n",
      "1899   85284    AZ                 30\n",
      "555    30076    GA                 30\n",
      "291    20166    VA                 30\n",
      "1590   75062    TX                 29\n"
     ]
    }
   ],
   "source": [
    "import pandas as pd\n",
    "\n",
    "# Load and prep dataset\n",
    "df = pd.read_csv(\"Online_Cars_Sale_Marketplace.csv\")\n",
    "\n",
    "# Clean 'Used/New' column\n",
    "df['Used/New'] = df['Used/New'].str.strip()\n",
    "df['Used/New'] = df['Used/New'].replace(\n",
    "    to_replace=r'(?i).*certified.*', value='Certified', regex=True\n",
    ")\n",
    "\n",
    "# Drop rows missing Used/New or location data\n",
    "df = df.dropna(subset=['Used/New', 'Zipcode', 'State'])\n",
    "\n",
    "# Filter for Used + Certified listings\n",
    "df_used = df[df['Used/New'].isin(['Used', 'Certified'])].copy()\n",
    "\n",
    "# Create ownership label for uniformity\n",
    "df_used['Ownership'] = 'Used'\n",
    "\n",
    "# Group by both Zipcode and State\n",
    "used_by_zip_state = df_used.groupby(['Zipcode', 'State']).size().reset_index(name='Used_Car_Listings')\n",
    "\n",
    "# Sort by number of listings\n",
    "used_by_zip_state_sorted = used_by_zip_state.sort_values(by='Used_Car_Listings', ascending=False)\n",
    "\n",
    "# Show top 10 zip-state combos\n",
    "print(used_by_zip_state_sorted.head(20))\n"
   ]
  },
  {
   "cell_type": "code",
   "execution_count": 112,
   "id": "dd46620d-acfb-4137-ac22-9d1e8e93ebec",
   "metadata": {},
   "outputs": [
    {
     "name": "stdout",
     "output_type": "stream",
     "text": [
      "      Zipcode State            City  Used_Car_Listings\n",
      "1644    76051    TX       Grapevine                 69\n",
      "1601    75093    TX           Plano                 65\n",
      "561     30096    GA          Duluth                 63\n",
      "527     29607    SC      Greenville                 48\n",
      "1581    75034    TX          Frisco                 46\n",
      "320     20852    MD       Rockville                 43\n",
      "1340    60540    IL      Naperville                 42\n",
      "1896    85260    AZ      Scottsdale                 39\n",
      "1612    75209    TX          Dallas                 38\n",
      "1868    84115    UT  Salt Lake City                 35\n",
      "372     22182    VA          Vienna                 34\n",
      "1944    89146    NV       Las Vegas                 33\n",
      "302      2062    MA         Norwood                 32\n",
      "700     33181    FL     North Miami                 31\n",
      "287     20151    VA       Chantilly                 31\n",
      "1342    60559    IL        Westmont                 31\n",
      "1899    85284    AZ           Tempe                 30\n",
      "555     30076    GA         Roswell                 30\n",
      "291     20166    VA        Sterling                 30\n",
      "1590    75062    TX          Irving                 29\n"
     ]
    }
   ],
   "source": [
    "# Group by Zipcode and State\n",
    "used_by_zip_state = df_used.groupby(['Zipcode', 'State']).size().reset_index(name='Used_Car_Listings')\n",
    "\n",
    "# Sort to get top ZIP codes\n",
    "used_by_zip_state_sorted = used_by_zip_state.sort_values(by='Used_Car_Listings', ascending=False)\n",
    "\n",
    "# Define top 20 ZIP -> City mapping\n",
    "zip_city_map = {\n",
    "    76051: 'Grapevine', 75093: 'Plano', 30096: 'Duluth', 29607: 'Greenville', 75034: 'Frisco',\n",
    "    20852: 'Rockville', 60540: 'Naperville', 85260: 'Scottsdale', 75209: 'Dallas', 84115: 'Salt Lake City',\n",
    "    22182: 'Vienna', 89146: 'Las Vegas', 2062: 'Norwood', 33181: 'North Miami', 20151: 'Chantilly',\n",
    "    60559: 'Westmont', 85284: 'Tempe', 30076: 'Roswell', 20166: 'Sterling', 75062: 'Irving'\n",
    "}\n",
    "\n",
    "# Clean Zipcode column and filter top 20 ZIP codes\n",
    "used_by_zip_state_sorted['Zipcode'] = used_by_zip_state_sorted['Zipcode'].astype(str)\n",
    "used_by_zip_state_sorted = used_by_zip_state_sorted[used_by_zip_state_sorted['Zipcode'].str.isnumeric()]\n",
    "used_by_zip_state_sorted['Zipcode'] = used_by_zip_state_sorted['Zipcode'].astype(int)\n",
    "\n",
    "# Filter to only top 20 ZIP codes\n",
    "top_20_zips = list(zip_city_map.keys())\n",
    "used_top20 = used_by_zip_state_sorted[used_by_zip_state_sorted['Zipcode'].isin(top_20_zips)].copy()\n",
    "\n",
    "# Add City column\n",
    "used_top20['City'] = used_top20['Zipcode'].apply(lambda z: zip_city_map.get(z, 'not calculated'))\n",
    "\n",
    "# Preview\n",
    "print(used_top20[['Zipcode', 'State', 'City', 'Used_Car_Listings']].sort_values(by='Used_Car_Listings', ascending=False))\n"
   ]
  },
  {
   "cell_type": "code",
   "execution_count": 114,
   "id": "6a8096e7-9c44-4f8d-b7b9-18178ff111da",
   "metadata": {},
   "outputs": [],
   "source": [
    "\n",
    "# !pip install uszipcode\n",
    "# # Install once (you can skip this line after first install)\n",
    "# # !pip install uszipcode\n",
    "\n",
    "# from uszipcode import SearchEngine\n",
    "# search = SearchEngine(simple_zipcode=True)\n",
    "\n",
    "# # Make sure ZIP is string for lookup\n",
    "# df_used['Zipcode'] = df_used['Zipcode'].astype(str)\n",
    "\n",
    "# # Define city lookup function\n",
    "# def get_city(zipcode):\n",
    "#     result = search.by_zipcode(zipcode)\n",
    "#     return result.major_city if result and result.major_city else 'not found'\n",
    "\n",
    "# # Apply city lookup to all rows\n",
    "# df_used['City'] = df_used['Zipcode'].apply(get_city)\n"
   ]
  },
  {
   "cell_type": "code",
   "execution_count": 116,
   "id": "c7f3f91f-5de1-4927-9c77-fcaf9fbea64f",
   "metadata": {},
   "outputs": [],
   "source": [
    "# pip uninstall uszipcode sqlalchemy_mate -y\n",
    "# pip install uszipcode==0.2.6 sqlalchemy_mate==1.4.0\n"
   ]
  },
  {
   "cell_type": "code",
   "execution_count": 118,
   "id": "be59eb6e-a29a-4407-bcb0-bd5d8184138b",
   "metadata": {},
   "outputs": [],
   "source": [
    "# import pandas as pd\n",
    "# import plotly.express as px\n",
    "\n",
    "# # Top 20 ZIPs with city and coordinates\n",
    "# data = [\n",
    "#     (76051, 'Grapevine', 32.9343, -97.0781, 69),\n",
    "#     (75093, 'Plano', 33.0347, -96.8311, 65),\n",
    "#     (30096, 'Duluth', 34.0029, -84.1472, 63),\n",
    "#     (29607, 'Greenville', 34.8256, -82.3402, 48),\n",
    "#     (75034, 'Frisco', 33.1507, -96.8236, 46),\n",
    "#     (20852, 'Rockville', 39.059, -77.1198, 43),\n",
    "#     (60540, 'Naperville', 41.764, -88.149, 42),\n",
    "#     (85260, 'Scottsdale', 33.5963, -111.8915, 39),\n",
    "#     (75209, 'Dallas', 32.8462, -96.8269, 38),\n",
    "#     (84115, 'Salt Lake City', 40.723, -111.8927, 35),\n",
    "#     (22182, 'Vienna', 38.9222, -77.2565, 34),\n",
    "#     (89146, 'Las Vegas', 36.1398, -115.2337, 33),\n",
    "#     (2062, 'Norwood', 42.1854, -71.1995, 32),\n",
    "#     (33181, 'North Miami', 25.897, -80.154, 31),\n",
    "#     (20151, 'Chantilly', 38.8912, -77.4446, 31),\n",
    "#     (60559, 'Westmont', 41.7942, -87.9767, 31),\n",
    "# #     (85284, 'Tempe', 33.339, -111.9293, 30),\n",
    "#     (30076, 'Roswell', 34.033, -84.3175, 30),\n",
    "#     (20166, 'Sterling', 39.0022, -77.4291, 30),\n",
    "#     (75062, 'Irving', 32.8466, -96.9847, 29)\n",
    "# ]\n",
    "\n",
    "# df_map = pd.DataFrame(data, columns=['Zipcode', 'City', 'Latitude', 'Longitude', 'Used_Car_Listings'])\n",
    "\n",
    "# # Plot using Plotly\n",
    "# fig = px.scatter_mapbox(\n",
    "#     df_map,\n",
    "#     lat=\"Latitude\",\n",
    "#     lon=\"Longitude\",\n",
    "#     hover_name=\"City\",\n",
    "#     hover_data=[\"Zipcode\", \"Used_Car_Listings\"],\n",
    "#     size=\"Used_Car_Listings\",\n",
    "#     color=\"Used_Car_Listings\",\n",
    "#     color_continuous_scale=\"Viridis\",\n",
    "#     size_max=30,\n",
    "#     zoom=3\n",
    "# )\n",
    "\n",
    "# fig.update_layout(mapbox_style=\"open-street-map\")\n",
    "# fig.update_layout(title=\"Top 20 ZIP Codes with Most Used Car Listings\")\n",
    "# fig.show()\n"
   ]
  },
  {
   "cell_type": "code",
   "execution_count": 120,
   "id": "31ac39db-5333-4688-baf9-0484818776f9",
   "metadata": {},
   "outputs": [
    {
     "data": {
      "application/vnd.plotly.v1+json": {
       "config": {
        "plotlyServerURL": "https://plot.ly"
       },
       "data": [
        {
         "customdata": [
          [
           "TX",
           76051,
           69
          ],
          [
           "TX",
           75093,
           65
          ],
          [
           "GA",
           30096,
           63
          ],
          [
           "SC",
           29607,
           48
          ],
          [
           "TX",
           75034,
           46
          ],
          [
           "MD",
           20852,
           43
          ],
          [
           "IL",
           60540,
           42
          ],
          [
           "AZ",
           85260,
           39
          ],
          [
           "TX",
           75209,
           38
          ],
          [
           "UT",
           84115,
           35
          ],
          [
           "VA",
           22182,
           34
          ],
          [
           "NV",
           89146,
           33
          ],
          [
           "MA",
           2062,
           32
          ],
          [
           "FL",
           33181,
           31
          ],
          [
           "VA",
           20151,
           31
          ],
          [
           "IL",
           60559,
           31
          ],
          [
           "AZ",
           85284,
           30
          ],
          [
           "GA",
           30076,
           30
          ],
          [
           "VA",
           20166,
           30
          ],
          [
           "TX",
           75062,
           29
          ]
         ],
         "hovertemplate": "<b>%{hovertext}</b><br><br>Used_Car_Listings=%{marker.color}<br>Latitude=%{lat}<br>Longitude=%{lon}<br>State=%{customdata[0]}<br>Zipcode=%{customdata[1]}<extra></extra>",
         "hovertext": [
          "Grapevine",
          "Plano",
          "Duluth",
          "Greenville",
          "Frisco",
          "Rockville",
          "Naperville",
          "Scottsdale",
          "Dallas",
          "Salt Lake City",
          "Vienna",
          "Las Vegas",
          "Norwood",
          "North Miami",
          "Chantilly",
          "Westmont",
          "Tempe",
          "Roswell",
          "Sterling",
          "Irving"
         ],
         "lat": [
          32.9343,
          33.0347,
          34.0029,
          34.8256,
          33.1507,
          39.059,
          41.764,
          33.5963,
          32.8462,
          40.723,
          38.9222,
          36.1398,
          42.1854,
          25.897,
          38.8912,
          41.7942,
          33.339,
          34.033,
          39.0022,
          32.8466
         ],
         "legendgroup": "",
         "lon": [
          -97.0781,
          -96.8311,
          -84.1472,
          -82.3402,
          -96.8236,
          -77.1198,
          -88.149,
          -111.8915,
          -96.8269,
          -111.8927,
          -77.2565,
          -115.2337,
          -71.1995,
          -80.154,
          -77.4446,
          -87.9767,
          -111.9293,
          -84.3175,
          -77.4291,
          -96.9847
         ],
         "marker": {
          "color": [
           69,
           65,
           63,
           48,
           46,
           43,
           42,
           39,
           38,
           35,
           34,
           33,
           32,
           31,
           31,
           31,
           30,
           30,
           30,
           29
          ],
          "coloraxis": "coloraxis",
          "size": [
           69,
           65,
           63,
           48,
           46,
           43,
           42,
           39,
           38,
           35,
           34,
           33,
           32,
           31,
           31,
           31,
           30,
           30,
           30,
           29
          ],
          "sizemode": "area",
          "sizeref": 0.07666666666666666
         },
         "mode": "markers",
         "name": "",
         "showlegend": false,
         "subplot": "mapbox",
         "type": "scattermapbox"
        }
       ],
       "layout": {
        "coloraxis": {
         "colorbar": {
          "title": {
           "text": "Used_Car_Listings"
          }
         },
         "colorscale": [
          [
           0,
           "#440154"
          ],
          [
           0.1111111111111111,
           "#482878"
          ],
          [
           0.2222222222222222,
           "#3e4989"
          ],
          [
           0.3333333333333333,
           "#31688e"
          ],
          [
           0.4444444444444444,
           "#26828e"
          ],
          [
           0.5555555555555556,
           "#1f9e89"
          ],
          [
           0.6666666666666666,
           "#35b779"
          ],
          [
           0.7777777777777778,
           "#6ece58"
          ],
          [
           0.8888888888888888,
           "#b5de2b"
          ],
          [
           1,
           "#fde725"
          ]
         ]
        },
        "legend": {
         "itemsizing": "constant",
         "tracegroupgap": 0
        },
        "mapbox": {
         "center": {
          "lat": 35.94936499999999,
          "lon": -91.151285
         },
         "domain": {
          "x": [
           0,
           1
          ],
          "y": [
           0,
           1
          ]
         },
         "style": "open-street-map",
         "zoom": 3
        },
        "margin": {
         "t": 60
        },
        "template": {
         "data": {
          "bar": [
           {
            "error_x": {
             "color": "#2a3f5f"
            },
            "error_y": {
             "color": "#2a3f5f"
            },
            "marker": {
             "line": {
              "color": "#E5ECF6",
              "width": 0.5
             },
             "pattern": {
              "fillmode": "overlay",
              "size": 10,
              "solidity": 0.2
             }
            },
            "type": "bar"
           }
          ],
          "barpolar": [
           {
            "marker": {
             "line": {
              "color": "#E5ECF6",
              "width": 0.5
             },
             "pattern": {
              "fillmode": "overlay",
              "size": 10,
              "solidity": 0.2
             }
            },
            "type": "barpolar"
           }
          ],
          "carpet": [
           {
            "aaxis": {
             "endlinecolor": "#2a3f5f",
             "gridcolor": "white",
             "linecolor": "white",
             "minorgridcolor": "white",
             "startlinecolor": "#2a3f5f"
            },
            "baxis": {
             "endlinecolor": "#2a3f5f",
             "gridcolor": "white",
             "linecolor": "white",
             "minorgridcolor": "white",
             "startlinecolor": "#2a3f5f"
            },
            "type": "carpet"
           }
          ],
          "choropleth": [
           {
            "colorbar": {
             "outlinewidth": 0,
             "ticks": ""
            },
            "type": "choropleth"
           }
          ],
          "contour": [
           {
            "colorbar": {
             "outlinewidth": 0,
             "ticks": ""
            },
            "colorscale": [
             [
              0,
              "#0d0887"
             ],
             [
              0.1111111111111111,
              "#46039f"
             ],
             [
              0.2222222222222222,
              "#7201a8"
             ],
             [
              0.3333333333333333,
              "#9c179e"
             ],
             [
              0.4444444444444444,
              "#bd3786"
             ],
             [
              0.5555555555555556,
              "#d8576b"
             ],
             [
              0.6666666666666666,
              "#ed7953"
             ],
             [
              0.7777777777777778,
              "#fb9f3a"
             ],
             [
              0.8888888888888888,
              "#fdca26"
             ],
             [
              1,
              "#f0f921"
             ]
            ],
            "type": "contour"
           }
          ],
          "contourcarpet": [
           {
            "colorbar": {
             "outlinewidth": 0,
             "ticks": ""
            },
            "type": "contourcarpet"
           }
          ],
          "heatmap": [
           {
            "colorbar": {
             "outlinewidth": 0,
             "ticks": ""
            },
            "colorscale": [
             [
              0,
              "#0d0887"
             ],
             [
              0.1111111111111111,
              "#46039f"
             ],
             [
              0.2222222222222222,
              "#7201a8"
             ],
             [
              0.3333333333333333,
              "#9c179e"
             ],
             [
              0.4444444444444444,
              "#bd3786"
             ],
             [
              0.5555555555555556,
              "#d8576b"
             ],
             [
              0.6666666666666666,
              "#ed7953"
             ],
             [
              0.7777777777777778,
              "#fb9f3a"
             ],
             [
              0.8888888888888888,
              "#fdca26"
             ],
             [
              1,
              "#f0f921"
             ]
            ],
            "type": "heatmap"
           }
          ],
          "heatmapgl": [
           {
            "colorbar": {
             "outlinewidth": 0,
             "ticks": ""
            },
            "colorscale": [
             [
              0,
              "#0d0887"
             ],
             [
              0.1111111111111111,
              "#46039f"
             ],
             [
              0.2222222222222222,
              "#7201a8"
             ],
             [
              0.3333333333333333,
              "#9c179e"
             ],
             [
              0.4444444444444444,
              "#bd3786"
             ],
             [
              0.5555555555555556,
              "#d8576b"
             ],
             [
              0.6666666666666666,
              "#ed7953"
             ],
             [
              0.7777777777777778,
              "#fb9f3a"
             ],
             [
              0.8888888888888888,
              "#fdca26"
             ],
             [
              1,
              "#f0f921"
             ]
            ],
            "type": "heatmapgl"
           }
          ],
          "histogram": [
           {
            "marker": {
             "pattern": {
              "fillmode": "overlay",
              "size": 10,
              "solidity": 0.2
             }
            },
            "type": "histogram"
           }
          ],
          "histogram2d": [
           {
            "colorbar": {
             "outlinewidth": 0,
             "ticks": ""
            },
            "colorscale": [
             [
              0,
              "#0d0887"
             ],
             [
              0.1111111111111111,
              "#46039f"
             ],
             [
              0.2222222222222222,
              "#7201a8"
             ],
             [
              0.3333333333333333,
              "#9c179e"
             ],
             [
              0.4444444444444444,
              "#bd3786"
             ],
             [
              0.5555555555555556,
              "#d8576b"
             ],
             [
              0.6666666666666666,
              "#ed7953"
             ],
             [
              0.7777777777777778,
              "#fb9f3a"
             ],
             [
              0.8888888888888888,
              "#fdca26"
             ],
             [
              1,
              "#f0f921"
             ]
            ],
            "type": "histogram2d"
           }
          ],
          "histogram2dcontour": [
           {
            "colorbar": {
             "outlinewidth": 0,
             "ticks": ""
            },
            "colorscale": [
             [
              0,
              "#0d0887"
             ],
             [
              0.1111111111111111,
              "#46039f"
             ],
             [
              0.2222222222222222,
              "#7201a8"
             ],
             [
              0.3333333333333333,
              "#9c179e"
             ],
             [
              0.4444444444444444,
              "#bd3786"
             ],
             [
              0.5555555555555556,
              "#d8576b"
             ],
             [
              0.6666666666666666,
              "#ed7953"
             ],
             [
              0.7777777777777778,
              "#fb9f3a"
             ],
             [
              0.8888888888888888,
              "#fdca26"
             ],
             [
              1,
              "#f0f921"
             ]
            ],
            "type": "histogram2dcontour"
           }
          ],
          "mesh3d": [
           {
            "colorbar": {
             "outlinewidth": 0,
             "ticks": ""
            },
            "type": "mesh3d"
           }
          ],
          "parcoords": [
           {
            "line": {
             "colorbar": {
              "outlinewidth": 0,
              "ticks": ""
             }
            },
            "type": "parcoords"
           }
          ],
          "pie": [
           {
            "automargin": true,
            "type": "pie"
           }
          ],
          "scatter": [
           {
            "fillpattern": {
             "fillmode": "overlay",
             "size": 10,
             "solidity": 0.2
            },
            "type": "scatter"
           }
          ],
          "scatter3d": [
           {
            "line": {
             "colorbar": {
              "outlinewidth": 0,
              "ticks": ""
             }
            },
            "marker": {
             "colorbar": {
              "outlinewidth": 0,
              "ticks": ""
             }
            },
            "type": "scatter3d"
           }
          ],
          "scattercarpet": [
           {
            "marker": {
             "colorbar": {
              "outlinewidth": 0,
              "ticks": ""
             }
            },
            "type": "scattercarpet"
           }
          ],
          "scattergeo": [
           {
            "marker": {
             "colorbar": {
              "outlinewidth": 0,
              "ticks": ""
             }
            },
            "type": "scattergeo"
           }
          ],
          "scattergl": [
           {
            "marker": {
             "colorbar": {
              "outlinewidth": 0,
              "ticks": ""
             }
            },
            "type": "scattergl"
           }
          ],
          "scattermapbox": [
           {
            "marker": {
             "colorbar": {
              "outlinewidth": 0,
              "ticks": ""
             }
            },
            "type": "scattermapbox"
           }
          ],
          "scatterpolar": [
           {
            "marker": {
             "colorbar": {
              "outlinewidth": 0,
              "ticks": ""
             }
            },
            "type": "scatterpolar"
           }
          ],
          "scatterpolargl": [
           {
            "marker": {
             "colorbar": {
              "outlinewidth": 0,
              "ticks": ""
             }
            },
            "type": "scatterpolargl"
           }
          ],
          "scatterternary": [
           {
            "marker": {
             "colorbar": {
              "outlinewidth": 0,
              "ticks": ""
             }
            },
            "type": "scatterternary"
           }
          ],
          "surface": [
           {
            "colorbar": {
             "outlinewidth": 0,
             "ticks": ""
            },
            "colorscale": [
             [
              0,
              "#0d0887"
             ],
             [
              0.1111111111111111,
              "#46039f"
             ],
             [
              0.2222222222222222,
              "#7201a8"
             ],
             [
              0.3333333333333333,
              "#9c179e"
             ],
             [
              0.4444444444444444,
              "#bd3786"
             ],
             [
              0.5555555555555556,
              "#d8576b"
             ],
             [
              0.6666666666666666,
              "#ed7953"
             ],
             [
              0.7777777777777778,
              "#fb9f3a"
             ],
             [
              0.8888888888888888,
              "#fdca26"
             ],
             [
              1,
              "#f0f921"
             ]
            ],
            "type": "surface"
           }
          ],
          "table": [
           {
            "cells": {
             "fill": {
              "color": "#EBF0F8"
             },
             "line": {
              "color": "white"
             }
            },
            "header": {
             "fill": {
              "color": "#C8D4E3"
             },
             "line": {
              "color": "white"
             }
            },
            "type": "table"
           }
          ]
         },
         "layout": {
          "annotationdefaults": {
           "arrowcolor": "#2a3f5f",
           "arrowhead": 0,
           "arrowwidth": 1
          },
          "autotypenumbers": "strict",
          "coloraxis": {
           "colorbar": {
            "outlinewidth": 0,
            "ticks": ""
           }
          },
          "colorscale": {
           "diverging": [
            [
             0,
             "#8e0152"
            ],
            [
             0.1,
             "#c51b7d"
            ],
            [
             0.2,
             "#de77ae"
            ],
            [
             0.3,
             "#f1b6da"
            ],
            [
             0.4,
             "#fde0ef"
            ],
            [
             0.5,
             "#f7f7f7"
            ],
            [
             0.6,
             "#e6f5d0"
            ],
            [
             0.7,
             "#b8e186"
            ],
            [
             0.8,
             "#7fbc41"
            ],
            [
             0.9,
             "#4d9221"
            ],
            [
             1,
             "#276419"
            ]
           ],
           "sequential": [
            [
             0,
             "#0d0887"
            ],
            [
             0.1111111111111111,
             "#46039f"
            ],
            [
             0.2222222222222222,
             "#7201a8"
            ],
            [
             0.3333333333333333,
             "#9c179e"
            ],
            [
             0.4444444444444444,
             "#bd3786"
            ],
            [
             0.5555555555555556,
             "#d8576b"
            ],
            [
             0.6666666666666666,
             "#ed7953"
            ],
            [
             0.7777777777777778,
             "#fb9f3a"
            ],
            [
             0.8888888888888888,
             "#fdca26"
            ],
            [
             1,
             "#f0f921"
            ]
           ],
           "sequentialminus": [
            [
             0,
             "#0d0887"
            ],
            [
             0.1111111111111111,
             "#46039f"
            ],
            [
             0.2222222222222222,
             "#7201a8"
            ],
            [
             0.3333333333333333,
             "#9c179e"
            ],
            [
             0.4444444444444444,
             "#bd3786"
            ],
            [
             0.5555555555555556,
             "#d8576b"
            ],
            [
             0.6666666666666666,
             "#ed7953"
            ],
            [
             0.7777777777777778,
             "#fb9f3a"
            ],
            [
             0.8888888888888888,
             "#fdca26"
            ],
            [
             1,
             "#f0f921"
            ]
           ]
          },
          "colorway": [
           "#636efa",
           "#EF553B",
           "#00cc96",
           "#ab63fa",
           "#FFA15A",
           "#19d3f3",
           "#FF6692",
           "#B6E880",
           "#FF97FF",
           "#FECB52"
          ],
          "font": {
           "color": "#2a3f5f"
          },
          "geo": {
           "bgcolor": "white",
           "lakecolor": "white",
           "landcolor": "#E5ECF6",
           "showlakes": true,
           "showland": true,
           "subunitcolor": "white"
          },
          "hoverlabel": {
           "align": "left"
          },
          "hovermode": "closest",
          "mapbox": {
           "style": "light"
          },
          "paper_bgcolor": "white",
          "plot_bgcolor": "#E5ECF6",
          "polar": {
           "angularaxis": {
            "gridcolor": "white",
            "linecolor": "white",
            "ticks": ""
           },
           "bgcolor": "#E5ECF6",
           "radialaxis": {
            "gridcolor": "white",
            "linecolor": "white",
            "ticks": ""
           }
          },
          "scene": {
           "xaxis": {
            "backgroundcolor": "#E5ECF6",
            "gridcolor": "white",
            "gridwidth": 2,
            "linecolor": "white",
            "showbackground": true,
            "ticks": "",
            "zerolinecolor": "white"
           },
           "yaxis": {
            "backgroundcolor": "#E5ECF6",
            "gridcolor": "white",
            "gridwidth": 2,
            "linecolor": "white",
            "showbackground": true,
            "ticks": "",
            "zerolinecolor": "white"
           },
           "zaxis": {
            "backgroundcolor": "#E5ECF6",
            "gridcolor": "white",
            "gridwidth": 2,
            "linecolor": "white",
            "showbackground": true,
            "ticks": "",
            "zerolinecolor": "white"
           }
          },
          "shapedefaults": {
           "line": {
            "color": "#2a3f5f"
           }
          },
          "ternary": {
           "aaxis": {
            "gridcolor": "white",
            "linecolor": "white",
            "ticks": ""
           },
           "baxis": {
            "gridcolor": "white",
            "linecolor": "white",
            "ticks": ""
           },
           "bgcolor": "#E5ECF6",
           "caxis": {
            "gridcolor": "white",
            "linecolor": "white",
            "ticks": ""
           }
          },
          "title": {
           "x": 0.05
          },
          "xaxis": {
           "automargin": true,
           "gridcolor": "white",
           "linecolor": "white",
           "ticks": "",
           "title": {
            "standoff": 15
           },
           "zerolinecolor": "white",
           "zerolinewidth": 2
          },
          "yaxis": {
           "automargin": true,
           "gridcolor": "white",
           "linecolor": "white",
           "ticks": "",
           "title": {
            "standoff": 15
           },
           "zerolinecolor": "white",
           "zerolinewidth": 2
          }
         }
        },
        "title": {
         "text": "Top 20 ZIP Codes with Most Used Car Listings (with States)"
        }
       }
      },
      "image/png": "[encoded data removed]",
      "text/html": [
       "<div>                            <div id=\"d38941b2-7c55-42e3-a282-d977b80618d4\" class=\"plotly-graph-div\" style=\"height:525px; width:100%;\"></div>            <script type=\"text/javascript\">                require([\"plotly\"], function(Plotly) {                    window.PLOTLYENV=window.PLOTLYENV || {};                                    if (document.getElementById(\"d38941b2-7c55-42e3-a282-d977b80618d4\")) {                    Plotly.newPlot(                        \"d38941b2-7c55-42e3-a282-d977b80618d4\",                        [{\"customdata\":[[\"TX\",76051,69],[\"TX\",75093,65],[\"GA\",30096,63],[\"SC\",29607,48],[\"TX\",75034,46],[\"MD\",20852,43],[\"IL\",60540,42],[\"AZ\",85260,39],[\"TX\",75209,38],[\"UT\",84115,35],[\"VA\",22182,34],[\"NV\",89146,33],[\"MA\",2062,32],[\"FL\",33181,31],[\"VA\",20151,31],[\"IL\",60559,31],[\"AZ\",85284,30],[\"GA\",30076,30],[\"VA\",20166,30],[\"TX\",75062,29]],\"hovertemplate\":\"\\u003cb\\u003e%{hovertext}\\u003c\\u002fb\\u003e\\u003cbr\\u003e\\u003cbr\\u003eUsed_Car_Listings=%{marker.color}\\u003cbr\\u003eLatitude=%{lat}\\u003cbr\\u003eLongitude=%{lon}\\u003cbr\\u003eState=%{customdata[0]}\\u003cbr\\u003eZipcode=%{customdata[1]}\\u003cextra\\u003e\\u003c\\u002fextra\\u003e\",\"hovertext\":[\"Grapevine\",\"Plano\",\"Duluth\",\"Greenville\",\"Frisco\",\"Rockville\",\"Naperville\",\"Scottsdale\",\"Dallas\",\"Salt Lake City\",\"Vienna\",\"Las Vegas\",\"Norwood\",\"North Miami\",\"Chantilly\",\"Westmont\",\"Tempe\",\"Roswell\",\"Sterling\",\"Irving\"],\"lat\":[32.9343,33.0347,34.0029,34.8256,33.1507,39.059,41.764,33.5963,32.8462,40.723,38.9222,36.1398,42.1854,25.897,38.8912,41.7942,33.339,34.033,39.0022,32.8466],\"legendgroup\":\"\",\"lon\":[-97.0781,-96.8311,-84.1472,-82.3402,-96.8236,-77.1198,-88.149,-111.8915,-96.8269,-111.8927,-77.2565,-115.2337,-71.1995,-80.154,-77.4446,-87.9767,-111.9293,-84.3175,-77.4291,-96.9847],\"marker\":{\"color\":[69,65,63,48,46,43,42,39,38,35,34,33,32,31,31,31,30,30,30,29],\"coloraxis\":\"coloraxis\",\"size\":[69,65,63,48,46,43,42,39,38,35,34,33,32,31,31,31,30,30,30,29],\"sizemode\":\"area\",\"sizeref\":0.07666666666666666},\"mode\":\"markers\",\"name\":\"\",\"showlegend\":false,\"subplot\":\"mapbox\",\"type\":\"scattermapbox\"}],                        {\"template\":{\"data\":{\"histogram2dcontour\":[{\"type\":\"histogram2dcontour\",\"colorbar\":{\"outlinewidth\":0,\"ticks\":\"\"},\"colorscale\":[[0.0,\"#0d0887\"],[0.1111111111111111,\"#46039f\"],[0.2222222222222222,\"#7201a8\"],[0.3333333333333333,\"#9c179e\"],[0.4444444444444444,\"#bd3786\"],[0.5555555555555556,\"#d8576b\"],[0.6666666666666666,\"#ed7953\"],[0.7777777777777778,\"#fb9f3a\"],[0.8888888888888888,\"#fdca26\"],[1.0,\"#f0f921\"]]}],\"choropleth\":[{\"type\":\"choropleth\",\"colorbar\":{\"outlinewidth\":0,\"ticks\":\"\"}}],\"histogram2d\":[{\"type\":\"histogram2d\",\"colorbar\":{\"outlinewidth\":0,\"ticks\":\"\"},\"colorscale\":[[0.0,\"#0d0887\"],[0.1111111111111111,\"#46039f\"],[0.2222222222222222,\"#7201a8\"],[0.3333333333333333,\"#9c179e\"],[0.4444444444444444,\"#bd3786\"],[0.5555555555555556,\"#d8576b\"],[0.6666666666666666,\"#ed7953\"],[0.7777777777777778,\"#fb9f3a\"],[0.8888888888888888,\"#fdca26\"],[1.0,\"#f0f921\"]]}],\"heatmap\":[{\"type\":\"heatmap\",\"colorbar\":{\"outlinewidth\":0,\"ticks\":\"\"},\"colorscale\":[[0.0,\"#0d0887\"],[0.1111111111111111,\"#46039f\"],[0.2222222222222222,\"#7201a8\"],[0.3333333333333333,\"#9c179e\"],[0.4444444444444444,\"#bd3786\"],[0.5555555555555556,\"#d8576b\"],[0.6666666666666666,\"#ed7953\"],[0.7777777777777778,\"#fb9f3a\"],[0.8888888888888888,\"#fdca26\"],[1.0,\"#f0f921\"]]}],\"heatmapgl\":[{\"type\":\"heatmapgl\",\"colorbar\":{\"outlinewidth\":0,\"ticks\":\"\"},\"colorscale\":[[0.0,\"#0d0887\"],[0.1111111111111111,\"#46039f\"],[0.2222222222222222,\"#7201a8\"],[0.3333333333333333,\"#9c179e\"],[0.4444444444444444,\"#bd3786\"],[0.5555555555555556,\"#d8576b\"],[0.6666666666666666,\"#ed7953\"],[0.7777777777777778,\"#fb9f3a\"],[0.8888888888888888,\"#fdca26\"],[1.0,\"#f0f921\"]]}],\"contourcarpet\":[{\"type\":\"contourcarpet\",\"colorbar\":{\"outlinewidth\":0,\"ticks\":\"\"}}],\"contour\":[{\"type\":\"contour\",\"colorbar\":{\"outlinewidth\":0,\"ticks\":\"\"},\"colorscale\":[[0.0,\"#0d0887\"],[0.1111111111111111,\"#46039f\"],[0.2222222222222222,\"#7201a8\"],[0.3333333333333333,\"#9c179e\"],[0.4444444444444444,\"#bd3786\"],[0.5555555555555556,\"#d8576b\"],[0.6666666666666666,\"#ed7953\"],[0.7777777777777778,\"#fb9f3a\"],[0.8888888888888888,\"#fdca26\"],[1.0,\"#f0f921\"]]}],\"surface\":[{\"type\":\"surface\",\"colorbar\":{\"outlinewidth\":0,\"ticks\":\"\"},\"colorscale\":[[0.0,\"#0d0887\"],[0.1111111111111111,\"#46039f\"],[0.2222222222222222,\"#7201a8\"],[0.3333333333333333,\"#9c179e\"],[0.4444444444444444,\"#bd3786\"],[0.5555555555555556,\"#d8576b\"],[0.6666666666666666,\"#ed7953\"],[0.7777777777777778,\"#fb9f3a\"],[0.8888888888888888,\"#fdca26\"],[1.0,\"#f0f921\"]]}],\"mesh3d\":[{\"type\":\"mesh3d\",\"colorbar\":{\"outlinewidth\":0,\"ticks\":\"\"}}],\"scatter\":[{\"fillpattern\":{\"fillmode\":\"overlay\",\"size\":10,\"solidity\":0.2},\"type\":\"scatter\"}],\"parcoords\":[{\"type\":\"parcoords\",\"line\":{\"colorbar\":{\"outlinewidth\":0,\"ticks\":\"\"}}}],\"scatterpolargl\":[{\"type\":\"scatterpolargl\",\"marker\":{\"colorbar\":{\"outlinewidth\":0,\"ticks\":\"\"}}}],\"bar\":[{\"error_x\":{\"color\":\"#2a3f5f\"},\"error_y\":{\"color\":\"#2a3f5f\"},\"marker\":{\"line\":{\"color\":\"#E5ECF6\",\"width\":0.5},\"pattern\":{\"fillmode\":\"overlay\",\"size\":10,\"solidity\":0.2}},\"type\":\"bar\"}],\"scattergeo\":[{\"type\":\"scattergeo\",\"marker\":{\"colorbar\":{\"outlinewidth\":0,\"ticks\":\"\"}}}],\"scatterpolar\":[{\"type\":\"scatterpolar\",\"marker\":{\"colorbar\":{\"outlinewidth\":0,\"ticks\":\"\"}}}],\"histogram\":[{\"marker\":{\"pattern\":{\"fillmode\":\"overlay\",\"size\":10,\"solidity\":0.2}},\"type\":\"histogram\"}],\"scattergl\":[{\"type\":\"scattergl\",\"marker\":{\"colorbar\":{\"outlinewidth\":0,\"ticks\":\"\"}}}],\"scatter3d\":[{\"type\":\"scatter3d\",\"line\":{\"colorbar\":{\"outlinewidth\":0,\"ticks\":\"\"}},\"marker\":{\"colorbar\":{\"outlinewidth\":0,\"ticks\":\"\"}}}],\"scattermapbox\":[{\"type\":\"scattermapbox\",\"marker\":{\"colorbar\":{\"outlinewidth\":0,\"ticks\":\"\"}}}],\"scatterternary\":[{\"type\":\"scatterternary\",\"marker\":{\"colorbar\":{\"outlinewidth\":0,\"ticks\":\"\"}}}],\"scattercarpet\":[{\"type\":\"scattercarpet\",\"marker\":{\"colorbar\":{\"outlinewidth\":0,\"ticks\":\"\"}}}],\"carpet\":[{\"aaxis\":{\"endlinecolor\":\"#2a3f5f\",\"gridcolor\":\"white\",\"linecolor\":\"white\",\"minorgridcolor\":\"white\",\"startlinecolor\":\"#2a3f5f\"},\"baxis\":{\"endlinecolor\":\"#2a3f5f\",\"gridcolor\":\"white\",\"linecolor\":\"white\",\"minorgridcolor\":\"white\",\"startlinecolor\":\"#2a3f5f\"},\"type\":\"carpet\"}],\"table\":[{\"cells\":{\"fill\":{\"color\":\"#EBF0F8\"},\"line\":{\"color\":\"white\"}},\"header\":{\"fill\":{\"color\":\"#C8D4E3\"},\"line\":{\"color\":\"white\"}},\"type\":\"table\"}],\"barpolar\":[{\"marker\":{\"line\":{\"color\":\"#E5ECF6\",\"width\":0.5},\"pattern\":{\"fillmode\":\"overlay\",\"size\":10,\"solidity\":0.2}},\"type\":\"barpolar\"}],\"pie\":[{\"automargin\":true,\"type\":\"pie\"}]},\"layout\":{\"autotypenumbers\":\"strict\",\"colorway\":[\"#636efa\",\"#EF553B\",\"#00cc96\",\"#ab63fa\",\"#FFA15A\",\"#19d3f3\",\"#FF6692\",\"#B6E880\",\"#FF97FF\",\"#FECB52\"],\"font\":{\"color\":\"#2a3f5f\"},\"hovermode\":\"closest\",\"hoverlabel\":{\"align\":\"left\"},\"paper_bgcolor\":\"white\",\"plot_bgcolor\":\"#E5ECF6\",\"polar\":{\"bgcolor\":\"#E5ECF6\",\"angularaxis\":{\"gridcolor\":\"white\",\"linecolor\":\"white\",\"ticks\":\"\"},\"radialaxis\":{\"gridcolor\":\"white\",\"linecolor\":\"white\",\"ticks\":\"\"}},\"ternary\":{\"bgcolor\":\"#E5ECF6\",\"aaxis\":{\"gridcolor\":\"white\",\"linecolor\":\"white\",\"ticks\":\"\"},\"baxis\":{\"gridcolor\":\"white\",\"linecolor\":\"white\",\"ticks\":\"\"},\"caxis\":{\"gridcolor\":\"white\",\"linecolor\":\"white\",\"ticks\":\"\"}},\"coloraxis\":{\"colorbar\":{\"outlinewidth\":0,\"ticks\":\"\"}},\"colorscale\":{\"sequential\":[[0.0,\"#0d0887\"],[0.1111111111111111,\"#46039f\"],[0.2222222222222222,\"#7201a8\"],[0.3333333333333333,\"#9c179e\"],[0.4444444444444444,\"#bd3786\"],[0.5555555555555556,\"#d8576b\"],[0.6666666666666666,\"#ed7953\"],[0.7777777777777778,\"#fb9f3a\"],[0.8888888888888888,\"#fdca26\"],[1.0,\"#f0f921\"]],\"sequentialminus\":[[0.0,\"#0d0887\"],[0.1111111111111111,\"#46039f\"],[0.2222222222222222,\"#7201a8\"],[0.3333333333333333,\"#9c179e\"],[0.4444444444444444,\"#bd3786\"],[0.5555555555555556,\"#d8576b\"],[0.6666666666666666,\"#ed7953\"],[0.7777777777777778,\"#fb9f3a\"],[0.8888888888888888,\"#fdca26\"],[1.0,\"#f0f921\"]],\"diverging\":[[0,\"#8e0152\"],[0.1,\"#c51b7d\"],[0.2,\"#de77ae\"],[0.3,\"#f1b6da\"],[0.4,\"#fde0ef\"],[0.5,\"#f7f7f7\"],[0.6,\"#e6f5d0\"],[0.7,\"#b8e186\"],[0.8,\"#7fbc41\"],[0.9,\"#4d9221\"],[1,\"#276419\"]]},\"xaxis\":{\"gridcolor\":\"white\",\"linecolor\":\"white\",\"ticks\":\"\",\"title\":{\"standoff\":15},\"zerolinecolor\":\"white\",\"automargin\":true,\"zerolinewidth\":2},\"yaxis\":{\"gridcolor\":\"white\",\"linecolor\":\"white\",\"ticks\":\"\",\"title\":{\"standoff\":15},\"zerolinecolor\":\"white\",\"automargin\":true,\"zerolinewidth\":2},\"scene\":{\"xaxis\":{\"backgroundcolor\":\"#E5ECF6\",\"gridcolor\":\"white\",\"linecolor\":\"white\",\"showbackground\":true,\"ticks\":\"\",\"zerolinecolor\":\"white\",\"gridwidth\":2},\"yaxis\":{\"backgroundcolor\":\"#E5ECF6\",\"gridcolor\":\"white\",\"linecolor\":\"white\",\"showbackground\":true,\"ticks\":\"\",\"zerolinecolor\":\"white\",\"gridwidth\":2},\"zaxis\":{\"backgroundcolor\":\"#E5ECF6\",\"gridcolor\":\"white\",\"linecolor\":\"white\",\"showbackground\":true,\"ticks\":\"\",\"zerolinecolor\":\"white\",\"gridwidth\":2}},\"shapedefaults\":{\"line\":{\"color\":\"#2a3f5f\"}},\"annotationdefaults\":{\"arrowcolor\":\"#2a3f5f\",\"arrowhead\":0,\"arrowwidth\":1},\"geo\":{\"bgcolor\":\"white\",\"landcolor\":\"#E5ECF6\",\"subunitcolor\":\"white\",\"showland\":true,\"showlakes\":true,\"lakecolor\":\"white\"},\"title\":{\"x\":0.05},\"mapbox\":{\"style\":\"light\"}}},\"mapbox\":{\"domain\":{\"x\":[0.0,1.0],\"y\":[0.0,1.0]},\"center\":{\"lat\":35.94936499999999,\"lon\":-91.151285},\"zoom\":3,\"style\":\"open-street-map\"},\"coloraxis\":{\"colorbar\":{\"title\":{\"text\":\"Used_Car_Listings\"}},\"colorscale\":[[0.0,\"#440154\"],[0.1111111111111111,\"#482878\"],[0.2222222222222222,\"#3e4989\"],[0.3333333333333333,\"#31688e\"],[0.4444444444444444,\"#26828e\"],[0.5555555555555556,\"#1f9e89\"],[0.6666666666666666,\"#35b779\"],[0.7777777777777778,\"#6ece58\"],[0.8888888888888888,\"#b5de2b\"],[1.0,\"#fde725\"]]},\"legend\":{\"tracegroupgap\":0,\"itemsizing\":\"constant\"},\"margin\":{\"t\":60},\"title\":{\"text\":\"Top 20 ZIP Codes with Most Used Car Listings (with States)\"}},                        {\"responsive\": true}                    ).then(function(){\n",
       "                            \n",
       "var gd = document.getElementById('d38941b2-7c55-42e3-a282-d977b80618d4');\n",
       "var x = new MutationObserver(function (mutations, observer) {{\n",
       "        var display = window.getComputedStyle(gd).display;\n",
       "        if (!display || display === 'none') {{\n",
       "            console.log([gd, 'removed!']);\n",
       "            Plotly.purge(gd);\n",
       "            observer.disconnect();\n",
       "        }}\n",
       "}});\n",
       "\n",
       "// Listen for the removal of the full notebook cells\n",
       "var notebookContainer = gd.closest('#notebook-container');\n",
       "if (notebookContainer) {{\n",
       "    x.observe(notebookContainer, {childList: true});\n",
       "}}\n",
       "\n",
       "// Listen for the clearing of the current output cell\n",
       "var outputEl = gd.closest('.output');\n",
       "if (outputEl) {{\n",
       "    x.observe(outputEl, {childList: true});\n",
       "}}\n",
       "\n",
       "                        })                };                });            </script>        </div>"
      ]
     },
     "metadata": {},
     "output_type": "display_data"
    }
   ],
   "source": [
    "import pandas as pd\n",
    "import plotly.express as px\n",
    "\n",
    "# Top 20 ZIPs with City, State, Coordinates, and Listings\n",
    "data = [\n",
    "    (76051, 'Grapevine', 'TX', 32.9343, -97.0781, 69),\n",
    "    (75093, 'Plano', 'TX', 33.0347, -96.8311, 65),\n",
    "    (30096, 'Duluth', 'GA', 34.0029, -84.1472, 63),\n",
    "    (29607, 'Greenville', 'SC', 34.8256, -82.3402, 48),\n",
    "    (75034, 'Frisco', 'TX', 33.1507, -96.8236, 46),\n",
    "    (20852, 'Rockville', 'MD', 39.059, -77.1198, 43),\n",
    "    (60540, 'Naperville', 'IL', 41.764, -88.149, 42),\n",
    "    (85260, 'Scottsdale', 'AZ', 33.5963, -111.8915, 39),\n",
    "    (75209, 'Dallas', 'TX', 32.8462, -96.8269, 38),\n",
    "    (84115, 'Salt Lake City', 'UT', 40.723, -111.8927, 35),\n",
    "    (22182, 'Vienna', 'VA', 38.9222, -77.2565, 34),\n",
    "    (89146, 'Las Vegas', 'NV', 36.1398, -115.2337, 33),\n",
    "    (2062, 'Norwood', 'MA', 42.1854, -71.1995, 32),\n",
    "    (33181, 'North Miami', 'FL', 25.897, -80.154, 31),\n",
    "    (20151, 'Chantilly', 'VA', 38.8912, -77.4446, 31),\n",
    "    (60559, 'Westmont', 'IL', 41.7942, -87.9767, 31),\n",
    "    (85284, 'Tempe', 'AZ', 33.339, -111.9293, 30),\n",
    "    (30076, 'Roswell', 'GA', 34.033, -84.3175, 30),\n",
    "    (20166, 'Sterling', 'VA', 39.0022, -77.4291, 30),\n",
    "    (75062, 'Irving', 'TX', 32.8466, -96.9847, 29)\n",
    "]\n",
    "\n",
    "# Create DataFrame\n",
    "df_map = pd.DataFrame(data, columns=['Zipcode', 'City', 'State', 'Latitude', 'Longitude', 'Used_Car_Listings'])\n",
    "\n",
    "# Plot using Plotly\n",
    "fig = px.scatter_mapbox(\n",
    "    df_map,\n",
    "    lat=\"Latitude\",\n",
    "    lon=\"Longitude\",\n",
    "    hover_name=\"City\",\n",
    "    hover_data=[\"State\", \"Zipcode\", \"Used_Car_Listings\"],\n",
    "    size=\"Used_Car_Listings\",\n",
    "    color=\"Used_Car_Listings\",\n",
    "    color_continuous_scale=\"Viridis\",\n",
    "    size_max=30,\n",
    "    zoom=3\n",
    ")\n",
    "\n",
    "fig.update_layout(mapbox_style=\"open-street-map\")\n",
    "fig.update_layout(title=\"Top 20 ZIP Codes with Most Used Car Listings (with States)\")\n",
    "fig.show()\n"
   ]
  },
  {
   "cell_type": "code",
   "execution_count": 122,
   "id": "131e8f13-278b-4f1d-8ad1-0f6718e2d236",
   "metadata": {},
   "outputs": [],
   "source": [
    "# import pandas as pd\n",
    "# import plotly.express as px\n",
    "\n",
    "# # Top 20 ZIPs with City, State, Coordinates, and Listings\n",
    "# data = [\n",
    "#     (76051, 'Grapevine', 'TX', 32.9343, -97.0781, 69),\n",
    "#     (75093, 'Plano', 'TX', 33.0347, -96.8311, 65),\n",
    "#     (30096, 'Duluth', 'GA', 34.0029, -84.1472, 63),\n",
    "#     (29607, 'Greenville', 'SC', 34.8256, -82.3402, 48),\n",
    "#     (75034, 'Frisco', 'TX', 33.1507, -96.8236, 46),\n",
    "#     (20852, 'Rockville', 'MD', 39.059, -77.1198, 43),\n",
    "#     (60540, 'Naperville', 'IL', 41.764, -88.149, 42),\n",
    "#     (85260, 'Scottsdale', 'AZ', 33.5963, -111.8915, 39),\n",
    "#     (75209, 'Dallas', 'TX', 32.8462, -96.8269, 38),\n",
    "#     (84115, 'Salt Lake City', 'UT', 40.723, -111.8927, 35),\n",
    "#     (22182, 'Vienna', 'VA', 38.9222, -77.2565, 34),\n",
    "#     (89146, 'Las Vegas', 'NV', 36.1398, -115.2337, 33),\n",
    "#     (2062, 'Norwood', 'MA', 42.1854, -71.1995, 32),\n",
    "# #     (33181, 'North Miami', 'FL', 25.897, -80.154, 31),\n",
    "#     (20151, 'Chantilly', 'VA', 38.8912, -77.4446, 31),\n",
    "#     (60559, 'Westmont', 'IL', 41.7942, -87.9767, 31),\n",
    "#     (85284, 'Tempe', 'AZ', 33.339, -111.9293, 30),\n",
    "#     (30076, 'Roswell', 'GA', 34.033, -84.3175, 30),\n",
    "#     (20166, 'Sterling', 'VA', 39.0022, -77.4291, 30),\n",
    "#     (75062, 'Irving', 'TX', 32.8466, -96.9847, 29)\n",
    "# ]\n",
    "\n",
    "# # Create DataFrame\n",
    "# df_map = pd.DataFrame(data, columns=['Zipcode', 'City', 'State', 'Latitude', 'Longitude', 'Used_Car_Listings'])\n",
    "\n",
    "# # Create the map using scatter_geo (better spacing)\n",
    "# fig = px.scatter_geo(\n",
    "# #     df_map,\n",
    "#     lat=\"Latitude\",\n",
    "#     lon=\"Longitude\",\n",
    "#     hover_name=\"City\",\n",
    "#     hover_data=[\"State\", \"Zipcode\", \"Used_Car_Listings\"],\n",
    "#     size=\"Used_Car_Listings\",\n",
    "#     color=\"Used_Car_Listings\",\n",
    "#     color_continuous_scale=\"Viridis\",\n",
    "#     projection=\"natural earth\",\n",
    "#     scope=\"usa\"\n",
    "# )\n",
    "\n",
    "# # Update layout\n",
    "# fig.update_layout(\n",
    "#     title=\"Top 20 ZIP Codes with Most Used Car Listings (Less Overlap)\",\n",
    "#     geo=dict(showland=True)\n",
    "# )\n",
    "\n",
    "# # Show the map\n",
    "# fig.show()\n"
   ]
  },
  {
   "cell_type": "code",
   "execution_count": 144,
   "id": "3b0cbe60-f699-400a-8f95-16e1cc4e1a8a",
   "metadata": {},
   "outputs": [],
   "source": [
    "# import pandas as pd\n",
    "# import plotly.express as px\n",
    "\n",
    "# # Top 20 ZIPs with City, State, Coordinates, and Listings\n",
    "# data = [\n",
    "#     (76051, 'Grapevine', 'TX', 32.9343, -97.0781, 69),\n",
    "#     (75093, 'Plano', 'TX', 33.0347, -96.8311, 65),\n",
    "#     (30096, 'Duluth', 'GA', 34.0029, -84.1472, 63),\n",
    "#     (29607, 'Greenville', 'SC', 34.8256, -82.3402, 48),\n",
    "#     (75034, 'Frisco', 'TX', 33.1507, -96.8236, 46),\n",
    "# #     (20852, 'Rockville', 'MD', 39.059, -77.1198, 43),\n",
    "# #     (60540, 'Naperville', 'IL', 41.764, -88.149, 42),\n",
    "#     (85260, 'Scottsdale', 'AZ', 33.5963, -111.8915, 39),\n",
    "#     (75209, 'Dallas', 'TX', 32.8462, -96.8269, 38),\n",
    "#     (84115, 'Salt Lake City', 'UT', 40.723, -111.8927, 35),\n",
    "#     (22182, 'Vienna', 'VA', 38.9222, -77.2565, 34),\n",
    "#     (89146, 'Las Vegas', 'NV', 36.1398, -115.2337, 33),\n",
    "#     (2062, 'Norwood', 'MA', 42.1854, -71.1995, 32),\n",
    "#     (33181, 'North Miami', 'FL', 25.897, -80.154, 31),\n",
    "#     (20151, 'Chantilly', 'VA', 38.8912, -77.4446, 31),\n",
    "#     (60559, 'Westmont', 'IL', 41.7942, -87.9767, 31),\n",
    "#     (85284, 'Tempe', 'AZ', 33.339, -111.9293, 30),\n",
    "#     (30076, 'Roswell', 'GA', 34.033, -84.3175, 30),\n",
    "#     (20166, 'Sterling', 'VA', 39.0022, -77.4291, 30),\n",
    "# #     (75062, 'Irving', 'TX', 32.8466, -96.9847, 29)\n",
    "# # ]\n",
    "\n",
    "# # # Create DataFrame\n",
    "# # df_map = pd.DataFrame(data, columns=['Zipcode', 'City', 'State', 'Latitude', 'Longitude', 'Used_Car_Listings'])\n",
    "\n",
    "# # Drop any rows with missing values (just in case)\n",
    "# df_map = df_map.dropna(subset=[\"Latitude\", \"Longitude\", \"Used_Car_Listings\"])\n",
    "\n",
    "# # Create the map\n",
    "# fig = px.scatter_geo(\n",
    "#     df_map,\n",
    "#     lat=\"Latitude\",\n",
    "#     lon=\"Longitude\",\n",
    "#     hover_name=\"City\",\n",
    "#     hover_data=[\"State\", \"Zipcode\", \"Used_Car_Listings\"],\n",
    "#     size=\"Used_Car_Listings\",\n",
    "#     color=\"Used_Car_Listings\",\n",
    "# #     color_continuous_scale=\"Viridis\",\n",
    "#     projection=\"natural earth\",\n",
    "#     scope=\"usa\"\n",
    "# )\n",
    "\n",
    "# # Update layout\n",
    "# fig.update_layout(\n",
    "#     title=\"Top 20 ZIP Codes with Most Used Car Listings (Less Overlap)\",\n",
    "#     geo=dict(showland=True)\n",
    "# )\n",
    "\n",
    "# # Show the map\n",
    "# fig.show()\n",
    "\n"
   ]
  },
  {
   "cell_type": "code",
   "execution_count": 138,
   "id": "3312d023-abcc-4465-9512-dfacfc98a5c5",
   "metadata": {},
   "outputs": [],
   "source": [
    "# import pandas as pd\n",
    "# import plotly.express as px\n",
    "\n",
    "# # Top ZIPs with City, State, Lat/Lon, and Listings\n",
    "# data = [\n",
    "#     (76051, 'Grapevine', 'TX', 32.9343, -97.0781, 69),\n",
    "#     (75093, 'Plano', 'TX', 33.0347, -96.8311, 65),\n",
    "#     (30096, 'Duluth', 'GA', 34.0029, -84.1472, 63),\n",
    "#     (29607, 'Greenville', 'SC', 34.8256, -82.3402, 48),\n",
    "#     (75034, 'Frisco', 'TX', 33.1507, -96.8236, 46),\n",
    "#     (20852, 'Rockville', 'MD', 39.059, -77.1198, 43),\n",
    "#     (60540, 'Naperville', 'IL', 41.764, -88.149, 42),\n",
    "#     (85260, 'Scottsdale', 'AZ', 33.5963, -111.8915, 39),\n",
    "#     (75209, 'Dallas', 'TX', 32.8462, -96.8269, 38),\n",
    "#     (84115, 'Salt Lake City', 'UT', 40.723, -111.8927, 35),\n",
    "#     (22182, 'Vienna', 'VA', 38.9222, -77.2565, 34),\n",
    "#     (89146, 'Las Vegas', 'NV', 36.1398, -115.2337, 33),\n",
    "#     (2062, 'Norwood', 'MA', 42.1854, -71.1995, 32),\n",
    "#     (33181, 'North Miami', 'FL', 25.897, -80.154, 31),\n",
    "#     (20151, 'Chantilly', 'VA', 38.8912, -77.4446, 31),\n",
    "#     (60559, 'Westmont', 'IL', 41.7942, -87.9767, 31),\n",
    "#     (85284, 'Tempe', 'AZ', 33.339, -111.9293, 30),\n",
    "#     (30076, 'Roswell', 'GA', 34.033, -84.3175, 30),\n",
    "#     (20166, 'Sterling', 'VA', 39.0022, -77.4291, 30),\n",
    "#     (75062, 'Irving', 'TX', 32.8466, -96.9847, 29)\n",
    "# ]\n",
    "\n",
    "# # Create DataFrame\n",
    "# df_zip_map = pd.DataFrame(data, columns=['Zipcode', 'City', 'State', 'Latitude', 'Longitude', 'Used_Car_Listings'])\n",
    "\n",
    "# # Plot bubble map\n",
    "# fig = px.scatter_geo(\n",
    "#     df_zip_map,\n",
    "#     lat=\"Latitude\",\n",
    "#     lon=\"Longitude\",\n",
    "#     hover_name=\"City\",\n",
    "#     hover_data=[\"State\", \"Zipcode\", \"Used_Car_Listings\"],\n",
    "#     size=\"Used_Car_Listings\",\n",
    "#     color=\"Used_Car_Listings\",\n",
    "#     color_continuous_scale=\"Viridis\",\n",
    "#     projection=\"natural earth\",\n",
    "#     scope=\"usa\",\n",
    "#     size_max=25\n",
    "# )\n",
    "\n",
    "# fig.update_layout(\n",
    "#     title=\"Bubble Map: Top ZIP Codes by Used Car Listings\",\n",
    "#     geo=dict(showland=True),\n",
    "#     margin={\"r\":0,\"t\":40,\"l\":0,\"b\":0}\n",
    "# )\n",
    "\n",
    "# fig.show()\n"
   ]
  },
  {
   "cell_type": "code",
   "execution_count": 140,
   "id": "28d2b281-b78c-4d72-9c2e-76f333ac831c",
   "metadata": {},
   "outputs": [],
   "source": [
    "# # Ensure correct types\n",
    "# df_zip_map = df_zip_map.dropna(subset=[\"Latitude\", \"Longitude\", \"Used_Car_Listings\"])\n",
    "# df_zip_map = df_zip_map.astype({\n",
    "#     \"Latitude\": float,\n",
    "#     \"Longitude\": float,\n",
    "#     \"Used_Car_Listings\": int\n",
    "# })\n"
   ]
  },
  {
   "cell_type": "code",
   "execution_count": 142,
   "id": "dfdffff9-9fa4-4a54-85d0-b9d63546683e",
   "metadata": {},
   "outputs": [],
   "source": [
    "# import pandas as pd\n",
    "# import plotly.express as px\n",
    "\n",
    "# # ZIP data\n",
    "# data = [\n",
    "#     (76051, 'Grapevine', 'TX', 32.9343, -97.0781, 69),\n",
    "#     (75093, 'Plano', 'TX', 33.0347, -96.8311, 65),\n",
    "#     (30096, 'Duluth', 'GA', 34.0029, -84.1472, 63),\n",
    "#     (29607, 'Greenville', 'SC', 34.8256, -82.3402, 48),\n",
    "#     (75034, 'Frisco', 'TX', 33.1507, -96.8236, 46),\n",
    "#     (20852, 'Rockville', 'MD', 39.059, -77.1198, 43),\n",
    "#     (60540, 'Naperville', 'IL', 41.764, -88.149, 42),\n",
    "#     (85260, 'Scottsdale', 'AZ', 33.5963, -111.8915, 39),\n",
    "#     (75209, 'Dallas', 'TX', 32.8462, -96.8269, 38),\n",
    "#     (84115, 'Salt Lake City', 'UT', 40.723, -111.8927, 35),\n",
    "#     (22182, 'Vienna', 'VA', 38.9222, -77.2565, 34),\n",
    "#     (89146, 'Las Vegas', 'NV', 36.1398, -115.2337, 33),\n",
    "#     (2062, 'Norwood', 'MA', 42.1854, -71.1995, 32),\n",
    "#     (33181, 'North Miami', 'FL', 25.897, -80.154, 31),\n",
    "#     (20151, 'Chantilly', 'VA', 38.8912, -77.4446, 31),\n",
    "#     (60559, 'Westmont', 'IL', 41.7942, -87.9767, 31),\n",
    "#     (85284, 'Tempe', 'AZ', 33.339, -111.9293, 30),\n",
    "#     (30076, 'Roswell', 'GA', 34.033, -84.3175, 30),\n",
    "#     (20166, 'Sterling', 'VA', 39.0022, -77.4291, 30),\n",
    "#     (75062, 'Irving', 'TX', 32.8466, -96.9847, 29)\n",
    "# ]\n",
    "\n",
    "# # Create DataFrame\n",
    "# df_zip_map = pd.DataFrame(data, columns=['Zipcode', 'City', 'State', 'Latitude', 'Longitude', 'Used_Car_Listings'])\n",
    "\n",
    "# # ✅ Clean data to avoid JavaScript error\n",
    "# df_zip_map = df_zip_map.dropna(subset=[\"Latitude\", \"Longitude\", \"Used_Car_Listings\"])\n",
    "# df_zip_map = df_zip_map.astype({\n",
    "#     \"Latitude\": float,\n",
    "#     \"Longitude\": float,\n",
    "#     \"Used_Car_Listings\": int\n",
    "# })\n",
    "\n",
    "# # Plot\n",
    "# fig = px.scatter_geo(\n",
    "#     df_zip_map,\n",
    "#     lat=\"Latitude\",\n",
    "#     lon=\"Longitude\",\n",
    "#     hover_name=\"City\",\n",
    "#     hover_data=[\"State\", \"Zipcode\", \"Used_Car_Listings\"],\n",
    "#     size=\"Used_Car_Listings\",\n",
    "#     color=\"Used_Car_Listings\",\n",
    "#     color_continuous_scale=\"Viridis\",\n",
    "#     projection=\"natural earth\",\n",
    "#     scope=\"usa\",\n",
    "#     size_max=25\n",
    "# )\n",
    "\n",
    "# fig.update_layout(\n",
    "#     title=\"Bubble Map: Top ZIP Codes by Used Car Listings\",\n",
    "#     geo=dict(showland=True),\n",
    "#     margin={\"r\":0,\"t\":40,\"l\":0,\"b\":0}\n",
    "# )\n",
    "\n",
    "# fig.show()\n"
   ]
  },
  {
   "cell_type": "code",
   "execution_count": null,
   "id": "ca5372a8-68dc-40bf-9891-78f5ac5c5a89",
   "metadata": {},
   "outputs": [],
   "source": []
  },
  {
   "cell_type": "code",
   "execution_count": null,
   "id": "fbefb5ca-e7f8-4f4f-a934-f71ca17e0a5b",
   "metadata": {},
   "outputs": [],
   "source": []
  },
  {
   "cell_type": "code",
   "execution_count": null,
   "id": "fdee8164-a225-4d68-ba7a-28510dd64d67",
   "metadata": {},
   "outputs": [],
   "source": [
    "\n"
   ]
  },
  {
   "cell_type": "code",
   "execution_count": null,
   "id": "594c80d5-5ea7-4cc0-aac6-42fe597c21b0",
   "metadata": {},
   "outputs": [],
   "source": []
  }
 ],
 "metadata": {
  "kernelspec": {
   "display_name": "Python [conda env:base] *",
   "language": "python",
   "name": "conda-base-py"
  },
  "language_info": {
   "codemirror_mode": {
    "name": "ipython",
    "version": 3
   },
   "file_extension": ".py",
   "mimetype": "text/x-python",
   "name": "python",
   "nbconvert_exporter": "python",
   "pygments_lexer": "ipython3",
   "version": "3.12.7"
  }
 },
 "nbformat": 4,
 "nbformat_minor": 5
}
