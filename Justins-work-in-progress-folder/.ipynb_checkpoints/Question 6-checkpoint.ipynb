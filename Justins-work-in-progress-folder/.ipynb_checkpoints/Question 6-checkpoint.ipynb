{
 "cells": [
  {
   "cell_type": "code",
   "execution_count": null,
   "id": "73c16885-7c7f-48ec-bc17-aafb45396677",
   "metadata": {},
   "outputs": [],
   "source": [
    "import pandas as pd\n",
    "import numpy as np"
   ]
  },
  {
   "cell_type": "code",
   "execution_count": null,
   "id": "143367e5-4133-4e6f-b124-35ffff8f276b",
   "metadata": {},
   "outputs": [],
   "source": [
    "car_sale = pd.read_csv(r\"C:\\Users\\shayj\\Downloads\\Online_Cars_Sale_Marketplace (2).csv\")"
   ]
  },
  {
   "cell_type": "code",
   "execution_count": null,
   "id": "cd07fb7c-1f07-4adc-bed5-c72baef689ba",
   "metadata": {},
   "outputs": [],
   "source": [
    "car_sale = car_sale[car_sale['Price'] != 'Not Priced'] ## remove 'Not Priced' rows\n",
    "car_sale['Price'] = car_sale['Price'].replace(r'[,$]', '', regex=True)  ## remove special characters $ and , \n",
    "car_sale['Price'] = car_sale['Price'].astype(int) \n",
    "car_sale['Used/New'] = car_sale['Used/New'].replace(r'.*Certified.*', 'Certified', regex=True) ## change all Certified to just Certified\n",
    "car_sale[car_sale['Drivetrain'] != \"-\"] ## remove \"-\" in Drivetrain column\n",
    "Min = car_sale['MinMPG']\n",
    "Max = car_sale['MaxMPG']\n",
    "car_sale['MaxMPG'] = np.maximum(Min, Max)\n",
    "car_sale['MinMPG'] = np.minimum(Min, Max) ## Fix the min and max being in the wrong column\n",
    "car_sale.drop(car_sale[(car_sale['MinMPG'] == 0)&(car_sale['MaxMPG'] == 0)].index, inplace = True) ## remove rows where min and max MPG are 0 \n",
    "car_sale = car_sale.drop_duplicates() ## remove duplicates\n",
    "car_sale            #Andrews clean data, will be using it to try and answer my question"
   ]
  },
  {
   "cell_type": "code",
   "execution_count": null,
   "id": "be808de8-b7cd-4a55-be74-e4700bea59be",
   "metadata": {},
   "outputs": [],
   "source": [
    "car_sale"
   ]
  },
  {
   "cell_type": "code",
   "execution_count": null,
   "id": "8b0961ed-adec-4323-a89d-5029be5aa709",
   "metadata": {},
   "outputs": [],
   "source": []
  }
 ],
 "metadata": {
  "kernelspec": {
   "display_name": "Python [conda env:base] *",
   "language": "python",
   "name": "conda-base-py"
  },
  "language_info": {
   "codemirror_mode": {
    "name": "ipython",
    "version": 3
   },
   "file_extension": ".py",
   "mimetype": "text/x-python",
   "name": "python",
   "nbconvert_exporter": "python",
   "pygments_lexer": "ipython3",
   "version": "3.12.7"
  }
 },
 "nbformat": 4,
 "nbformat_minor": 5
}
